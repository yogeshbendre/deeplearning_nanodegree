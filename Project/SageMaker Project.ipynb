{
 "cells": [
  {
   "cell_type": "markdown",
   "metadata": {},
   "source": [
    "# Creating a Sentiment Analysis Web App\n",
    "## Using PyTorch and SageMaker\n",
    "\n",
    "_Deep Learning Nanodegree Program | Deployment_\n",
    "\n",
    "---\n",
    "\n",
    "Now that we have a basic understanding of how SageMaker works we will try to use it to construct a complete project from end to end. Our goal will be to have a simple web page which a user can use to enter a movie review. The web page will then send the review off to our deployed model which will predict the sentiment of the entered review.\n",
    "\n",
    "## Instructions\n",
    "\n",
    "Some template code has already been provided for you, and you will need to implement additional functionality to successfully complete this notebook. You will not need to modify the included code beyond what is requested. Sections that begin with '**TODO**' in the header indicate that you need to complete or implement some portion within them. Instructions will be provided for each section and the specifics of the implementation are marked in the code block with a `# TODO: ...` comment. Please be sure to read the instructions carefully!\n",
    "\n",
    "In addition to implementing code, there will be questions for you to answer which relate to the task and your implementation. Each section where you will answer a question is preceded by a '**Question:**' header. Carefully read each question and provide your answer below the '**Answer:**' header by editing the Markdown cell.\n",
    "\n",
    "> **Note**: Code and Markdown cells can be executed using the **Shift+Enter** keyboard shortcut. In addition, a cell can be edited by typically clicking it (double-click for Markdown cells) or by pressing **Enter** while it is highlighted.\n",
    "\n",
    "## General Outline\n",
    "\n",
    "Recall the general outline for SageMaker projects using a notebook instance.\n",
    "\n",
    "1. Download or otherwise retrieve the data.\n",
    "2. Process / Prepare the data.\n",
    "3. Upload the processed data to S3.\n",
    "4. Train a chosen model.\n",
    "5. Test the trained model (typically using a batch transform job).\n",
    "6. Deploy the trained model.\n",
    "7. Use the deployed model.\n",
    "\n",
    "For this project, you will be following the steps in the general outline with some modifications. \n",
    "\n",
    "First, you will not be testing the model in its own step. You will still be testing the model, however, you will do it by deploying your model and then using the deployed model by sending the test data to it. One of the reasons for doing this is so that you can make sure that your deployed model is working correctly before moving forward.\n",
    "\n",
    "In addition, you will deploy and use your trained model a second time. In the second iteration you will customize the way that your trained model is deployed by including some of your own code. In addition, your newly deployed model will be used in the sentiment analysis web app."
   ]
  },
  {
   "cell_type": "markdown",
   "metadata": {},
   "source": [
    "## Step 1: Downloading the data\n",
    "\n",
    "As in the XGBoost in SageMaker notebook, we will be using the [IMDb dataset](http://ai.stanford.edu/~amaas/data/sentiment/)\n",
    "\n",
    "> Maas, Andrew L., et al. [Learning Word Vectors for Sentiment Analysis](http://ai.stanford.edu/~amaas/data/sentiment/). In _Proceedings of the 49th Annual Meeting of the Association for Computational Linguistics: Human Language Technologies_. Association for Computational Linguistics, 2011."
   ]
  },
  {
   "cell_type": "code",
   "execution_count": 1,
   "metadata": {},
   "outputs": [
    {
     "name": "stdout",
     "output_type": "stream",
     "text": [
      "--2019-01-18 06:33:54--  http://ai.stanford.edu/~amaas/data/sentiment/aclImdb_v1.tar.gz\n",
      "Resolving ai.stanford.edu (ai.stanford.edu)... 171.64.68.10\n",
      "Connecting to ai.stanford.edu (ai.stanford.edu)|171.64.68.10|:80... connected.\n",
      "HTTP request sent, awaiting response... 200 OK\n",
      "Length: 84125825 (80M) [application/x-gzip]\n",
      "Saving to: ‘../data/aclImdb_v1.tar.gz’\n",
      "\n",
      "../data/aclImdb_v1. 100%[===================>]  80.23M  24.5MB/s    in 3.8s    \n",
      "\n",
      "2019-01-18 06:33:58 (21.0 MB/s) - ‘../data/aclImdb_v1.tar.gz’ saved [84125825/84125825]\n",
      "\n"
     ]
    }
   ],
   "source": [
    "%mkdir ../data\n",
    "!wget -O ../data/aclImdb_v1.tar.gz http://ai.stanford.edu/~amaas/data/sentiment/aclImdb_v1.tar.gz\n",
    "!tar -zxf ../data/aclImdb_v1.tar.gz -C ../data"
   ]
  },
  {
   "cell_type": "markdown",
   "metadata": {},
   "source": [
    "## Step 2: Preparing and Processing the data\n",
    "\n",
    "Also, as in the XGBoost notebook, we will be doing some initial data processing. The first few steps are the same as in the XGBoost example. To begin with, we will read in each of the reviews and combine them into a single input structure. Then, we will split the dataset into a training set and a testing set."
   ]
  },
  {
   "cell_type": "code",
   "execution_count": 4,
   "metadata": {},
   "outputs": [],
   "source": [
    "import os\n",
    "import glob\n",
    "\n",
    "def read_imdb_data(data_dir='../data/aclImdb'):\n",
    "    data = {}\n",
    "    labels = {}\n",
    "    \n",
    "    for data_type in ['train', 'test']:\n",
    "        data[data_type] = {}\n",
    "        labels[data_type] = {}\n",
    "        \n",
    "        for sentiment in ['pos', 'neg']:\n",
    "            data[data_type][sentiment] = []\n",
    "            labels[data_type][sentiment] = []\n",
    "            \n",
    "            path = os.path.join(data_dir, data_type, sentiment, '*.txt')\n",
    "            files = glob.glob(path)\n",
    "            \n",
    "            for f in files:\n",
    "                with open(f) as review:\n",
    "                    data[data_type][sentiment].append(review.read())\n",
    "                    # Here we represent a positive review by '1' and a negative review by '0'\n",
    "                    labels[data_type][sentiment].append(1 if sentiment == 'pos' else 0)\n",
    "                    \n",
    "            assert len(data[data_type][sentiment]) == len(labels[data_type][sentiment]), \\\n",
    "                    \"{}/{} data size does not match labels size\".format(data_type, sentiment)\n",
    "                \n",
    "    return data, labels"
   ]
  },
  {
   "cell_type": "code",
   "execution_count": 5,
   "metadata": {},
   "outputs": [
    {
     "name": "stdout",
     "output_type": "stream",
     "text": [
      "IMDB reviews: train = 12500 pos / 12500 neg, test = 12500 pos / 12500 neg\n"
     ]
    }
   ],
   "source": [
    "data, labels = read_imdb_data()\n",
    "print(\"IMDB reviews: train = {} pos / {} neg, test = {} pos / {} neg\".format(\n",
    "            len(data['train']['pos']), len(data['train']['neg']),\n",
    "            len(data['test']['pos']), len(data['test']['neg'])))"
   ]
  },
  {
   "cell_type": "markdown",
   "metadata": {},
   "source": [
    "Now that we've read the raw training and testing data from the downloaded dataset, we will combine the positive and negative reviews and shuffle the resulting records."
   ]
  },
  {
   "cell_type": "code",
   "execution_count": 6,
   "metadata": {},
   "outputs": [],
   "source": [
    "from sklearn.utils import shuffle\n",
    "\n",
    "def prepare_imdb_data(data, labels):\n",
    "    \"\"\"Prepare training and test sets from IMDb movie reviews.\"\"\"\n",
    "    \n",
    "    #Combine positive and negative reviews and labels\n",
    "    data_train = data['train']['pos'] + data['train']['neg']\n",
    "    data_test = data['test']['pos'] + data['test']['neg']\n",
    "    labels_train = labels['train']['pos'] + labels['train']['neg']\n",
    "    labels_test = labels['test']['pos'] + labels['test']['neg']\n",
    "    \n",
    "    #Shuffle reviews and corresponding labels within training and test sets\n",
    "    data_train, labels_train = shuffle(data_train, labels_train)\n",
    "    data_test, labels_test = shuffle(data_test, labels_test)\n",
    "    \n",
    "    # Return a unified training data, test data, training labels, test labets\n",
    "    return data_train, data_test, labels_train, labels_test"
   ]
  },
  {
   "cell_type": "code",
   "execution_count": 7,
   "metadata": {},
   "outputs": [
    {
     "name": "stdout",
     "output_type": "stream",
     "text": [
      "IMDb reviews (combined): train = 25000, test = 25000\n"
     ]
    }
   ],
   "source": [
    "train_X, test_X, train_y, test_y = prepare_imdb_data(data, labels)\n",
    "print(\"IMDb reviews (combined): train = {}, test = {}\".format(len(train_X), len(test_X)))"
   ]
  },
  {
   "cell_type": "markdown",
   "metadata": {},
   "source": [
    "Now that we have our training and testing sets unified and prepared, we should do a quick check and see an example of the data our model will be trained on. This is generally a good idea as it allows you to see how each of the further processing steps affects the reviews and it also ensures that the data has been loaded correctly."
   ]
  },
  {
   "cell_type": "code",
   "execution_count": 8,
   "metadata": {},
   "outputs": [
    {
     "name": "stdout",
     "output_type": "stream",
     "text": [
      "This is the most ludicrous and laughable thriller I've ever seen. Oh....where to start....<br /><br />Plot (what little there is): Clayton Beresford Jr. (Hayden Christensen), a young billionaire, with a bad heart is desperately in need of a transplant. Clay has been secretly engaged to his mother's PA, Samantha, played by Jessica Alba. On the night that these two secretly get married, it just so happens that a heart donor with the same rare blood type is found. Go and figure the odds of that one! Once on the operating table, Clay finds out the anesthesia isn't working, and he can feel everything and hear everything.<br /><br />Fortunately Clay seems to be able to filter out the pain of a razor sharp scalpel cutting open his chest by simply concentrating on his memories of Samantha, which we are told he's doing through an annoying voice-over which never seems to stop.<br /><br />If you didn't burst out in laughter yet, you will surely start to when you see the surgical scenes. <br /><br />How could a young billionaire agree to have a heart transplant performed by one surgeon, one nurse, an attending physician and an drunk anesthesiologist? There were more people in the room when my wisdom tooth was getting pulled. Not to mention the medical behavior, which is too preposterous to be taken seriously...the operating room isn't even kept sterile...people are practically able to just walk in and out of the room without even having washed up... During the operation the viewer gets to hear Clay's thoughts, none of which are too fascinating. Ah...but here's what it's all about ...the doctors are trying to kill him in order to take his money. Believing him to be unconscious, the villains speak freely. Gosh! What will happen? <br /><br />Well... at least there's no interference from anyone else in the hospital, while an incompetent doctor who's got four malpractice lawsuits running against him is performing major heart surgery. Not even Clay's overprotective mother seems to be able to check on his status. The only one interested in keeping updated is Samantha...but oh no...could sweet Sam be in on it....You'll quickly find out through some Scooby Doo dialog...<br /><br />In the end, it wouldn't even matter whether or not Clay underwent anesthesia awareness, because the end would have turned out the same way in both cases.<br /><br />If you can ignore the feeling that the director/writer is trying to make fun of the patients who fell victim to anesthesia awareness, maybe there's some dumb fun to be had...<br /><br />Enjoy...\n",
      "0\n"
     ]
    }
   ],
   "source": [
    "print(train_X[100])\n",
    "print(train_y[100])"
   ]
  },
  {
   "cell_type": "markdown",
   "metadata": {},
   "source": [
    "The first step in processing the reviews is to make sure that any html tags that appear should be removed. In addition we wish to tokenize our input, that way words such as *entertained* and *entertaining* are considered the same with regard to sentiment analysis."
   ]
  },
  {
   "cell_type": "code",
   "execution_count": 9,
   "metadata": {},
   "outputs": [],
   "source": [
    "import nltk\n",
    "from nltk.corpus import stopwords\n",
    "from nltk.stem.porter import *\n",
    "\n",
    "import re\n",
    "from bs4 import BeautifulSoup\n",
    "\n",
    "def review_to_words(review):\n",
    "    nltk.download(\"stopwords\", quiet=True)\n",
    "    stemmer = PorterStemmer()\n",
    "    \n",
    "    text = BeautifulSoup(review, \"html.parser\").get_text() # Remove HTML tags\n",
    "    text = re.sub(r\"[^a-zA-Z0-9]\", \" \", text.lower()) # Convert to lower case\n",
    "    words = text.split() # Split string into words\n",
    "    words = [w for w in words if w not in stopwords.words(\"english\")] # Remove stopwords\n",
    "    words = [PorterStemmer().stem(w) for w in words] # stem\n",
    "    \n",
    "    return words"
   ]
  },
  {
   "cell_type": "markdown",
   "metadata": {},
   "source": [
    "The `review_to_words` method defined above uses `BeautifulSoup` to remove any html tags that appear and uses the `nltk` package to tokenize the reviews. As a check to ensure we know how everything is working, try applying `review_to_words` to one of the reviews in the training set."
   ]
  },
  {
   "cell_type": "code",
   "execution_count": 9,
   "metadata": {},
   "outputs": [
    {
     "name": "stdout",
     "output_type": "stream",
     "text": [
      "['film', 'deal', 'bigotri', 'posit', 'manner', 'film', 'still', 'seen', 'current', 'audienc', 'messag', 'moral', 'stori', 'alway', 'relev', 'long', 'world', 'full', 'bigotri', 'asid', 'film', 'realli', 'old', 'fashion', 'love', 'stori', 'boy', 'meet', 'girl', 'boy', 'lose', 'girl', 'boy', 'get', 'girl', 'back', 'weakest', 'role', 'goe', 'late', 'kent', 'smith', 'lt', 'gener', 'webster', 'riccardo', 'montalban', 'close', 'second', 'question', 'would', 'ever', 'get', '3', 'star', 'gener', 'charact', 'wimp', 'presenc', 'wife', 'militari', 'subordin', 'wonder', 'show', 'respect', 'brando', 'southern', 'accent', 'littl', 'overdon', 'scene', 'hole', 'overal', 'enjoy', 'film', 'everi', 'time', 'see', 'red', 'button', 'great', 'alway', 'love', 'see', 'comedian', 'dramat', 'role', 'button', 'case', 'often', 'comedian', 'better', 'portray', 'tragedi', 'person', 'tradit', 'dramat', 'actor']\n"
     ]
    }
   ],
   "source": [
    "# TODO: Apply review_to_words to a review (train_X[100] or any other review)\n",
    "print(review_to_words(train_X[100]))\n"
   ]
  },
  {
   "cell_type": "markdown",
   "metadata": {},
   "source": [
    "**Question:** Above we mentioned that `review_to_words` method removes html formatting and allows us to tokenize the words found in a review, for example, converting *entertained* and *entertaining* into *entertain* so that they are treated as though they are the same word. What else, if anything, does this method do to the input?"
   ]
  },
  {
   "cell_type": "markdown",
   "metadata": {},
   "source": [
    "**Answer:**\n",
    "\n",
    "1. It removes the stopwords like \"The\", \"Any\", etc. These words do not convey any specific information about the sentiment of the review.\n",
    "2. It converts all the words into lower case, so that we can be sure to match \"good\" to \"Good\".\n",
    "3. It removes html tags.\n",
    "4. It stems the words. (entertainment -> entertain)"
   ]
  },
  {
   "cell_type": "markdown",
   "metadata": {},
   "source": [
    "The method below applies the `review_to_words` method to each of the reviews in the training and testing datasets. In addition it caches the results. This is because performing this processing step can take a long time. This way if you are unable to complete the notebook in the current session, you can come back without needing to process the data a second time."
   ]
  },
  {
   "cell_type": "code",
   "execution_count": 10,
   "metadata": {},
   "outputs": [],
   "source": [
    "import pickle\n",
    "import os\n",
    "cache_dir = os.path.join(\"../cache\", \"sentiment_analysis\")  # where to store cache files\n",
    "os.makedirs(cache_dir, exist_ok=True)  # ensure cache directory exists\n",
    "\n",
    "def preprocess_data(data_train, data_test, labels_train, labels_test,\n",
    "                    cache_dir=cache_dir, cache_file=\"preprocessed_data.pkl\"):\n",
    "    \"\"\"Convert each review to words; read from cache if available.\"\"\"\n",
    "\n",
    "    # If cache_file is not None, try to read from it first\n",
    "    cache_data = None\n",
    "    if cache_file is not None:\n",
    "        try:\n",
    "            with open(os.path.join(cache_dir, cache_file), \"rb\") as f:\n",
    "                cache_data = pickle.load(f)\n",
    "            print(\"Read preprocessed data from cache file:\", cache_file)\n",
    "        except:\n",
    "            pass  # unable to read from cache, but that's okay\n",
    "    \n",
    "    # If cache is missing, then do the heavy lifting\n",
    "    if cache_data is None:\n",
    "        # Preprocess training and test data to obtain words for each review\n",
    "        #words_train = list(map(review_to_words, data_train))\n",
    "        #words_test = list(map(review_to_words, data_test))\n",
    "        words_train = [review_to_words(review) for review in data_train]\n",
    "        words_test = [review_to_words(review) for review in data_test]\n",
    "        \n",
    "        # Write to cache file for future runs\n",
    "        if cache_file is not None:\n",
    "            cache_data = dict(words_train=words_train, words_test=words_test,\n",
    "                              labels_train=labels_train, labels_test=labels_test)\n",
    "            with open(os.path.join(cache_dir, cache_file), \"wb\") as f:\n",
    "                pickle.dump(cache_data, f)\n",
    "            print(\"Wrote preprocessed data to cache file:\", cache_file)\n",
    "    else:\n",
    "        # Unpack data loaded from cache file\n",
    "        words_train, words_test, labels_train, labels_test = (cache_data['words_train'],\n",
    "                cache_data['words_test'], cache_data['labels_train'], cache_data['labels_test'])\n",
    "    \n",
    "    return words_train, words_test, labels_train, labels_test"
   ]
  },
  {
   "cell_type": "code",
   "execution_count": 11,
   "metadata": {},
   "outputs": [
    {
     "name": "stdout",
     "output_type": "stream",
     "text": [
      "Read preprocessed data from cache file: preprocessed_data.pkl\n"
     ]
    }
   ],
   "source": [
    "# Preprocess data\n",
    "train_X, test_X, train_y, test_y = preprocess_data(train_X, test_X, train_y, test_y)"
   ]
  },
  {
   "cell_type": "markdown",
   "metadata": {},
   "source": [
    "## Transform the data\n",
    "\n",
    "In the XGBoost notebook we transformed the data from its word representation to a bag-of-words feature representation. For the model we are going to construct in this notebook we will construct a feature representation which is very similar. To start, we will represent each word as an integer. Of course, some of the words that appear in the reviews occur very infrequently and so likely don't contain much information for the purposes of sentiment analysis. The way we will deal with this problem is that we will fix the size of our working vocabulary and we will only include the words that appear most frequently. We will then combine all of the infrequent words into a single category and, in our case, we will label it as `1`.\n",
    "\n",
    "Since we will be using a recurrent neural network, it will be convenient if the length of each review is the same. To do this, we will fix a size for our reviews and then pad short reviews with the category 'no word' (which we will label `0`) and truncate long reviews."
   ]
  },
  {
   "cell_type": "markdown",
   "metadata": {},
   "source": [
    "### (TODO) Create a word dictionary\n",
    "\n",
    "To begin with, we need to construct a way to map words that appear in the reviews to integers. Here we fix the size of our vocabulary (including the 'no word' and 'infrequent' categories) to be `5000` but you may wish to change this to see how it affects the model.\n",
    "\n",
    "> **TODO:** Complete the implementation for the `build_dict()` method below. Note that even though the vocab_size is set to `5000`, we only want to construct a mapping for the most frequently appearing `4998` words. This is because we want to reserve the special labels `0` for 'no word' and `1` for 'infrequent word'."
   ]
  },
  {
   "cell_type": "code",
   "execution_count": 12,
   "metadata": {},
   "outputs": [],
   "source": [
    "import numpy as np\n",
    "from collections import Counter\n",
    "def build_dict(data, vocab_size = 5000):\n",
    "    \"\"\"Construct and return a dictionary mapping each of the most frequently appearing words to a unique integer.\"\"\"\n",
    "    \n",
    "    # TODO: Determine how often each word appears in `data`. Note that `data` is a list of sentences and that a\n",
    "    #       sentence is a list of words.\n",
    "    \n",
    "    word_count = {} # A dict storing the words that appear in the reviews along with how often they occur\n",
    "    \n",
    "    # TODO: Sort the words found in `data` so that sorted_words[0] is the most frequently appearing word and\n",
    "    #       sorted_words[-1] is the least frequently appearing word.\n",
    "    \n",
    "    \n",
    "    cnt = Counter()\n",
    "    \n",
    "    for r in data:\n",
    "        cnt = cnt + Counter(r)\n",
    "    \n",
    "    sorted_words = sorted(cnt, key=cnt.get, reverse=True)\n",
    "\n",
    "    \n",
    "    word_dict = {} # This is what we are building, a dictionary that translates words into integers\n",
    "    for idx, word in enumerate(sorted_words[:vocab_size - 2]): # The -2 is so that we save room for the 'no word'\n",
    "        word_dict[word] = idx + 2                              # 'infrequent' labels\n",
    "        \n",
    "    return word_dict"
   ]
  },
  {
   "cell_type": "code",
   "execution_count": 13,
   "metadata": {},
   "outputs": [],
   "source": [
    "data_dir = '../data/pytorch' # The folder we will use for storing data\n",
    "if not os.path.exists(data_dir): # Make sure that the folder exists\n",
    "    os.makedirs(data_dir)"
   ]
  },
  {
   "cell_type": "code",
   "execution_count": 17,
   "metadata": {},
   "outputs": [
    {
     "name": "stdout",
     "output_type": "stream",
     "text": [
      "Ran out of input\n",
      "Did not find saved data, recreate dict\n"
     ]
    }
   ],
   "source": [
    "word_dict = {}\n",
    "try:\n",
    "    with open(os.path.join(data_dir, 'word_dict.pkl'), \"rb\") as f:\n",
    "        word_dict = pickle.load(f)\n",
    "        print('Found saved dict.')\n",
    "except Exception as e:\n",
    "    print(str(e))\n",
    "    print('Did not find saved data, recreate dict')\n",
    "    word_dict = build_dict(train_X)\n",
    "#a=[['hello','world'],['kitty','says','hello'],['hello','kitty']]\n",
    "#word_dict = build_dict(a)\n",
    "#print(sorted_words)\n"
   ]
  },
  {
   "cell_type": "markdown",
   "metadata": {},
   "source": [
    "**Question:** What are the five most frequently appearing (tokenized) words in the training set? Does it makes sense that these words appear frequently in the training set?"
   ]
  },
  {
   "cell_type": "markdown",
   "metadata": {},
   "source": [
    "**Answer:**\n",
    "\n",
    "Following seem to be the top 5 words:\n",
    "\n",
    "1. 'movi'\n",
    "2. 'film'\n",
    "3. 'one'\n",
    "4. 'like'\n",
    "5. 'time'\n",
    "\n",
    "The words movi, film seem to make sense, others not so much.\n"
   ]
  },
  {
   "cell_type": "code",
   "execution_count": 18,
   "metadata": {},
   "outputs": [
    {
     "name": "stdout",
     "output_type": "stream",
     "text": [
      "{'movi': 2, 'film': 3, 'one': 4, 'like': 5, 'time': 6, 'good': 7, 'make': 8, 'charact': 9, 'get': 10, 'see': 11, 'watch': 12, 'stori': 13, 'even': 14, 'would': 15, 'realli': 16, 'well': 17, 'scene': 18, 'look': 19, 'show': 20, 'much': 21, 'end': 22, 'peopl': 23, 'bad': 24, 'go': 25, 'great': 26, 'also': 27, 'first': 28, 'love': 29, 'think': 30, 'way': 31, 'act': 32, 'play': 33, 'made': 34, 'thing': 35, 'could': 36, 'know': 37, 'say': 38, 'seem': 39, 'work': 40, 'plot': 41, 'two': 42, 'actor': 43, 'year': 44, 'come': 45, 'mani': 46, 'seen': 47, 'take': 48, 'life': 49, 'want': 50, 'never': 51, 'littl': 52, 'best': 53, 'tri': 54, 'man': 55, 'ever': 56, 'give': 57, 'better': 58, 'still': 59, 'perform': 60, 'find': 61, 'feel': 62, 'part': 63, 'back': 64, 'use': 65, 'someth': 66, 'director': 67, 'actual': 68, 'interest': 69, 'lot': 70, 'real': 71, 'old': 72, 'cast': 73, 'though': 74, 'live': 75, 'star': 76, 'enjoy': 77, 'guy': 78, 'anoth': 79, 'new': 80, 'role': 81, 'noth': 82, '10': 83, 'funni': 84, 'music': 85, 'point': 86, 'start': 87, 'set': 88, 'girl': 89, 'origin': 90, 'day': 91, 'world': 92, 'everi': 93, 'believ': 94, 'turn': 95, 'quit': 96, 'us': 97, 'direct': 98, 'thought': 99, 'fact': 100, 'minut': 101, 'horror': 102, 'kill': 103, 'action': 104, 'comedi': 105, 'pretti': 106, 'young': 107, 'wonder': 108, 'happen': 109, 'around': 110, 'got': 111, 'effect': 112, 'right': 113, 'long': 114, 'howev': 115, 'big': 116, 'line': 117, 'famili': 118, 'enough': 119, 'seri': 120, 'may': 121, 'need': 122, 'fan': 123, 'bit': 124, 'script': 125, 'beauti': 126, 'person': 127, 'becom': 128, 'without': 129, 'must': 130, 'alway': 131, 'friend': 132, 'tell': 133, 'reason': 134, 'saw': 135, 'last': 136, 'final': 137, 'kid': 138, 'almost': 139, 'put': 140, 'least': 141, 'sure': 142, 'done': 143, 'whole': 144, 'place': 145, 'complet': 146, 'kind': 147, 'expect': 148, 'differ': 149, 'shot': 150, 'far': 151, 'mean': 152, 'anyth': 153, 'book': 154, 'laugh': 155, 'might': 156, 'name': 157, 'sinc': 158, 'begin': 159, '2': 160, 'probabl': 161, 'woman': 162, 'help': 163, 'entertain': 164, 'let': 165, 'screen': 166, 'call': 167, 'tv': 168, 'moment': 169, 'away': 170, 'read': 171, 'yet': 172, 'rather': 173, 'worst': 174, 'run': 175, 'fun': 176, 'lead': 177, 'hard': 178, 'audienc': 179, 'idea': 180, 'anyon': 181, 'episod': 182, 'american': 183, 'found': 184, 'appear': 185, 'bore': 186, 'especi': 187, 'although': 188, 'hope': 189, 'keep': 190, 'cours': 191, 'anim': 192, 'job': 193, 'goe': 194, 'move': 195, 'sens': 196, 'version': 197, 'dvd': 198, 'war': 199, 'money': 200, 'someon': 201, 'mind': 202, 'mayb': 203, 'problem': 204, 'true': 205, 'hous': 206, 'everyth': 207, 'nice': 208, 'second': 209, 'rate': 210, 'three': 211, 'night': 212, 'follow': 213, 'face': 214, 'recommend': 215, 'main': 216, 'product': 217, 'worth': 218, 'leav': 219, 'human': 220, 'special': 221, 'excel': 222, 'togeth': 223, 'wast': 224, 'sound': 225, 'everyon': 226, 'john': 227, 'hand': 228, '1': 229, 'father': 230, 'later': 231, 'eye': 232, 'said': 233, 'view': 234, 'instead': 235, 'review': 236, 'boy': 237, 'high': 238, 'hour': 239, 'miss': 240, 'talk': 241, 'classic': 242, 'wife': 243, 'understand': 244, 'left': 245, 'care': 246, 'black': 247, 'death': 248, 'open': 249, 'murder': 250, 'write': 251, 'half': 252, 'head': 253, 'rememb': 254, 'chang': 255, 'viewer': 256, 'fight': 257, 'gener': 258, 'surpris': 259, 'short': 260, 'includ': 261, 'die': 262, 'fall': 263, 'less': 264, 'els': 265, 'entir': 266, 'piec': 267, 'involv': 268, 'pictur': 269, 'simpli': 270, 'home': 271, 'power': 272, 'top': 273, 'total': 274, 'usual': 275, 'budget': 276, 'attempt': 277, 'suppos': 278, 'releas': 279, 'hollywood': 280, 'terribl': 281, 'song': 282, 'men': 283, 'possibl': 284, 'featur': 285, 'portray': 286, 'disappoint': 287, 'poor': 288, '3': 289, 'coupl': 290, 'camera': 291, 'stupid': 292, 'dead': 293, 'wrong': 294, 'produc': 295, 'low': 296, 'video': 297, 'either': 298, 'aw': 299, 'definit': 300, 'except': 301, 'rest': 302, 'given': 303, 'absolut': 304, 'women': 305, 'lack': 306, 'word': 307, 'writer': 308, 'titl': 309, 'talent': 310, 'decid': 311, 'full': 312, 'perfect': 313, 'along': 314, 'style': 315, 'close': 316, 'truli': 317, 'school': 318, 'save': 319, 'emot': 320, 'age': 321, 'sex': 322, 'next': 323, 'bring': 324, 'mr': 325, 'case': 326, 'killer': 327, 'heart': 328, 'comment': 329, 'sort': 330, 'creat': 331, 'perhap': 332, 'came': 333, 'brother': 334, 'sever': 335, 'joke': 336, 'art': 337, 'dialogu': 338, 'game': 339, 'small': 340, 'base': 341, 'flick': 342, 'written': 343, 'sequenc': 344, 'meet': 345, 'earli': 346, 'often': 347, 'other': 348, 'mother': 349, 'develop': 350, 'humor': 351, 'actress': 352, 'consid': 353, 'dark': 354, 'guess': 355, 'amaz': 356, 'unfortun': 357, 'light': 358, 'lost': 359, 'exampl': 360, 'cinema': 361, 'drama': 362, 'ye': 363, 'white': 364, 'experi': 365, 'imagin': 366, 'mention': 367, 'stop': 368, 'natur': 369, 'forc': 370, 'manag': 371, 'felt': 372, 'cut': 373, 'present': 374, 'children': 375, 'fail': 376, 'son': 377, 'qualiti': 378, 'car': 379, 'support': 380, 'ask': 381, 'hit': 382, 'side': 383, 'voic': 384, 'extrem': 385, 'impress': 386, 'wors': 387, 'evil': 388, 'went': 389, 'stand': 390, 'certainli': 391, 'basic': 392, 'oh': 393, 'overal': 394, 'favorit': 395, 'horribl': 396, 'mysteri': 397, 'number': 398, 'type': 399, 'danc': 400, 'wait': 401, 'hero': 402, '5': 403, 'alreadi': 404, 'learn': 405, 'matter': 406, '4': 407, 'michael': 408, 'genr': 409, 'fine': 410, 'despit': 411, 'throughout': 412, 'walk': 413, 'success': 414, 'histori': 415, 'question': 416, 'zombi': 417, 'town': 418, 'relationship': 419, 'realiz': 420, 'child': 421, 'past': 422, 'daughter': 423, 'late': 424, 'b': 425, 'wish': 426, 'hate': 427, 'credit': 428, 'event': 429, 'theme': 430, 'touch': 431, 'citi': 432, 'today': 433, 'sometim': 434, 'behind': 435, 'god': 436, 'twist': 437, 'sit': 438, 'stay': 439, 'annoy': 440, 'deal': 441, 'abl': 442, 'rent': 443, 'pleas': 444, 'edit': 445, 'blood': 446, 'deserv': 447, 'anyway': 448, 'comic': 449, 'appar': 450, 'soon': 451, 'gave': 452, 'etc': 453, 'level': 454, 'slow': 455, 'chanc': 456, 'score': 457, 'bodi': 458, 'brilliant': 459, 'incred': 460, 'figur': 461, 'situat': 462, 'self': 463, 'major': 464, 'stuff': 465, 'decent': 466, 'element': 467, 'return': 468, 'dream': 469, 'obvious': 470, 'order': 471, 'continu': 472, 'pace': 473, 'ridicul': 474, 'happi': 475, 'highli': 476, 'add': 477, 'group': 478, 'thank': 479, 'ladi': 480, 'novel': 481, 'pain': 482, 'speak': 483, 'career': 484, 'shoot': 485, 'strang': 486, 'heard': 487, 'sad': 488, 'husband': 489, 'polic': 490, 'import': 491, 'break': 492, 'took': 493, 'cannot': 494, 'strong': 495, 'robert': 496, 'predict': 497, 'violenc': 498, 'hilari': 499, 'recent': 500, 'countri': 501, 'known': 502, 'particularli': 503, 'pick': 504, 'documentari': 505, 'season': 506, 'critic': 507, 'jame': 508, 'compar': 509, 'alon': 510, 'obviou': 511, 'told': 512, 'state': 513, 'rock': 514, 'visual': 515, 'theater': 516, 'exist': 517, 'offer': 518, 'opinion': 519, 'gore': 520, 'crap': 521, 'hold': 522, 'result': 523, 'hear': 524, 'realiti': 525, 'room': 526, 'effort': 527, 'clich': 528, 'thriller': 529, 'caus': 530, 'serious': 531, 'explain': 532, 'sequel': 533, 'king': 534, 'local': 535, 'ago': 536, 'none': 537, 'hell': 538, 'note': 539, 'allow': 540, 'sister': 541, 'david': 542, 'simpl': 543, 'femal': 544, 'deliv': 545, 'ok': 546, 'convinc': 547, 'class': 548, 'check': 549, 'suspens': 550, 'win': 551, 'oscar': 552, 'buy': 553, 'huge': 554, 'valu': 555, 'sexual': 556, 'scari': 557, 'cool': 558, 'similar': 559, 'excit': 560, 'exactli': 561, 'provid': 562, 'apart': 563, 'avoid': 564, 'shown': 565, 'seriou': 566, 'english': 567, 'whose': 568, 'taken': 569, 'cinematographi': 570, 'shock': 571, 'polit': 572, 'spoiler': 573, 'offic': 574, 'across': 575, 'middl': 576, 'pass': 577, 'street': 578, 'messag': 579, 'silli': 580, 'somewhat': 581, 'charm': 582, 'modern': 583, 'filmmak': 584, 'confus': 585, 'form': 586, 'tale': 587, 'singl': 588, 'jack': 589, 'mostli': 590, 'attent': 591, 'william': 592, 'carri': 593, 'sing': 594, 'five': 595, 'subject': 596, 'prove': 597, 'richard': 598, 'team': 599, 'stage': 600, 'unlik': 601, 'cop': 602, 'georg': 603, 'televis': 604, 'monster': 605, 'earth': 606, 'cover': 607, 'villain': 608, 'pay': 609, 'marri': 610, 'toward': 611, 'build': 612, 'parent': 613, 'pull': 614, 'due': 615, 'respect': 616, 'fill': 617, 'four': 618, 'dialog': 619, 'remind': 620, 'futur': 621, 'typic': 622, 'weak': 623, '7': 624, 'cheap': 625, 'intellig': 626, 'atmospher': 627, 'british': 628, 'clearli': 629, '80': 630, 'paul': 631, 'non': 632, 'dog': 633, 'artist': 634, 'fast': 635, '8': 636, 'knew': 637, 'crime': 638, 'easili': 639, 'escap': 640, 'adult': 641, 'doubt': 642, 'detail': 643, 'date': 644, 'member': 645, 'romant': 646, 'fire': 647, 'drive': 648, 'gun': 649, 'straight': 650, 'beyond': 651, 'fit': 652, 'attack': 653, 'imag': 654, 'upon': 655, 'posit': 656, 'whether': 657, 'fantast': 658, 'peter': 659, 'aspect': 660, 'appreci': 661, 'captur': 662, 'ten': 663, 'plan': 664, 'discov': 665, 'remain': 666, 'period': 667, 'near': 668, 'air': 669, 'realist': 670, 'mark': 671, 'red': 672, 'dull': 673, 'adapt': 674, 'within': 675, 'spend': 676, 'lose': 677, 'color': 678, 'materi': 679, 'chase': 680, 'mari': 681, 'storylin': 682, 'forget': 683, 'bunch': 684, 'clear': 685, 'lee': 686, 'victim': 687, 'nearli': 688, 'box': 689, 'york': 690, 'inspir': 691, 'match': 692, 'finish': 693, 'mess': 694, 'standard': 695, 'easi': 696, 'truth': 697, 'busi': 698, 'suffer': 699, 'dramat': 700, 'space': 701, 'bill': 702, 'western': 703, 'e': 704, 'list': 705, 'battl': 706, 'notic': 707, 'de': 708, 'french': 709, 'ad': 710, '9': 711, 'tom': 712, 'larg': 713, 'among': 714, 'eventu': 715, 'accept': 716, 'train': 717, 'agre': 718, 'spirit': 719, 'soundtrack': 720, 'third': 721, 'teenag': 722, 'soldier': 723, 'adventur': 724, 'sorri': 725, 'suggest': 726, 'drug': 727, 'famou': 728, 'babi': 729, 'normal': 730, 'cri': 731, 'troubl': 732, 'ultim': 733, 'contain': 734, 'certain': 735, 'cultur': 736, 'romanc': 737, 'rare': 738, 'lame': 739, 'somehow': 740, 'mix': 741, 'disney': 742, 'gone': 743, 'cartoon': 744, 'student': 745, 'reveal': 746, 'fear': 747, 'suck': 748, 'kept': 749, 'attract': 750, 'appeal': 751, 'premis': 752, 'design': 753, 'secret': 754, 'greatest': 755, 'shame': 756, 'throw': 757, 'scare': 758, 'copi': 759, 'wit': 760, 'america': 761, 'admit': 762, 'brought': 763, 'relat': 764, 'particular': 765, 'screenplay': 766, 'whatev': 767, 'pure': 768, '70': 769, 'averag': 770, 'harri': 771, 'master': 772, 'describ': 773, 'male': 774, 'treat': 775, '20': 776, 'fantasi': 777, 'issu': 778, 'warn': 779, 'inde': 780, 'forward': 781, 'background': 782, 'free': 783, 'project': 784, 'memor': 785, 'japanes': 786, 'poorli': 787, 'award': 788, 'locat': 789, 'amus': 790, 'potenti': 791, 'struggl': 792, 'magic': 793, 'weird': 794, 'societi': 795, 'okay': 796, 'accent': 797, 'doctor': 798, 'imdb': 799, 'hot': 800, 'water': 801, 'dr': 802, 'alien': 803, '30': 804, 'express': 805, 'odd': 806, 'crazi': 807, 'choic': 808, 'fiction': 809, 'studio': 810, 'control': 811, 'becam': 812, 'masterpiec': 813, 'fli': 814, 'difficult': 815, 'joe': 816, 'scream': 817, 'costum': 818, 'lover': 819, 'uniqu': 820, 'refer': 821, 'remak': 822, 'girlfriend': 823, 'vampir': 824, 'prison': 825, 'execut': 826, 'wear': 827, 'jump': 828, 'wood': 829, 'unless': 830, 'creepi': 831, 'cheesi': 832, 'superb': 833, 'otherwis': 834, 'parti': 835, 'roll': 836, 'ghost': 837, 'public': 838, 'mad': 839, 'depict': 840, 'week': 841, 'moral': 842, 'jane': 843, 'earlier': 844, 'badli': 845, 'dumb': 846, 'fi': 847, 'flaw': 848, 'grow': 849, 'deep': 850, 'sci': 851, 'maker': 852, 'cat': 853, 'older': 854, 'connect': 855, 'footag': 856, 'bother': 857, 'plenti': 858, 'outsid': 859, 'stick': 860, 'gay': 861, 'catch': 862, 'co': 863, 'plu': 864, 'popular': 865, 'equal': 866, 'social': 867, 'disturb': 868, 'quickli': 869, 'perfectli': 870, 'dress': 871, 'era': 872, '90': 873, 'mistak': 874, 'lie': 875, 'ride': 876, 'previou': 877, 'combin': 878, 'band': 879, 'concept': 880, 'answer': 881, 'rich': 882, 'surviv': 883, 'front': 884, 'christma': 885, 'sweet': 886, 'insid': 887, 'bare': 888, 'eat': 889, 'concern': 890, 'beat': 891, 'ben': 892, 'listen': 893, 'c': 894, 'term': 895, 'serv': 896, 'meant': 897, 'la': 898, 'german': 899, 'stereotyp': 900, 'hardli': 901, 'law': 902, 'innoc': 903, 'desper': 904, 'memori': 905, 'promis': 906, 'cute': 907, 'intent': 908, 'inform': 909, 'variou': 910, 'steal': 911, 'brain': 912, 'post': 913, 'tone': 914, 'island': 915, 'amount': 916, 'compani': 917, 'nuditi': 918, 'track': 919, 'store': 920, 'claim': 921, 'flat': 922, '50': 923, 'hair': 924, 'land': 925, 'univers': 926, 'kick': 927, 'danger': 928, 'scott': 929, 'fairli': 930, 'player': 931, 'crew': 932, 'plain': 933, 'step': 934, 'toni': 935, 'share': 936, 'tast': 937, 'centuri': 938, 'achiev': 939, 'engag': 940, 'travel': 941, 'cold': 942, 'rip': 943, 'suit': 944, 'record': 945, 'sadli': 946, 'manner': 947, 'tension': 948, 'spot': 949, 'wrote': 950, 'fascin': 951, 'intens': 952, 'familiar': 953, 'remark': 954, 'depth': 955, 'burn': 956, 'histor': 957, 'destroy': 958, 'sleep': 959, 'purpos': 960, 'languag': 961, 'ruin': 962, 'ignor': 963, 'delight': 964, 'italian': 965, 'unbeliev': 966, 'collect': 967, 'abil': 968, 'soul': 969, 'clever': 970, 'detect': 971, 'violent': 972, 'rape': 973, 'reach': 974, 'door': 975, 'scienc': 976, 'liter': 977, 'trash': 978, 'reveng': 979, 'commun': 980, 'caught': 981, 'creatur': 982, 'trip': 983, 'approach': 984, 'intrigu': 985, 'fashion': 986, 'introduc': 987, 'paint': 988, 'skill': 989, 'complex': 990, 'channel': 991, 'camp': 992, 'christian': 993, 'hole': 994, 'extra': 995, 'mental': 996, 'limit': 997, 'immedi': 998, 'ann': 999, 'mere': 1000, 'slightli': 1001, '6': 1002, 'comput': 1003, 'million': 1004, 'conclus': 1005, 'slasher': 1006, 'suddenli': 1007, 'imposs': 1008, 'neither': 1009, 'teen': 1010, 'crimin': 1011, 'spent': 1012, 'nation': 1013, 'physic': 1014, 'respons': 1015, 'planet': 1016, 'fake': 1017, 'receiv': 1018, 'blue': 1019, 'sick': 1020, 'bizarr': 1021, 'embarrass': 1022, 'indian': 1023, 'ring': 1024, '15': 1025, 'pop': 1026, 'drop': 1027, 'drag': 1028, 'haunt': 1029, 'pointless': 1030, 'suspect': 1031, 'search': 1032, 'edg': 1033, 'handl': 1034, 'common': 1035, 'biggest': 1036, 'arriv': 1037, 'hurt': 1038, 'faith': 1039, 'technic': 1040, 'angel': 1041, 'genuin': 1042, 'dad': 1043, 'solid': 1044, 'f': 1045, 'awesom': 1046, 'colleg': 1047, 'van': 1048, 'former': 1049, 'focu': 1050, 'count': 1051, 'tear': 1052, 'heavi': 1053, 'rais': 1054, 'wall': 1055, 'younger': 1056, 'laughabl': 1057, 'visit': 1058, 'sign': 1059, 'fair': 1060, 'excus': 1061, 'cult': 1062, 'motion': 1063, 'key': 1064, 'tough': 1065, 'super': 1066, 'desir': 1067, 'stun': 1068, 'addit': 1069, 'cloth': 1070, 'exploit': 1071, 'smith': 1072, 'tortur': 1073, 'race': 1074, 'davi': 1075, 'author': 1076, 'cross': 1077, 'jim': 1078, 'compel': 1079, 'focus': 1080, 'minor': 1081, 'consist': 1082, 'commit': 1083, 'pathet': 1084, 'chemistri': 1085, 'park': 1086, 'obsess': 1087, 'tradit': 1088, 'frank': 1089, 'grade': 1090, 'asid': 1091, '60': 1092, 'brutal': 1093, 'steve': 1094, 'somewher': 1095, 'u': 1096, 'rule': 1097, 'grant': 1098, 'depress': 1099, 'explor': 1100, 'opportun': 1101, 'besid': 1102, 'honest': 1103, 'anti': 1104, 'dub': 1105, 'trailer': 1106, 'intend': 1107, 'bar': 1108, 'west': 1109, 'longer': 1110, 'regard': 1111, 'scientist': 1112, 'judg': 1113, 'decad': 1114, 'silent': 1115, 'creativ': 1116, 'armi': 1117, 'wild': 1118, 'g': 1119, 'stewart': 1120, 'south': 1121, 'draw': 1122, 'road': 1123, 'govern': 1124, 'boss': 1125, 'ex': 1126, 'practic': 1127, 'motiv': 1128, 'surprisingli': 1129, 'club': 1130, 'gang': 1131, 'festiv': 1132, 'green': 1133, 'page': 1134, 'redeem': 1135, 'london': 1136, 'idiot': 1137, 'display': 1138, 'militari': 1139, 'machin': 1140, 'aliv': 1141, 'repeat': 1142, 'thrill': 1143, 'yeah': 1144, 'nobodi': 1145, '100': 1146, 'folk': 1147, '40': 1148, 'journey': 1149, 'garbag': 1150, 'ground': 1151, 'smile': 1152, 'tire': 1153, 'bought': 1154, 'mood': 1155, 'stone': 1156, 'sam': 1157, 'cost': 1158, 'mouth': 1159, 'noir': 1160, 'terrif': 1161, 'agent': 1162, 'requir': 1163, 'utterli': 1164, 'area': 1165, 'honestli': 1166, 'sexi': 1167, 'geniu': 1168, 'report': 1169, 'investig': 1170, 'enter': 1171, 'glad': 1172, 'humour': 1173, 'serial': 1174, 'occasion': 1175, 'narr': 1176, 'passion': 1177, 'climax': 1178, 'marriag': 1179, 'studi': 1180, 'industri': 1181, 'demon': 1182, 'ship': 1183, 'center': 1184, 'charli': 1185, 'nowher': 1186, 'hors': 1187, 'bear': 1188, 'loos': 1189, 'wow': 1190, 'hang': 1191, 'graphic': 1192, 'giant': 1193, 'admir': 1194, 'send': 1195, 'loud': 1196, 'damn': 1197, 'profession': 1198, 'subtl': 1199, 'rel': 1200, 'nake': 1201, 'blow': 1202, 'bottom': 1203, 'insult': 1204, 'batman': 1205, 'r': 1206, 'kelli': 1207, 'doubl': 1208, 'boyfriend': 1209, 'initi': 1210, 'frame': 1211, 'opera': 1212, 'gem': 1213, 'church': 1214, 'drawn': 1215, 'cinemat': 1216, 'affect': 1217, 'challeng': 1218, 'seek': 1219, 'j': 1220, 'l': 1221, 'nightmar': 1222, 'fulli': 1223, 'evid': 1224, 'essenti': 1225, 'conflict': 1226, 'arm': 1227, 'wind': 1228, 'henri': 1229, 'christoph': 1230, 'grace': 1231, 'assum': 1232, 'witch': 1233, 'narrat': 1234, 'push': 1235, 'hunt': 1236, 'wise': 1237, 'chri': 1238, 'nomin': 1239, 'month': 1240, 'repres': 1241, 'avail': 1242, 'hide': 1243, 'sceneri': 1244, 'affair': 1245, 'smart': 1246, 'thu': 1247, 'justic': 1248, 'bond': 1249, 'interview': 1250, 'outstand': 1251, 'flashback': 1252, 'presenc': 1253, 'satisfi': 1254, 'constantli': 1255, 'bed': 1256, 'central': 1257, 'content': 1258, 'sell': 1259, 'iron': 1260, 'gag': 1261, 'everybodi': 1262, 'slowli': 1263, 'hotel': 1264, 'hire': 1265, 'system': 1266, 'hey': 1267, 'individu': 1268, 'charl': 1269, 'thrown': 1270, 'adam': 1271, 'allen': 1272, 'jone': 1273, 'mediocr': 1274, 'lesson': 1275, 'ray': 1276, 'billi': 1277, 'cameo': 1278, 'photographi': 1279, 'fellow': 1280, 'pari': 1281, 'strike': 1282, 'independ': 1283, 'rise': 1284, 'absurd': 1285, 'brief': 1286, 'neg': 1287, 'impact': 1288, 'phone': 1289, 'born': 1290, 'model': 1291, 'ill': 1292, 'spoil': 1293, 'angl': 1294, 'fresh': 1295, 'likabl': 1296, 'abus': 1297, 'hill': 1298, 'discuss': 1299, 'ahead': 1300, 'sight': 1301, 'sent': 1302, 'photograph': 1303, 'occur': 1304, 'blame': 1305, 'logic': 1306, 'shine': 1307, 'bruce': 1308, 'mainli': 1309, 'skip': 1310, 'commerci': 1311, 'forev': 1312, 'held': 1313, 'surround': 1314, 'teacher': 1315, 'segment': 1316, 'zero': 1317, 'blond': 1318, 'trap': 1319, 'satir': 1320, 'resembl': 1321, 'summer': 1322, 'six': 1323, 'queen': 1324, 'ball': 1325, 'fool': 1326, 'twice': 1327, 'sub': 1328, 'tragedi': 1329, 'pack': 1330, 'reaction': 1331, 'bomb': 1332, 'protagonist': 1333, 'will': 1334, 'hospit': 1335, 'mile': 1336, 'sport': 1337, 'mom': 1338, 'trust': 1339, 'jerri': 1340, 'vote': 1341, 'drink': 1342, 'encount': 1343, 'plane': 1344, 'current': 1345, 'al': 1346, 'program': 1347, 'station': 1348, 'celebr': 1349, 'martin': 1350, 'choos': 1351, 'join': 1352, 'lord': 1353, 'tragic': 1354, 'round': 1355, 'field': 1356, 'favourit': 1357, 'robot': 1358, 'jean': 1359, 'vision': 1360, 'tie': 1361, 'arthur': 1362, 'random': 1363, 'roger': 1364, 'fortun': 1365, 'psycholog': 1366, 'dread': 1367, 'intern': 1368, 'epic': 1369, 'improv': 1370, 'prefer': 1371, 'nonsens': 1372, 'pleasur': 1373, 'highlight': 1374, 'legend': 1375, 'formula': 1376, '11': 1377, 'dollar': 1378, 'tape': 1379, 'thin': 1380, 'gorgeou': 1381, 'fox': 1382, 'porn': 1383, 'wide': 1384, 'object': 1385, 'influenc': 1386, 'ugli': 1387, 'buddi': 1388, 'prepar': 1389, 'nasti': 1390, 'ii': 1391, 'warm': 1392, 'reflect': 1393, 'supposedli': 1394, 'progress': 1395, 'youth': 1396, 'worthi': 1397, 'latter': 1398, 'unusu': 1399, 'length': 1400, 'crash': 1401, 'seven': 1402, 'superior': 1403, 'childhood': 1404, 'shop': 1405, 'theatr': 1406, 'remot': 1407, 'disgust': 1408, 'paid': 1409, 'pilot': 1410, 'funniest': 1411, 'convers': 1412, 'fell': 1413, 'trick': 1414, 'castl': 1415, 'establish': 1416, 'gangster': 1417, 'disast': 1418, 'rob': 1419, 'heaven': 1420, 'mine': 1421, 'suicid': 1422, 'ident': 1423, 'disappear': 1424, 'singer': 1425, 'decis': 1426, 'forgotten': 1427, 'tend': 1428, 'mask': 1429, 'heroin': 1430, 'brian': 1431, 'partner': 1432, 'desert': 1433, 'alan': 1434, 'recogn': 1435, 'sky': 1436, 'p': 1437, 'thoroughli': 1438, 'ms': 1439, 'stuck': 1440, 'accur': 1441, 'replac': 1442, 'market': 1443, 'uncl': 1444, 'danni': 1445, 'commentari': 1446, 'seemingli': 1447, 'clue': 1448, 'andi': 1449, 'eddi': 1450, 'devil': 1451, 'jackson': 1452, 'that': 1453, 'pair': 1454, 'refus': 1455, 'therefor': 1456, 'fate': 1457, 'fault': 1458, 'accid': 1459, 'river': 1460, 'ed': 1461, 'unit': 1462, 'tune': 1463, 'afraid': 1464, 'stephen': 1465, 'hidden': 1466, 'russian': 1467, 'clean': 1468, 'instanc': 1469, 'captain': 1470, 'readi': 1471, 'test': 1472, 'quick': 1473, 'irrit': 1474, 'convey': 1475, 'european': 1476, 'daniel': 1477, 'frustrat': 1478, 'insan': 1479, 'wed': 1480, 'food': 1481, 'chines': 1482, '1950': 1483, 'rescu': 1484, 'angri': 1485, 'lock': 1486, 'dirti': 1487, 'joy': 1488, 'price': 1489, 'steven': 1490, 'cage': 1491, 'bland': 1492, 'anymor': 1493, 'rang': 1494, 'wooden': 1495, 'jason': 1496, 'news': 1497, 'n': 1498, 'rush': 1499, 'martial': 1500, 'led': 1501, 'board': 1502, 'twenti': 1503, 'worri': 1504, '12': 1505, 'hunter': 1506, 'cgi': 1507, 'transform': 1508, 'symbol': 1509, 'piti': 1510, 'onto': 1511, 'x': 1512, 'sentiment': 1513, 'invent': 1514, 'johnni': 1515, 'attitud': 1516, 'process': 1517, 'explan': 1518, 'awar': 1519, 'owner': 1520, 'aim': 1521, 'floor': 1522, 'necessari': 1523, 'target': 1524, 'energi': 1525, 'favor': 1526, 'religi': 1527, 'opposit': 1528, 'insight': 1529, 'window': 1530, 'blind': 1531, 'chick': 1532, 'movement': 1533, 'mountain': 1534, 'comparison': 1535, 'research': 1536, 'deepli': 1537, 'possess': 1538, 'rain': 1539, 'comed': 1540, 'grand': 1541, 'whatsoev': 1542, 'began': 1543, 'mid': 1544, 'bank': 1545, 'shadow': 1546, 'princ': 1547, 'parodi': 1548, 'credibl': 1549, 'taylor': 1550, 'weapon': 1551, 'friendship': 1552, 'pre': 1553, 'dougla': 1554, 'flesh': 1555, 'teach': 1556, 'bloodi': 1557, 'hint': 1558, 'protect': 1559, 'terror': 1560, 'marvel': 1561, 'drunk': 1562, 'leader': 1563, 'accord': 1564, 'anybodi': 1565, 'load': 1566, 'watchabl': 1567, 'superman': 1568, 'brown': 1569, 'freddi': 1570, 'seat': 1571, 'jeff': 1572, 'appropri': 1573, 'tim': 1574, 'hitler': 1575, 'villag': 1576, 'charg': 1577, 'keaton': 1578, 'unknown': 1579, 'knock': 1580, 'media': 1581, 'unnecessari': 1582, 'empti': 1583, 'england': 1584, 'enemi': 1585, 'craft': 1586, 'wave': 1587, 'dare': 1588, 'perspect': 1589, 'strength': 1590, 'utter': 1591, 'buck': 1592, 'kiss': 1593, 'nativ': 1594, 'ford': 1595, 'correct': 1596, 'contrast': 1597, 'soap': 1598, 'chill': 1599, 'magnific': 1600, 'knowledg': 1601, 'distract': 1602, 'anywher': 1603, 'speed': 1604, 'nazi': 1605, 'fred': 1606, 'mission': 1607, 'ice': 1608, '1980': 1609, 'breath': 1610, 'jr': 1611, 'joan': 1612, 'moon': 1613, 'crowd': 1614, 'kate': 1615, 'soft': 1616, 'frighten': 1617, '000': 1618, 'dan': 1619, 'nick': 1620, 'dick': 1621, 'hundr': 1622, 'dozen': 1623, 'somebodi': 1624, 'simon': 1625, 'radio': 1626, 'loss': 1627, 'shakespear': 1628, 'thousand': 1629, 'academi': 1630, 'andrew': 1631, 'account': 1632, 'vehicl': 1633, 'root': 1634, 'quot': 1635, 'sum': 1636, 'leg': 1637, 'behavior': 1638, '1970': 1639, 'convent': 1640, 'gold': 1641, 'regular': 1642, 'compet': 1643, 'pretenti': 1644, 'demand': 1645, 'worker': 1646, 'privat': 1647, 'candi': 1648, 'explos': 1649, 'japan': 1650, 'interpret': 1651, 'lynch': 1652, 'stretch': 1653, 'notabl': 1654, 'constant': 1655, 'tarzan': 1656, 'debut': 1657, 'translat': 1658, 'revolv': 1659, 'prais': 1660, 'sea': 1661, 'spi': 1662, 'technolog': 1663, 'quiet': 1664, 'franc': 1665, 'ass': 1666, 'sat': 1667, 'threaten': 1668, 'failur': 1669, 'jesu': 1670, 'punch': 1671, 'met': 1672, 'toy': 1673, 'aid': 1674, 'kevin': 1675, 'higher': 1676, 'abandon': 1677, 'interact': 1678, 'mike': 1679, 'vh': 1680, 'separ': 1681, 'bet': 1682, 'confront': 1683, 'command': 1684, 'recal': 1685, 'site': 1686, 'servic': 1687, 'stunt': 1688, 'gotten': 1689, 'techniqu': 1690, 'belong': 1691, 'bug': 1692, 'freak': 1693, 'cabl': 1694, 'foot': 1695, 'african': 1696, 'fu': 1697, 'bright': 1698, 'jimmi': 1699, 'capabl': 1700, 'boat': 1701, 'stock': 1702, 'fat': 1703, 'clark': 1704, 'presid': 1705, 'succeed': 1706, 'spanish': 1707, 'structur': 1708, 'gene': 1709, 'kidnap': 1710, 'paper': 1711, 'belief': 1712, 'whilst': 1713, 'factor': 1714, 'attend': 1715, 'bob': 1716, 'realism': 1717, 'complic': 1718, 'educ': 1719, 'tree': 1720, 'witti': 1721, 'realis': 1722, 'assist': 1723, 'finest': 1724, 'broken': 1725, 'santa': 1726, 'up': 1727, 'determin': 1728, 'smoke': 1729, 'observ': 1730, 'v': 1731, 'depart': 1732, 'fame': 1733, 'lewi': 1734, 'routin': 1735, 'rubbish': 1736, 'domin': 1737, 'hat': 1738, 'oper': 1739, 'morgan': 1740, 'advanc': 1741, 'foreign': 1742, 'lone': 1743, 'hook': 1744, 'kinda': 1745, 'safe': 1746, 'numer': 1747, 'rank': 1748, 'civil': 1749, 'shape': 1750, 'shallow': 1751, 'washington': 1752, 'werewolf': 1753, 'vs': 1754, 'rose': 1755, 'morn': 1756, 'gari': 1757, 'winner': 1758, 'accomplish': 1759, 'kong': 1760, 'ordinari': 1761, 'peac': 1762, 'whenev': 1763, 'grab': 1764, 'virtual': 1765, 'h': 1766, 'luck': 1767, 'offens': 1768, 'activ': 1769, 'bigger': 1770, 'complain': 1771, 'patient': 1772, 'welcom': 1773, 'contriv': 1774, 'unfunni': 1775, 'dimension': 1776, 'trek': 1777, 'con': 1778, 'pretend': 1779, 'wake': 1780, 'dri': 1781, 'eric': 1782, 'flash': 1783, 'cain': 1784, 'code': 1785, 'lesbian': 1786, 'albert': 1787, 'statu': 1788, 'manipul': 1789, 'corrupt': 1790, 'guard': 1791, 'dancer': 1792, 'sourc': 1793, 'gain': 1794, 'context': 1795, 'signific': 1796, 'awkward': 1797, 'speech': 1798, 'clip': 1799, '13': 1800, 'anthoni': 1801, 'corni': 1802, 'sean': 1803, 'psycho': 1804, 'religion': 1805, 'w': 1806, 'curiou': 1807, 'reli': 1808, 'priest': 1809, 'advic': 1810, 'theatric': 1811, 'addict': 1812, 'flow': 1813, 'specif': 1814, 'secur': 1815, 'asian': 1816, 'skin': 1817, 'howard': 1818, 'jennif': 1819, 'comfort': 1820, 'core': 1821, 'organ': 1822, 'promot': 1823, 'luke': 1824, 'golden': 1825, 'lucki': 1826, 'cash': 1827, 'cheat': 1828, 'dislik': 1829, 'associ': 1830, 'lower': 1831, 'balanc': 1832, 'devic': 1833, 'frankli': 1834, 'regret': 1835, 'contribut': 1836, 'spell': 1837, 'degre': 1838, 'frequent': 1839, 'wing': 1840, 'sake': 1841, 'lake': 1842, 'forgiv': 1843, 'print': 1844, 'thoma': 1845, 'mass': 1846, 'betti': 1847, 'crack': 1848, 'unexpect': 1849, 'gordon': 1850, 'unfold': 1851, 'categori': 1852, 'depend': 1853, 'grown': 1854, 'amateur': 1855, 'invit': 1856, 'construct': 1857, 'grew': 1858, 'matur': 1859, 'intellectu': 1860, 'condit': 1861, 'honor': 1862, 'anna': 1863, 'walter': 1864, 'sole': 1865, 'veteran': 1866, 'spectacular': 1867, 'sudden': 1868, 'mirror': 1869, 'demonstr': 1870, 'experienc': 1871, 'card': 1872, 'freedom': 1873, 'gift': 1874, 'overli': 1875, 'liner': 1876, 'grip': 1877, 'robin': 1878, 'meanwhil': 1879, 'brilliantli': 1880, 'oliv': 1881, 'theori': 1882, 'unabl': 1883, 'subtitl': 1884, 'crappi': 1885, 'section': 1886, 'colour': 1887, 'sheriff': 1888, 'circumst': 1889, 'drew': 1890, 'matt': 1891, 'path': 1892, 'altern': 1893, 'parker': 1894, 'laughter': 1895, 'sheer': 1896, 'pile': 1897, 'cook': 1898, 'defin': 1899, 'lawyer': 1900, 'relief': 1901, 'accident': 1902, 'wander': 1903, 'hall': 1904, 'sinatra': 1905, 'treatment': 1906, 'dragon': 1907, 'hank': 1908, 'captiv': 1909, 'halloween': 1910, 'moor': 1911, 'gratuit': 1912, 'barbara': 1913, 'cowboy': 1914, 'unintent': 1915, 'k': 1916, 'kung': 1917, 'broadway': 1918, 'wayn': 1919, 'wound': 1920, 'jacki': 1921, 'spoof': 1922, 'surreal': 1923, 'statement': 1924, 'winter': 1925, 'canadian': 1926, 'compos': 1927, 'cheer': 1928, 'treasur': 1929, 'gonna': 1930, 'fish': 1931, 'fare': 1932, 'woodi': 1933, 'emerg': 1934, 'unrealist': 1935, 'sensit': 1936, 'victor': 1937, 'driven': 1938, 'neighbor': 1939, 'ran': 1940, 'sympathet': 1941, 'glass': 1942, 'overlook': 1943, 'authent': 1944, 'topic': 1945, 'menac': 1946, 'expos': 1947, 'michel': 1948, 'gross': 1949, 'ancient': 1950, 'handsom': 1951, 'chief': 1952, 'contemporari': 1953, 'comedian': 1954, 'built': 1955, 'network': 1956, 'stranger': 1957, 'russel': 1958, 'nevertheless': 1959, 'feet': 1960, 'cinderella': 1961, 'pleasant': 1962, 'blockbust': 1963, 'miser': 1964, 'earn': 1965, 'gori': 1966, 'consider': 1967, 'underr': 1968, 'endless': 1969, 'letter': 1970, 'brook': 1971, 'switch': 1972, 'solv': 1973, 'bullet': 1974, 'victoria': 1975, 'virgin': 1976, 'edward': 1977, 'convict': 1978, 'joseph': 1979, 'alex': 1980, 'scale': 1981, 'scenario': 1982, 'chosen': 1983, 'cynic': 1984, '0': 1985, 'sword': 1986, 'outrag': 1987, 'gut': 1988, 'curs': 1989, 'com': 1990, 'driver': 1991, 'screenwrit': 1992, 'wrap': 1993, 'substanc': 1994, 'proper': 1995, 'juli': 1996, 'monkey': 1997, 'uk': 1998, 'bird': 1999, 'par': 2000, 'court': 2001, 'indic': 2002, 'remov': 2003, 'rental': 2004, 'inevit': 2005, 'consequ': 2006, 'advertis': 2007, 'grave': 2008, 'loser': 2009, 'naiv': 2010, 'nanci': 2011, 'roy': 2012, 'bridg': 2013, 'slap': 2014, 'le': 2015, 'invis': 2016, 'brave': 2017, 'fatal': 2018, 'germani': 2019, 'anger': 2020, 'ador': 2021, 'provok': 2022, 'loui': 2023, 'footbal': 2024, 'anderson': 2025, 'alcohol': 2026, 'chan': 2027, 'ryan': 2028, 'professor': 2029, 'stumbl': 2030, 'willi': 2031, '1930': 2032, 'patrick': 2033, 'bat': 2034, 'australian': 2035, 'sharp': 2036, 'assassin': 2037, 'strongli': 2038, 'deni': 2039, 'eight': 2040, 'lousi': 2041, 'trilog': 2042, 'heck': 2043, 'cell': 2044, 'saturday': 2045, 'refresh': 2046, 'liber': 2047, 'amateurish': 2048, 'ape': 2049, 'sin': 2050, 'vagu': 2051, 'resid': 2052, 'justifi': 2053, 'san': 2054, 'sympathi': 2055, 'creator': 2056, 'reput': 2057, 'defeat': 2058, 'mini': 2059, 'terrifi': 2060, 'indi': 2061, 'prevent': 2062, 'task': 2063, 'expert': 2064, 'tediou': 2065, 'tabl': 2066, 'endur': 2067, 'imit': 2068, 'basebal': 2069, 'rival': 2070, 'offend': 2071, 'che': 2072, 'trial': 2073, 'employ': 2074, 'pitch': 2075, 'fairi': 2076, 'complaint': 2077, 'weekend': 2078, 'beach': 2079, 'europ': 2080, 'max': 2081, 'dig': 2082, 'purchas': 2083, 'format': 2084, 'murphi': 2085, 'risk': 2086, 'bite': 2087, 'harsh': 2088, 'nois': 2089, 'hype': 2090, 'tini': 2091, 'reminisc': 2092, 'powel': 2093, 'glimps': 2094, 'titan': 2095, '14': 2096, 'fals': 2097, 'prime': 2098, 'strip': 2099, 'till': 2100, 'asleep': 2101, 'north': 2102, 'texa': 2103, 'destruct': 2104, 'revel': 2105, 'africa': 2106, 'descript': 2107, 'inner': 2108, 'sitcom': 2109, 'excess': 2110, 'surfac': 2111, 'semi': 2112, 'spin': 2113, 'uninterest': 2114, 'arrest': 2115, 'argu': 2116, 'massiv': 2117, 'dinosaur': 2118, 'twin': 2119, 'makeup': 2120, 'maintain': 2121, 'hitchcock': 2122, 'controversi': 2123, 'expens': 2124, 'stare': 2125, 'ludicr': 2126, 'insist': 2127, 'reject': 2128, 'melodrama': 2129, 'kim': 2130, 'ideal': 2131, 'forest': 2132, 'host': 2133, 'erot': 2134, 'atroci': 2135, 'supernatur': 2136, 'press': 2137, 'ala': 2138, 'nail': 2139, 'columbo': 2140, 'ga': 2141, 'subplot': 2142, 'cant': 2143, 'presum': 2144, 'identifi': 2145, 'dude': 2146, 'notch': 2147, 'plagu': 2148, 'character': 2149, 'forgett': 2150, 'guest': 2151, 'closer': 2152, 'method': 2153, 'crude': 2154, 'ear': 2155, 'lion': 2156, 'foster': 2157, 'landscap': 2158, 'princess': 2159, 'border': 2160, 'beast': 2161, 'urban': 2162, 'aunt': 2163, 'bound': 2164, 'birth': 2165, 'accus': 2166, 'jungl': 2167, 'storytel': 2168, 'previous': 2169, 'pacino': 2170, 'damag': 2171, 'jess': 2172, 'chose': 2173, 'emma': 2174, 'thirti': 2175, 'guid': 2176, 'nude': 2177, 'propaganda': 2178, 'doll': 2179, 'warrior': 2180, 'mainstream': 2181, 'pet': 2182, 'mate': 2183, 'whoever': 2184, '25': 2185, 'size': 2186, 'latest': 2187, 'gritti': 2188, 'upset': 2189, 'poster': 2190, 'friday': 2191, 'deadli': 2192, 'exact': 2193, 'merit': 2194, 'cooper': 2195, 'sun': 2196, 'settl': 2197, 'rough': 2198, 'citizen': 2199, 'contest': 2200, 'warner': 2201, 'ton': 2202, 'buff': 2203, 'corps': 2204, 'contact': 2205, 'wilson': 2206, 'blend': 2207, 'popul': 2208, '1990': 2209, 'select': 2210, 'overcom': 2211, 'alic': 2212, 'environ': 2213, 'mgm': 2214, 'widow': 2215, 'bu': 2216, 'metal': 2217, 'rat': 2218, 'pitt': 2219, 'lift': 2220, 'ted': 2221, 'link': 2222, 'guilti': 2223, 'revolut': 2224, 'particip': 2225, 'accompani': 2226, 'exagger': 2227, 'afternoon': 2228, 'prostitut': 2229, 'moron': 2230, 'matrix': 2231, 'corner': 2232, '1960': 2233, 'johnson': 2234, 'corpor': 2235, 'multipl': 2236, 'instal': 2237, 'friendli': 2238, 'hood': 2239, 'doom': 2240, 'clair': 2241, 'sincer': 2242, 'holm': 2243, 'leagu': 2244, 'campi': 2245, 'sunday': 2246, 'defend': 2247, 'examin': 2248, 'grim': 2249, 'advis': 2250, 'junk': 2251, 'string': 2252, 'aka': 2253, 'irish': 2254, 'hip': 2255, 'lugosi': 2256, 'blah': 2257, 'pro': 2258, 'rachel': 2259, 'shut': 2260, 'confid': 2261, 'tight': 2262, 'icon': 2263, 'shake': 2264, 'varieti': 2265, 'attach': 2266, 'sullivan': 2267, 'denni': 2268, 'directli': 2269, 'medic': 2270, 'goal': 2271, 'jaw': 2272, 'mexican': 2273, 'sarah': 2274, 'truck': 2275, 'dean': 2276, 'legendari': 2277, 'terrorist': 2278, 'vietnam': 2279, 'bourn': 2280, 'prior': 2281, 'sentenc': 2282, 'courag': 2283, 'breast': 2284, 'duke': 2285, 'split': 2286, 'hong': 2287, 'entri': 2288, 'behav': 2289, 'yell': 2290, 'nose': 2291, 'proceed': 2292, 'un': 2293, 'donald': 2294, 'stolen': 2295, 'concentr': 2296, 'everywher': 2297, 'unconvinc': 2298, 'gather': 2299, 'confess': 2300, 'lifetim': 2301, 'borrow': 2302, 'swim': 2303, 'jerk': 2304, 'forth': 2305, 'buri': 2306, 'crush': 2307, 'pan': 2308, 'spite': 2309, 'turkey': 2310, 'california': 2311, 'lip': 2312, 'julia': 2313, 'deliveri': 2314, 'proud': 2315, 'offici': 2316, 'quest': 2317, 'freeman': 2318, 'downright': 2319, 'china': 2320, 'hoffman': 2321, 'reward': 2322, 'flight': 2323, 'fabul': 2324, 'sink': 2325, 'sir': 2326, 'jon': 2327, 'notori': 2328, 'fade': 2329, 'jail': 2330, 'worthwhil': 2331, 'lazi': 2332, 'betray': 2333, 'encourag': 2334, 'inept': 2335, 'bell': 2336, 'shower': 2337, 'retard': 2338, 'survivor': 2339, 'relev': 2340, 'teeth': 2341, 'branagh': 2342, 'lisa': 2343, 'cousin': 2344, 'bag': 2345, 'susan': 2346, 'imageri': 2347, 'storm': 2348, 'stab': 2349, 'summari': 2350, 'finger': 2351, 'bride': 2352, 'quirki': 2353, 'alright': 2354, 'shark': 2355, 'toler': 2356, 'hugh': 2357, 'facial': 2358, 'trade': 2359, 'mexico': 2360, 'tremend': 2361, 'bitter': 2362, 'pose': 2363, 'von': 2364, 'ha': 2365, 'blown': 2366, 'hyster': 2367, 'larri': 2368, 'christ': 2369, 'ron': 2370, 'cruel': 2371, 'address': 2372, 'bone': 2373, 'afterward': 2374, 'scheme': 2375, 'ned': 2376, 'feed': 2377, 'snake': 2378, 'distinct': 2379, 'tour': 2380, 'swear': 2381, 'traci': 2382, 'pursu': 2383, 'thumb': 2384, 'screw': 2385, 'beg': 2386, 'mechan': 2387, 'chair': 2388, 'obscur': 2389, 'occas': 2390, 'photo': 2391, 'raw': 2392, 'stomach': 2393, 'hardi': 2394, 'heavili': 2395, 'cabin': 2396, 'holiday': 2397, 'necessarili': 2398, 'southern': 2399, 'resist': 2400, 'chain': 2401, 'render': 2402, 'gruesom': 2403, 'argument': 2404, 'sidney': 2405, 'understood': 2406, 'philip': 2407, 'india': 2408, 'racist': 2409, 'indulg': 2410, 'satan': 2411, 'lay': 2412, 'obnoxi': 2413, 'fourth': 2414, 'belov': 2415, 'forgot': 2416, 'midnight': 2417, 'pregnant': 2418, 'integr': 2419, 'stalk': 2420, 'tongu': 2421, 'outfit': 2422, 'slapstick': 2423, 'inhabit': 2424, 'carol': 2425, '17': 2426, 'ticket': 2427, 'garden': 2428, 'magazin': 2429, 'restor': 2430, 'deeper': 2431, 'brad': 2432, 'shoe': 2433, 'lincoln': 2434, 'devot': 2435, 'incid': 2436, 'divorc': 2437, 'guarante': 2438, 'anticip': 2439, 'benefit': 2440, 'underground': 2441, 'maria': 2442, 'sandler': 2443, 'lili': 2444, 'disbelief': 2445, 'elizabeth': 2446, 'greater': 2447, 'mildli': 2448, 'amazingli': 2449, 'explod': 2450, 'bbc': 2451, 'cring': 2452, 'creation': 2453, 'slave': 2454, 'princip': 2455, 'capit': 2456, 'extraordinari': 2457, 'lesli': 2458, 'funnier': 2459, 'introduct': 2460, 'halfway': 2461, 'overwhelm': 2462, 'text': 2463, 'enhanc': 2464, 'tap': 2465, 'transfer': 2466, 'wreck': 2467, 'punish': 2468, 'extent': 2469, 'advantag': 2470, 'error': 2471, 'plant': 2472, 'horrif': 2473, 'lane': 2474, 'preview': 2475, 'deliber': 2476, 'east': 2477, 'lo': 2478, 'dynam': 2479, 'jessica': 2480, 'vacat': 2481, 'miller': 2482, 'homosexu': 2483, 'appli': 2484, '2000': 2485, 'vincent': 2486, 'sophist': 2487, 'ensu': 2488, 'miscast': 2489, 'basi': 2490, 'uncomfort': 2491, 'measur': 2492, 'sleazi': 2493, 'steel': 2494, 'reed': 2495, 'spoken': 2496, 'bollywood': 2497, 'mansion': 2498, 'extend': 2499, 'via': 2500, 'elev': 2501, 'breathtak': 2502, 'cathol': 2503, 'mous': 2504, 'alter': 2505, 'savag': 2506, 'conceiv': 2507, 'goofi': 2508, 'daili': 2509, 'assign': 2510, 'beer': 2511, 'fix': 2512, 'hippi': 2513, 'stanley': 2514, 'overact': 2515, 'blair': 2516, 'melt': 2517, 'dentist': 2518, 'succe': 2519, 'oppos': 2520, 'sacrific': 2521, 'subsequ': 2522, 'properli': 2523, 'nowaday': 2524, 'inspector': 2525, 'burt': 2526, 'everyday': 2527, 'carpent': 2528, 'circl': 2529, 'neck': 2530, 'laura': 2531, 'block': 2532, 'massacr': 2533, 'concert': 2534, 'fallen': 2535, 'access': 2536, 'fay': 2537, 'lesser': 2538, 'mob': 2539, 'portrait': 2540, 'grey': 2541, 'pool': 2542, 'christi': 2543, 'seagal': 2544, 'usa': 2545, 'sinist': 2546, 'chees': 2547, 'isol': 2548, 'competit': 2549, 'react': 2550, 'jake': 2551, 'relax': 2552, 'jewish': 2553, 'chop': 2554, 'immens': 2555, 'ironi': 2556, 'lyric': 2557, 'spiritu': 2558, '2006': 2559, 'appal': 2560, 'suitabl': 2561, 'stink': 2562, 'nonetheless': 2563, 'creep': 2564, 'nine': 2565, 'rage': 2566, 'showcas': 2567, 'franchis': 2568, 'reduc': 2569, 'needless': 2570, 'adopt': 2571, 'sold': 2572, 'spring': 2573, 'nut': 2574, 'navi': 2575, 'shirt': 2576, 'luci': 2577, 'user': 2578, 'retir': 2579, 'zone': 2580, 'bath': 2581, 'bulli': 2582, 'digit': 2583, 'nurs': 2584, 'per': 2585, 'asham': 2586, 'uninspir': 2587, 'jay': 2588, 'stanwyck': 2589, 'laid': 2590, 'oddli': 2591, 'illustr': 2592, 'upper': 2593, 'broadcast': 2594, 'amongst': 2595, '2001': 2596, 'sutherland': 2597, '1940': 2598, 'fulfil': 2599, 'disguis': 2600, 'brando': 2601, 'throat': 2602, 'baker': 2603, 'stylish': 2604, 'aspir': 2605, '18': 2606, 'impli': 2607, 'wwii': 2608, 'nobl': 2609, 'endear': 2610, 'thief': 2611, 'wanna': 2612, 'em': 2613, 'neighborhood': 2614, 'pride': 2615, 'pound': 2616, 'cinematograph': 2617, 'prop': 2618, 'diseas': 2619, 'shift': 2620, 'bett': 2621, 'albeit': 2622, 'distribut': 2623, 'tens': 2624, 'dinner': 2625, 'bo': 2626, 'shoulder': 2627, 'coher': 2628, '16': 2629, 'dawn': 2630, 'rochest': 2631, 'poignant': 2632, 'wash': 2633, 'rebel': 2634, 'function': 2635, 'contract': 2636, 'silenc': 2637, 'knife': 2638, 'forti': 2639, 'snow': 2640, 'matthau': 2641, 'surf': 2642, 'shout': 2643, 'instinct': 2644, 'horrend': 2645, 'chuck': 2646, 'eeri': 2647, 'heat': 2648, 'height': 2649, 'internet': 2650, 'silver': 2651, 'mindless': 2652, 'derek': 2653, 'cancel': 2654, 'reunion': 2655, 'elvira': 2656, 'widmark': 2657, 'cannib': 2658, 'duti': 2659, 'proof': 2660, 'henc': 2661, 'repetit': 2662, 'glori': 2663, 'torn': 2664, 'absorb': 2665, 'greatli': 2666, 'premier': 2667, 'innov': 2668, 'neat': 2669, 'alik': 2670, 'etern': 2671, 'mill': 2672, 'musician': 2673, 'incoher': 2674, 'pie': 2675, 'spielberg': 2676, 'elvi': 2677, 'homag': 2678, 'racism': 2679, 'diamond': 2680, 'announc': 2681, 'redempt': 2682, 'precis': 2683, 'britain': 2684, 'bang': 2685, 'lovabl': 2686, 'trite': 2687, 'nelson': 2688, 'fbi': 2689, 'infam': 2690, 'wealthi': 2691, 'blank': 2692, 'burton': 2693, 'itali': 2694, 'crisi': 2695, 'horrifi': 2696, 'chaplin': 2697, 'happili': 2698, 'flop': 2699, 'helen': 2700, 'ensembl': 2701, 'parallel': 2702, 'wilder': 2703, 'pat': 2704, 'resolut': 2705, 'hammer': 2706, 'dedic': 2707, 'streisand': 2708, 'oil': 2709, 'triumph': 2710, 'conclud': 2711, 'carter': 2712, 'plastic': 2713, 'st': 2714, 'broke': 2715, 'mar': 2716, 'disagre': 2717, 'factori': 2718, 'cube': 2719, 'chuckl': 2720, 'own': 2721, 'march': 2722, 'fighter': 2723, 'climb': 2724, 'weight': 2725, 'vega': 2726, 'bush': 2727, 'row': 2728, 'rocket': 2729, 'unforgett': 2730, 'dane': 2731, 'kurt': 2732, 'thug': 2733, 'boot': 2734, 'spare': 2735, 'meaning': 2736, 'wherea': 2737, 'lust': 2738, 'enorm': 2739, 'luca': 2740, 'dump': 2741, 'sensibl': 2742, 'mst3k': 2743, 'engin': 2744, 'caricatur': 2745, 'butt': 2746, 'stress': 2747, 'bobbi': 2748, 'adequ': 2749, 'fifti': 2750, 'arnold': 2751, 'difficulti': 2752, 'rap': 2753, 'threat': 2754, 'dear': 2755, 'brand': 2756, 'karloff': 2757, 'polish': 2758, 'arrog': 2759, 'journalist': 2760, 'secretari': 2761, 'ego': 2762, 'elabor': 2763, 'swing': 2764, 'homeless': 2765, 'fest': 2766, 'hamlet': 2767, 'ralph': 2768, 'barri': 2769, 'flynn': 2770, 'arrang': 2771, 'grate': 2772, 'float': 2773, 'resort': 2774, 'puppet': 2775, 'conspiraci': 2776, 'simpson': 2777, 'spike': 2778, 'fanci': 2779, 'unbear': 2780, 'induc': 2781, 'tool': 2782, 'pig': 2783, 'tribut': 2784, 'guilt': 2785, 'boll': 2786, 'phillip': 2787, 'choreograph': 2788, 'muppet': 2789, 'basement': 2790, 'cruis': 2791, 'exercis': 2792, 'document': 2793, 'slip': 2794, 'babe': 2795, 'korean': 2796, 'toilet': 2797, '24': 2798, 'ward': 2799, 'fianc': 2800, 'puzzl': 2801, 'scarecrow': 2802, 'medium': 2803, 'tower': 2804, 'item': 2805, 'stan': 2806, 'ham': 2807, 'file': 2808, 'editor': 2809, 'layer': 2810, 'minim': 2811, 'glover': 2812, 'territori': 2813, 'inexplic': 2814, 'superfici': 2815, 'librari': 2816, 'persona': 2817, 'spark': 2818, 'portion': 2819, 'slaughter': 2820, 'larger': 2821, 'transit': 2822, 'assur': 2823, 'doc': 2824, 'orient': 2825, 'catherin': 2826, 'denzel': 2827, 'philosoph': 2828, 'dorothi': 2829, 'financi': 2830, 'shi': 2831, 'owe': 2832, 'sneak': 2833, 'pg': 2834, 'boredom': 2835, 'curti': 2836, 'jet': 2837, 'ban': 2838, 'wolf': 2839, 'jeremi': 2840, 'walken': 2841, 'hudson': 2842, 'ambigu': 2843, 'metaphor': 2844, 'profound': 2845, 'eleph': 2846, 'backdrop': 2847, 'cusack': 2848, 'whale': 2849, 'multi': 2850, 'union': 2851, 'notion': 2852, 'implaus': 2853, '2005': 2854, 'ultra': 2855, 'elsewher': 2856, 'rave': 2857, 'viru': 2858, 'stiff': 2859, 'gadget': 2860, 'hack': 2861, 'birthday': 2862, 'lloyd': 2863, 'eva': 2864, 'pad': 2865, 'slight': 2866, 'disc': 2867, 'bibl': 2868, 'reader': 2869, 'eastwood': 2870, 'hawk': 2871, 'squar': 2872, 'newspap': 2873, 'deriv': 2874, 'canada': 2875, '1st': 2876, 'distanc': 2877, 'afford': 2878, 'urg': 2879, 'poison': 2880, 'superhero': 2881, 'montag': 2882, 'health': 2883, 'heston': 2884, 'essenc': 2885, 'button': 2886, 'drown': 2887, 'spread': 2888, 'huh': 2889, 'charisma': 2890, 'cure': 2891, 'skit': 2892, 'restaur': 2893, 'sadist': 2894, 'companion': 2895, 'maniac': 2896, 'invest': 2897, 'godfath': 2898, 'fetch': 2899, 'estat': 2900, 'muslim': 2901, 'gradual': 2902, 'peak': 2903, 'lab': 2904, 'scoobi': 2905, 'dealt': 2906, 'tea': 2907, 'kane': 2908, 'cup': 2909, 'alli': 2910, 'gothic': 2911, 'countless': 2912, 'servant': 2913, 'subtleti': 2914, 'ritter': 2915, 'miik': 2916, 'heroic': 2917, 'charismat': 2918, 'salli': 2919, 'electr': 2920, 'briefli': 2921, 'elect': 2922, 'iii': 2923, 'bud': 2924, 'nuanc': 2925, 'admittedli': 2926, 'ingredi': 2927, 'resourc': 2928, 'wannab': 2929, 'cole': 2930, 'tender': 2931, 'neil': 2932, 'grandmoth': 2933, 'toss': 2934, 'reel': 2935, 'stronger': 2936, 'shall': 2937, 'pit': 2938, 'kubrick': 2939, 'label': 2940, 'mild': 2941, 'poverti': 2942, 'mafia': 2943, 'pauli': 2944, 'stood': 2945, 'reev': 2946, 'gate': 2947, 'dawson': 2948, 'carrey': 2949, 'punk': 2950, 'smooth': 2951, 'outcom': 2952, 'cardboard': 2953, 'burst': 2954, 'fond': 2955, 'tag': 2956, 'bakshi': 2957, 'smash': 2958, 'easier': 2959, 'terri': 2960, 'ian': 2961, 'cox': 2962, 'updat': 2963, 'astair': 2964, 'assault': 2965, 'useless': 2966, '2002': 2967, 'coincid': 2968, 'increasingli': 2969, 'melodramat': 2970, 'exchang': 2971, 'sketch': 2972, 'rex': 2973, 'qualifi': 2974, 'fist': 2975, 'vari': 2976, 'resolv': 2977, 'divers': 2978, 'vulner': 2979, 'samurai': 2980, 'scratch': 2981, 'brillianc': 2982, 'tame': 2983, 'insert': 2984, 'suspend': 2985, 'blast': 2986, 'conveni': 2987, 'be': 2988, 'templ': 2989, 'reynold': 2990, 'luckili': 2991, 'nuclear': 2992, 'pin': 2993, 'seventi': 2994, 'hamilton': 2995, 'jami': 2996, 'soprano': 2997, 'walker': 2998, 'fisher': 2999, 'gotta': 3000, 'farm': 3001, 'coach': 3002, 'matthew': 3003, 'meat': 3004, 'strictli': 3005, 'ambiti': 3006, 'joey': 3007, 'revers': 3008, 'cave': 3009, 'worthless': 3010, 'discoveri': 3011, 'closet': 3012, 'timeless': 3013, 'empir': 3014, 'recreat': 3015, 'struck': 3016, 'butcher': 3017, 'clock': 3018, 'instantli': 3019, 'eccentr': 3020, 'spooki': 3021, 'kudo': 3022, 'brosnan': 3023, 'convolut': 3024, 'ninja': 3025, 'monk': 3026, 'grasp': 3027, 'norman': 3028, 'selfish': 3029, 'inconsist': 3030, 'evok': 3031, 'bleak': 3032, 'mitchel': 3033, 'declar': 3034, 'miracl': 3035, 'gray': 3036, 'pal': 3037, 'partli': 3038, 'fifteen': 3039, 'importantli': 3040, 'cliff': 3041, 'eighti': 3042, 'seller': 3043, 'sidekick': 3044, 'wipe': 3045, 'communist': 3046, 'clown': 3047, 'sloppi': 3048, 'superbl': 3049, 'stoog': 3050, 'psychiatrist': 3051, 'lifestyl': 3052, 'enthusiast': 3053, 'aforement': 3054, 'farc': 3055, 'cheek': 3056, 'websit': 3057, 'piano': 3058, 'seed': 3059, 'australia': 3060, '45': 3061, 'chew': 3062, 'flawless': 3063, 'debat': 3064, 'destin': 3065, 'ho': 3066, 'emili': 3067, 'dash': 3068, 'dire': 3069, 'soviet': 3070, 'wrestl': 3071, 'incompet': 3072, 'anni': 3073, 'regardless': 3074, 'pressur': 3075, 'akshay': 3076, 'drivel': 3077, 'bash': 3078, 'abc': 3079, 'wick': 3080, 'kitchen': 3081, 'slice': 3082, 'splatter': 3083, 'directori': 3084, 'judi': 3085, 'helicopt': 3086, 'duo': 3087, 'dave': 3088, 'cameron': 3089, 'distant': 3090, 'increas': 3091, 'jar': 3092, 'beaten': 3093, 'ken': 3094, 'curios': 3095, 'prize': 3096, 'artifici': 3097, 'cia': 3098, 'suppli': 3099, 'flower': 3100, 'chapter': 3101, 'cagney': 3102, 'glow': 3103, 'boil': 3104, 'seduc': 3105, 'doo': 3106, 'recov': 3107, 'lou': 3108, 'mann': 3109, 'pleasantli': 3110, 'blob': 3111, 'panic': 3112, 'turner': 3113, 'laurel': 3114, 'ranger': 3115, 'craven': 3116, 'web': 3117, 'splendid': 3118, 'francisco': 3119, 'hop': 3120, 'combat': 3121, 'eleg': 3122, 'drunken': 3123, 'glenn': 3124, 'craig': 3125, 'favour': 3126, 'psychot': 3127, 'perri': 3128, 'ellen': 3129, 'goldberg': 3130, 'fx': 3131, 'flip': 3132, 'ruth': 3133, 'gentl': 3134, '20th': 3135, 'rid': 3136, 'graduat': 3137, 'alexand': 3138, 'shortli': 3139, 'philosophi': 3140, 'hatr': 3141, 'gandhi': 3142, 'falk': 3143, 'slightest': 3144, 'wizard': 3145, 'greek': 3146, 'modesti': 3147, 'min': 3148, 'plausibl': 3149, 'we': 3150, 'holi': 3151, 'legal': 3152, 'lend': 3153, 'jealou': 3154, 'manhattan': 3155, 'knight': 3156, 'preciou': 3157, 'tall': 3158, 'ocean': 3159, 'dracula': 3160, 'unpleas': 3161, 'fund': 3162, 'harm': 3163, 'futurist': 3164, 'felix': 3165, 'mock': 3166, 'scientif': 3167, 'childish': 3168, 'thread': 3169, 'ami': 3170, 'overdon': 3171, 'bless': 3172, 'tank': 3173, 'forbidden': 3174, 'nod': 3175, 'digniti': 3176, 'reviv': 3177, 'explicit': 3178, 'giallo': 3179, 'verhoeven': 3180, '2004': 3181, 'thick': 3182, 'mel': 3183, 'awaken': 3184, 'torment': 3185, 'repeatedli': 3186, 'margaret': 3187, 'nerv': 3188, 'elderli': 3189, 'broad': 3190, 'eve': 3191, 'pirat': 3192, 'unwatch': 3193, '99': 3194, 'yesterday': 3195, 'awe': 3196, 'fever': 3197, 'rivet': 3198, 'acclaim': 3199, 'bin': 3200, 'royal': 3201, 'launch': 3202, 'publish': 3203, 'roman': 3204, 'ambit': 3205, 'politician': 3206, 'eas': 3207, 'timothi': 3208, 'romero': 3209, 'uniform': 3210, 'kay': 3211, 'ah': 3212, 'automat': 3213, 'custom': 3214, 'absenc': 3215, 'stiller': 3216, 'lean': 3217, 'griffith': 3218, 'purpl': 3219, 'warren': 3220, 'homicid': 3221, 'tomato': 3222, 'termin': 3223, 'phrase': 3224, 'sunshin': 3225, 'foul': 3226, 'wallac': 3227, 'transport': 3228, 'crook': 3229, 'pierc': 3230, 'bathroom': 3231, 'antic': 3232, 'stinker': 3233, 'gabriel': 3234, 'pulp': 3235, 'darker': 3236, 'donna': 3237, 'contrari': 3238, '2003': 3239, 'evolv': 3240, 'karen': 3241, 'q': 3242, 'saint': 3243, 'packag': 3244, 'awak': 3245, 'horrid': 3246, 'sixti': 3247, 'brazil': 3248, 'li': 3249, 'hollow': 3250, 'viciou': 3251, 'kenneth': 3252, 'juvenil': 3253, 'album': 3254, 'marin': 3255, 'ought': 3256, 'pray': 3257, 'revolutionari': 3258, 'choreographi': 3259, 'coloni': 3260, 'rambo': 3261, 'prom': 3262, 'eyr': 3263, 'beatti': 3264, 'mildr': 3265, 'dose': 3266, 'conserv': 3267, 'stole': 3268, 'ireland': 3269, 'boast': 3270, 'mummi': 3271, 'overr': 3272, 'option': 3273, 'twelv': 3274, 'ramon': 3275, 'kapoor': 3276, 'defi': 3277, 'nerd': 3278, 'candid': 3279, 'blade': 3280, 'flame': 3281, 'global': 3282, 'jazz': 3283, 'protest': 3284, 'kirk': 3285, 'altman': 3286, 'fulci': 3287, 'confirm': 3288, 'astonish': 3289, 'collabor': 3290, 'trio': 3291, 'funer': 3292, 'natali': 3293, 'detract': 3294, 'bull': 3295, 'tommi': 3296, 'leap': 3297, 'bottl': 3298, 'enterpris': 3299, 'delici': 3300, 'racial': 3301, 'whip': 3302, 'yellow': 3303, 'spit': 3304, 'nicholson': 3305, 'audio': 3306, 'blake': 3307, 'destini': 3308, 'mystic': 3309, 'shade': 3310, 'todd': 3311, 'swedish': 3312, 'harder': 3313, 'visibl': 3314, 'inherit': 3315, 'threw': 3316, 'enchant': 3317, 'merci': 3318, 'pseudo': 3319, 'altogeth': 3320, 'staff': 3321, 'adolesc': 3322, 'neo': 3323, 'reunit': 3324, 'popcorn': 3325, 'fonda': 3326, 'bedroom': 3327, 'meaningless': 3328, 'vivid': 3329, 'await': 3330, 'atlanti': 3331, 'bust': 3332, 'ruthless': 3333, 'lemmon': 3334, 'moodi': 3335, 'fanat': 3336, 'jew': 3337, 'wire': 3338, 'suspici': 3339, 'voight': 3340, 'lawrenc': 3341, 'uneven': 3342, 'crocodil': 3343, 'synopsi': 3344, 'leonard': 3345, 'edi': 3346, 'madonna': 3347, 'reserv': 3348, 'kennedi': 3349, 'befriend': 3350, 'tip': 3351, 'roommat': 3352, 'respond': 3353, 'exhibit': 3354, 'decor': 3355, 'ventur': 3356, '2007': 3357, 'garner': 3358, 'chao': 3359, 'bradi': 3360, 'clint': 3361, 'incident': 3362, 'carl': 3363, 'bold': 3364, 'holli': 3365, 'audit': 3366, 'centr': 3367, 'dimens': 3368, 'clumsi': 3369, 'abysm': 3370, 'palma': 3371, 'bargain': 3372, 'voyag': 3373, 'rural': 3374, 'unsettl': 3375, '2nd': 3376, 'tiger': 3377, 'cari': 3378, 'humili': 3379, 'troop': 3380, 'poetic': 3381, 'elimin': 3382, 'nearbi': 3383, 'versu': 3384, 'acknowledg': 3385, 'hart': 3386, 'trail': 3387, 'cuba': 3388, 'mall': 3389, 'wealth': 3390, 'daddi': 3391, 'cd': 3392, 'immigr': 3393, 'echo': 3394, 'characterist': 3395, 'lit': 3396, 'neglect': 3397, 'imperson': 3398, 'ant': 3399, 'timon': 3400, 'homer': 3401, 'saga': 3402, 'paus': 3403, 'domest': 3404, 'mickey': 3405, 'prejudic': 3406, 'mistaken': 3407, 'repuls': 3408, 'collaps': 3409, 'solo': 3410, 'infect': 3411, 'pun': 3412, 'celluloid': 3413, 'marshal': 3414, 'jeffrey': 3415, 'interrupt': 3416, 'equip': 3417, 'hbo': 3418, 'inappropri': 3419, 'gear': 3420, 'milk': 3421, 'inan': 3422, 'sore': 3423, 'coffe': 3424, 'promin': 3425, 'coat': 3426, 'undoubtedli': 3427, 'chest': 3428, 'pant': 3429, 'assembl': 3430, '1996': 3431, 'olivi': 3432, 'cake': 3433, 'ginger': 3434, 'leon': 3435, 'harvey': 3436, 'apolog': 3437, 'tribe': 3438, 'primari': 3439, 'colonel': 3440, 'humbl': 3441, 'exot': 3442, 'pot': 3443, 'airplan': 3444, 'retain': 3445, 'highest': 3446, 'maggi': 3447, 'aveng': 3448, 'pen': 3449, 'brooklyn': 3450, 'consum': 3451, 'florida': 3452, 'jenni': 3453, 'furthermor': 3454, 'solut': 3455, 'colleagu': 3456, 'devast': 3457, 'embrac': 3458, 'trace': 3459, 'polanski': 3460, 'instant': 3461, 'institut': 3462, 'vulgar': 3463, '3rd': 3464, 'wive': 3465, 'descend': 3466, 'rick': 3467, 'ya': 3468, 'godzilla': 3469, 'dian': 3470, 'illog': 3471, 'bowl': 3472, 'principl': 3473, 'poke': 3474, 'disabl': 3475, 'cope': 3476, 'dutch': 3477, 'gender': 3478, 'strain': 3479, 'linda': 3480, 'smaller': 3481, '1999': 3482, 'sale': 3483, 'seduct': 3484, 'outer': 3485, 'vast': 3486, 'predecessor': 3487, 'cue': 3488, 'bubbl': 3489, 'rabbit': 3490, 'yard': 3491, 'inferior': 3492, 'beneath': 3493, 'hal': 3494, 'lol': 3495, 'glamor': 3496, 'blatant': 3497, 'dud': 3498, 'dive': 3499, 'primarili': 3500, 'scope': 3501, 'mixtur': 3502, 'gloriou': 3503, 'devoid': 3504, 'secondli': 3505, 'gundam': 3506, 'z': 3507, 'alfr': 3508, 'streep': 3509, 'hideou': 3510, 'senseless': 3511, 'april': 3512, 'shirley': 3513, 'garbo': 3514, 'casual': 3515, 'shelf': 3516, 'trademark': 3517, 'countrysid': 3518, 'talki': 3519, 'arab': 3520, 'myer': 3521, 'simplist': 3522, 'breed': 3523, 'museum': 3524, 'disjoint': 3525, 'aggress': 3526, 'pearl': 3527, 'invas': 3528, 'et': 3529, 'grinch': 3530, 'alert': 3531, 'domino': 3532, 'stack': 3533, 'sh': 3534, 'maci': 3535, 'hopeless': 3536, 'robinson': 3537, 'rendit': 3538, 'stellar': 3539, 'mail': 3540, 'experiment': 3541, 'hardcor': 3542, 'uwe': 3543, 'khan': 3544, 'slide': 3545, 'illeg': 3546, 'disgrac': 3547, 'stir': 3548, 'boom': 3549, 'oz': 3550, 'loyal': 3551, 'robberi': 3552, 'defens': 3553, 'vanish': 3554, 'acid': 3555, 'mayor': 3556, 'obtain': 3557, 'unhappi': 3558, 'applaud': 3559, 'wont': 3560, 'topless': 3561, 'scroog': 3562, 'incomprehens': 3563, 'tempt': 3564, 'amanda': 3565, 'psychic': 3566, 'spider': 3567, 'blew': 3568, 'emphasi': 3569, 'declin': 3570, 'dismiss': 3571, 'span': 3572, 'dicken': 3573, 'recruit': 3574, 'diana': 3575, 'fri': 3576, 'tenant': 3577, 'berlin': 3578, 'soccer': 3579, 'craze': 3580, 'counter': 3581, 'grandfath': 3582, 'rifl': 3583, 'hartley': 3584, 'trashi': 3585, 'porno': 3586, 'intim': 3587, 'resurrect': 3588, 'riot': 3589, 'parad': 3590, 'niro': 3591, 'revolt': 3592, 'ethnic': 3593, 'goer': 3594, 'woo': 3595, 'justin': 3596, 'sibl': 3597, 'bitch': 3598, 'sympath': 3599, 'ration': 3600, 'faster': 3601, 'shed': 3602, 'lumet': 3603, 'shaw': 3604, 'wet': 3605, 'commend': 3606, 'unreal': 3607, 'hesit': 3608, 'feminist': 3609, 'gap': 3610, 'enlighten': 3611, 'honesti': 3612, 'weakest': 3613, 'biographi': 3614, 'eager': 3615, 'mario': 3616, 'hopper': 3617, '00': 3618, 'farmer': 3619, 'immort': 3620, 'wheel': 3621, 'choru': 3622, 'rider': 3623, 'region': 3624, 'steam': 3625, 'nephew': 3626, 'dealer': 3627, 'ensur': 3628, 'patriot': 3629, 'jonathan': 3630, 'wendi': 3631, 'slick': 3632, 'worm': 3633, 'ballet': 3634, 'partial': 3635, 'andr': 3636, 'lena': 3637, 'vice': 3638, 'blunt': 3639, 'properti': 3640, 'nostalg': 3641, 'snap': 3642, 'repress': 3643, 'owen': 3644, 'util': 3645, 'skull': 3646, 'kingdom': 3647, 'composit': 3648, 'macarthur': 3649, 'prequel': 3650, 'sappi': 3651, 'similarli': 3652, 'hung': 3653, 'confin': 3654, 'psychopath': 3655, 'safeti': 3656, 'morri': 3657, 'wore': 3658, 'sandra': 3659, 'victori': 3660, 'leo': 3661, 'franco': 3662, 'charlott': 3663, 'mutant': 3664, 'emperor': 3665, 'bonu': 3666, 'campbel': 3667, 'despair': 3668, 'heartbreak': 3669, 'latin': 3670, 'valuabl': 3671, 'cg': 3672, 'deed': 3673, 'del': 3674, 'repli': 3675, 'exit': 3676, 'rocki': 3677, 'thru': 3678, 'rope': 3679, 'compens': 3680, 'bergman': 3681, 'acquir': 3682, 'farrel': 3683, 'dust': 3684, 'pattern': 3685, 'rambl': 3686, 'kyle': 3687, 'speci': 3688, 'compass': 3689, 'tad': 3690, 'drum': 3691, 'nervou': 3692, 'drain': 3693, 'recycl': 3694, 'miseri': 3695, 'hyde': 3696, 'montana': 3697, 'strand': 3698, 'tail': 3699, 'bow': 3700, 'bumbl': 3701, 'whoopi': 3702, 'dalton': 3703, '1972': 3704, 'snl': 3705, 'da': 3706, 'romp': 3707, 'radic': 3708, 'chess': 3709, 'airport': 3710, 'olli': 3711, 'downhil': 3712, 'rotten': 3713, 'pour': 3714, 'bleed': 3715, 'percept': 3716, 'martian': 3717, 'carradin': 3718, 'contempl': 3719, 'mistress': 3720, 'tonight': 3721, '35': 3722, 'orson': 3723, 'gal': 3724, 'gimmick': 3725, 'oppress': 3726, 'roth': 3727, 'slug': 3728, 'rapist': 3729, 'wacki': 3730, 'dazzl': 3731, 'taught': 3732, 'edgar': 3733, 'champion': 3734, '1983': 3735, 'arguabl': 3736, 'mislead': 3737, 'slash': 3738, 'tackl': 3739, 'stilt': 3740, 'attorney': 3741, 'preach': 3742, 'unpredict': 3743, 'programm': 3744, 'banal': 3745, 'pursuit': 3746, 'shelley': 3747, 'pervert': 3748, 'tooth': 3749, 'heal': 3750, 'belt': 3751, 'pervers': 3752, 'arc': 3753, 'paltrow': 3754, 'melodi': 3755, 'poem': 3756, 'employe': 3757, 'dixon': 3758, 'vengeanc': 3759, 'tiresom': 3760, 'chicken': 3761, 'gambl': 3762, 'uplift': 3763, 'plight': 3764, 'virginia': 3765, 'maid': 3766, 'cleverli': 3767, 'rubi': 3768, 'bela': 3769, 'marti': 3770, 'graham': 3771, 'conneri': 3772, 'passeng': 3773, 'raymond': 3774, 'franki': 3775, 'vocal': 3776, 'duval': 3777, 'sensat': 3778, 'orang': 3779, 'mesmer': 3780, 'closest': 3781, 'sirk': 3782, 'quarter': 3783, 'clone': 3784, 'tube': 3785, 'yawn': 3786, 'mute': 3787, 'crystal': 3788, 'giggl': 3789, 'habit': 3790, 'volum': 3791, 'inject': 3792, 'monologu': 3793, 'profan': 3794, 'engross': 3795, 'numb': 3796, 'extens': 3797, 'secretli': 3798, 'calm': 3799, 'abraham': 3800, 'climact': 3801, 'gerard': 3802, 'scottish': 3803, 'swallow': 3804, '1968': 3805, 'bay': 3806, 'whine': 3807, 'iran': 3808, 'paranoia': 3809, 'lundgren': 3810, 'pokemon': 3811, 'amitabh': 3812, 'convincingli': 3813, 'suffic': 3814, 'outing': 3815, 'dispos': 3816, 'underst': 3817, 'trend': 3818, 'expand': 3819, 'linger': 3820, 'richardson': 3821, 'nichola': 3822, 'junior': 3823, 'im': 3824, 'lowest': 3825, 'surpass': 3826, 'ethan': 3827, 'backward': 3828, 'profess': 3829, 'grotesqu': 3830, 'chicago': 3831, 'septemb': 3832, 'meander': 3833, 'fed': 3834, 'frankenstein': 3835, 'taxi': 3836, 'bend': 3837, 'austen': 3838, 'poetri': 3839, 'franci': 3840, 'spock': 3841, 'plod': 3842, 'earl': 3843, 'abort': 3844, 'econom': 3845, 'stallon': 3846, 'rant': 3847, 'descent': 3848, 'simplic': 3849, 'literatur': 3850, 'waitress': 3851, 'instrument': 3852, 'rubber': 3853, 'household': 3854, 'eugen': 3855, 'muddl': 3856, 'sue': 3857, 'compliment': 3858, 'lure': 3859, 'spoke': 3860, 'hum': 3861, 'der': 3862, 'mundan': 3863, 'nostalgia': 3864, 'greedi': 3865, 'cannon': 3866, 'myth': 3867, 'dysfunct': 3868, 'catchi': 3869, 'tourist': 3870, 'bacal': 3871, 'sissi': 3872, 'randi': 3873, 'irrelev': 3874, 'stale': 3875, 'hello': 3876, 'omen': 3877, 'duck': 3878, 'crucial': 3879, 'recognis': 3880, 'occupi': 3881, 'june': 3882, 'louis': 3883, 'molli': 3884, 'flee': 3885, 'map': 3886, 'deaf': 3887, 'firstli': 3888, 'equival': 3889, 'phantom': 3890, 'mankind': 3891, 'cent': 3892, 'dement': 3893, 'lang': 3894, 'insur': 3895, 'eaten': 3896, 'furi': 3897, 'alongsid': 3898, 'recognit': 3899, 'phoni': 3900, 'carel': 3901, 'dictat': 3902, 'mortal': 3903, 'damon': 3904, 'coast': 3905, 'lengthi': 3906, 'ashley': 3907, 'damm': 3908, 'cyborg': 3909, 'freez': 3910, 'rude': 3911, 'newli': 3912, 'rooney': 3913, 'loyalti': 3914, 'twilight': 3915, '1973': 3916, 'heel': 3917, 'wisdom': 3918, 'drake': 3919, 'reign': 3920, 'blackmail': 3921, 'labor': 3922, 'buffalo': 3923, 'dreari': 3924, 'bump': 3925, 'daisi': 3926, 'bike': 3927, 'grayson': 3928, 'distinguish': 3929, 'likewis': 3930, 'antwon': 3931, 'onlin': 3932, 'biko': 3933, 'sailor': 3934, 'nineti': 3935, 'boxer': 3936, 'provoc': 3937, 'chronicl': 3938, 'worn': 3939, 'pink': 3940, 'unorigin': 3941, 'exposur': 3942, 'proce': 3943, 'ridden': 3944, 'emphas': 3945, 'basketbal': 3946, 'prey': 3947, 'attribut': 3948, 'baddi': 3949, 'approv': 3950, 'startl': 3951, 'interior': 3952, 'butler': 3953, 'inher': 3954, 'keith': 3955, 'analysi': 3956, 'barrymor': 3957, 'incorpor': 3958, 'vein': 3959, 'tunnel': 3960, 'indiffer': 3961, 'mighti': 3962, 'julian': 3963, 'millionair': 3964, 'elm': 3965, 'unrel': 3966, 'substitut': 3967, 'barrel': 3968, 'bunni': 3969, 'nicol': 3970, 'er': 3971, 'improvis': 3972, 'fleet': 3973, 'simmon': 3974, 'underli': 3975, 'drift': 3976, 'degrad': 3977, 'stalker': 3978, 'undeni': 3979, 'meg': 3980, 'condemn': 3981, 'predat': 3982, 'hypnot': 3983, 'walsh': 3984, 'belushi': 3985, 'meyer': 3986, 'mormon': 3987, 'othello': 3988, 'robbin': 3989, 'carla': 3990, 'palac': 3991, 'lampoon': 3992, 'marion': 3993, 'shove': 3994, 'vital': 3995, 'mtv': 3996, 'disord': 3997, 'novak': 3998, 'nyc': 3999, 'roof': 4000, 'edgi': 4001, 'warmth': 4002, 'exquisit': 4003, 'priceless': 4004, 'agenda': 4005, 'alarm': 4006, '3d': 4007, 'firm': 4008, 'enthusiasm': 4009, 'hay': 4010, 'rukh': 4011, 'watson': 4012, 'dolph': 4013, 'unawar': 4014, 'errol': 4015, 'alison': 4016, 'greed': 4017, 'reid': 4018, 'session': 4019, 'beatl': 4020, 'angela': 4021, 'thompson': 4022, 'nun': 4023, 'peril': 4024, 'ponder': 4025, 'profit': 4026, 'simultan': 4027, 'petti': 4028, 'what': 4029, 'championship': 4030, 'unleash': 4031, 'preserv': 4032, 'campaign': 4033, 'peck': 4034, 'pamela': 4035, 'gestur': 4036, 'eastern': 4037, 'orlean': 4038, 'coup': 4039, '13th': 4040, 'spain': 4041, 'testament': 4042, '1933': 4043, 'israel': 4044, 'distort': 4045, 'minimum': 4046, 'randomli': 4047, 'sergeant': 4048, 'iraq': 4049, 'valentin': 4050, 'cassidi': 4051, 'glanc': 4052, 'drip': 4053, 'crown': 4054, 'showdown': 4055, 'zizek': 4056, 'climat': 4057, 'cream': 4058, 'jan': 4059, 'contradict': 4060, 'realm': 4061, 'gentleman': 4062, 'exposit': 4063, 'valley': 4064, 'crow': 4065, 'represent': 4066, 'bro': 4067, 'stake': 4068, 'unimagin': 4069, 'stroke': 4070, 'reson': 4071, 'wig': 4072, 'restrain': 4073, 'cooki': 4074, '1984': 4075, 'scotland': 4076, 'crawl': 4077, 'buster': 4078, 'rout': 4079, 'han': 4080, 'mon': 4081, 'regist': 4082, 'travesti': 4083, 'brenda': 4084, 'perpetu': 4085, 'fido': 4086, 'miyazaki': 4087, 'calib': 4088, 'shootout': 4089, 'din': 4090, 'quinn': 4091, 'empathi': 4092, 'kurosawa': 4093, 'sabrina': 4094, 'censor': 4095, 'pretens': 4096, 'shaki': 4097, 'delic': 4098, 'passabl': 4099, 'cloud': 4100, 'perceiv': 4101, 'stargat': 4102, 'darren': 4103, 'warrant': 4104, 'meryl': 4105, 'geek': 4106, 'abomin': 4107, 'soderbergh': 4108, 'demis': 4109, '1997': 4110, 'josh': 4111, 'crawford': 4112, 'tacki': 4113, 'traumat': 4114, 'pole': 4115, 'unseen': 4116, 'monoton': 4117, 'femm': 4118, 'wax': 4119, 'distress': 4120, 'businessman': 4121, 'unsatisfi': 4122, 'compromis': 4123, 'baldwin': 4124, 'fuller': 4125, 'absent': 4126, 'spacey': 4127, 'ross': 4128, 'sucker': 4129, '1987': 4130, 'shoddi': 4131, 'greg': 4132, 'mclaglen': 4133, 'painter': 4134, 'sammi': 4135, 'derang': 4136, 'ustinov': 4137, 'dana': 4138, 'tarantino': 4139, 'click': 4140, 'judgment': 4141, 'clash': 4142, 'unravel': 4143, 'dee': 4144, 'anchor': 4145, '1993': 4146, 'furiou': 4147, 'austin': 4148, 'valid': 4149, 'wholli': 4150, 'fog': 4151, 'kumar': 4152, 'deniro': 4153, 'uncov': 4154, 'antonioni': 4155, 'exclus': 4156, 'fenc': 4157, 'polici': 4158, 'accuraci': 4159, 'seal': 4160, 'correctli': 4161, 'primit': 4162, 'verbal': 4163, 'expedit': 4164, 'norm': 4165, 'nathan': 4166, 'tech': 4167, 'deceas': 4168, 'reluct': 4169, 'jewel': 4170, 'sid': 4171, 'malon': 4172, 'ritual': 4173, 'mode': 4174, 'sheet': 4175, 'sunni': 4176, 'hallucin': 4177, 'fabric': 4178, 'murray': 4179, 'trait': 4180, 'patienc': 4181, 'pocket': 4182, 'darn': 4183, 'temper': 4184, 'enforc': 4185, 'wretch': 4186, 'clerk': 4187, 'sand': 4188, 'fought': 4189, 'behold': 4190, '1995': 4191, 'nicola': 4192, 'unfair': 4193, 'conduct': 4194, 'slam': 4195, 'dreck': 4196, '2008': 4197, '3000': 4198, 'tax': 4199, 'roller': 4200, 'bake': 4201, 'fart': 4202, 'seldom': 4203, 'sustain': 4204, 'debt': 4205, 'crippl': 4206, 'logan': 4207, 'alec': 4208, 'joel': 4209, 'wang': 4210, '1971': 4211, 'shanghai': 4212, 'vanc': 4213, 'pete': 4214, 'tactic': 4215, 'grief': 4216, 'fundament': 4217, 'exhaust': 4218, 'schedul': 4219, 'robber': 4220, 'clau': 4221, 'bias': 4222, 'canyon': 4223, 'phil': 4224, 'shell': 4225, 'legaci': 4226, 'helpless': 4227, 'stuart': 4228, 'squad': 4229, 'scriptwrit': 4230, 'despis': 4231, 'conscious': 4232, 'sweep': 4233, 'soup': 4234, 'preposter': 4235, 'guitar': 4236, 'critiqu': 4237, 'isabel': 4238, 'technicolor': 4239, 'divid': 4240, 'penni': 4241, 'outlin': 4242, 'stark': 4243, 'runner': 4244, 'preston': 4245, 'bridget': 4246, 'rita': 4247, 'alley': 4248, 'jodi': 4249, 'unexpectedli': 4250, 'jacket': 4251, 'culmin': 4252, 'delv': 4253, 'marc': 4254, 'russia': 4255, 'kansa': 4256, 'propos': 4257, 'inabl': 4258, 'drove': 4259, 'gregori': 4260, 'sugar': 4261, 'newman': 4262, 'sniper': 4263, 'rehash': 4264, 'restrict': 4265, 'implic': 4266, 'palanc': 4267, 'boyl': 4268, 'connor': 4269, 'vomit': 4270, 'invad': 4271, 'cigarett': 4272, 'downey': 4273, 'agenc': 4274, 'lacklust': 4275, 'rear': 4276, 'passag': 4277, 'sentinel': 4278, 'liberti': 4279, 'flair': 4280, 'bloom': 4281, 'alicia': 4282, 'consciou': 4283, 'sharon': 4284, 'horn': 4285, 'feat': 4286, 'awhil': 4287, 'foxx': 4288, 'delet': 4289, 'chainsaw': 4290, 'karl': 4291, 'cap': 4292, 'lush': 4293, 'tripe': 4294, 'behaviour': 4295, 'rehears': 4296, '1936': 4297, 'tendenc': 4298, 'pale': 4299, 'rod': 4300, '22': 4301, 'rampag': 4302, 'arrow': 4303, 'ladder': 4304, 'vet': 4305, 'aesthet': 4306, 'wrench': 4307, 'improb': 4308, 'asylum': 4309, 'yeti': 4310, 'bacon': 4311, 'kolchak': 4312, 'mccoy': 4313, 'financ': 4314, 'lurk': 4315, '1920': 4316, 'weav': 4317, 'visitor': 4318, 'shortcom': 4319, 'conscienc': 4320, '1978': 4321, 'prank': 4322, 'tomorrow': 4323, 'minu': 4324, 'wildli': 4325, 'el': 4326, '19th': 4327, 'suspicion': 4328, 'stream': 4329, 'globe': 4330, 'tasteless': 4331, 'thunderbird': 4332, 'underneath': 4333, 'newcom': 4334, 'amazon': 4335, 'aristocrat': 4336, '1988': 4337, 'paradis': 4338, 'hungri': 4339, 'filler': 4340, 'loneli': 4341, 'coaster': 4342, 'spice': 4343, 'suffici': 4344, 'rhythm': 4345, 'paramount': 4346, 'scoop': 4347, 'basing': 4348, 'sung': 4349, 'fright': 4350, 'rumor': 4351, 'elit': 4352, 'hulk': 4353, 'hackney': 4354, 'wagner': 4355, 'curli': 4356, 'heist': 4357, 'lectur': 4358, 'rub': 4359, 'entranc': 4360, 'posey': 4361, 'grudg': 4362, 'immers': 4363, '1989': 4364, 'wwe': 4365, 'literari': 4366, '75': 4367, 'ingeni': 4368, 'minist': 4369, 'chamberlain': 4370, 'springer': 4371, 'penn': 4372, 'recogniz': 4373, 'tierney': 4374, 'teas': 4375, 'quietli': 4376, 'couch': 4377, 'cancer': 4378, 'standout': 4379, 'en': 4380, '1939': 4381, 'brit': 4382, 'smell': 4383, 'atroc': 4384, 'chavez': 4385, 'leigh': 4386, 'dirt': 4387, 'naughti': 4388, 'worship': 4389, 'straightforward': 4390, 'choppi': 4391, 'impos': 4392, 'abrupt': 4393, 'secondari': 4394, 'iv': 4395, 'bread': 4396, 'inmat': 4397, 'counterpart': 4398, 'beverli': 4399, 'ram': 4400, 'hopkin': 4401, 'paxton': 4402, 'laurenc': 4403, 'moreov': 4404, 'missil': 4405, 'convert': 4406, 'lindsay': 4407, 'injuri': 4408, 'policeman': 4409, 'entitl': 4410, 'quaid': 4411, 'ratso': 4412, 'watcher': 4413, 'esther': 4414, 'bernard': 4415, 'heartfelt': 4416, 'transcend': 4417, '1986': 4418, 'enthral': 4419, 'sassi': 4420, 'variat': 4421, 'morbid': 4422, 'misguid': 4423, 'sublim': 4424, 'cattl': 4425, 'yearn': 4426, 'clan': 4427, 'duel': 4428, 'nemesi': 4429, 'ace': 4430, 'geni': 4431, 'skeptic': 4432, 'net': 4433, 'attenborough': 4434, 'nolan': 4435, 'dont': 4436, 'mytholog': 4437, 'out': 4438, 'facil': 4439, 'brood': 4440, 'graini': 4441, 'diari': 4442, 'spiral': 4443, 'kitti': 4444, 'poe': 4445, 'kidman': 4446, 'steadi': 4447, 'characteris': 4448, 'artsi': 4449, 'vader': 4450, 'unexplain': 4451, 'buzz': 4452, 'youngest': 4453, 'obstacl': 4454, 'tyler': 4455, 'cruelti': 4456, 'hopelessli': 4457, 'reliabl': 4458, 'grin': 4459, 'hk': 4460, 'moder': 4461, 'rosemari': 4462, 'enabl': 4463, 'setup': 4464, 'egg': 4465, 'puppi': 4466, 'carlito': 4467, 'uncut': 4468, 'bean': 4469, '1979': 4470, 'bye': 4471, 'athlet': 4472, 'decept': 4473, 'bounc': 4474, 'sweat': 4475, 'bronson': 4476, 'gillian': 4477, 'exterior': 4478, 'patricia': 4479, 'despic': 4480, 'bewar': 4481, 'fuel': 4482, 'weather': 4483, 'oblig': 4484, 'baffl': 4485, 'kline': 4486, 'spontan': 4487, 'disastr': 4488, 'martha': 4489, 'acquaint': 4490, 'narrow': 4491, 'underworld': 4492, 'effici': 4493, 'christin': 4494, 'hammi': 4495, '1969': 4496, 'niec': 4497, 'clueless': 4498, 'brendan': 4499, 'preming': 4500, 'hain': 4501, 'gina': 4502, 'heap': 4503, 'insipid': 4504, 'sooner': 4505, 'injur': 4506, 'candl': 4507, 'mermaid': 4508, 'shatter': 4509, 'circu': 4510, 'dilemma': 4511, 'preachi': 4512, 'analyz': 4513, 'angst': 4514, 'enlist': 4515, 'outlaw': 4516, 'goof': 4517, '19': 4518, 'harmless': 4519, 'uh': 4520, 'lester': 4521, 'scar': 4522, 'suprem': 4523, 'virtu': 4524, 'tick': 4525, 'hepburn': 4526, 'biker': 4527, 'headach': 4528, 'trigger': 4529, 'viewpoint': 4530, 'housewif': 4531, 'fontain': 4532, 'astound': 4533, 'loi': 4534, 'dandi': 4535, 'taboo': 4536, 'loath': 4537, 'sleepwalk': 4538, 'rome': 4539, 'mayhem': 4540, 'renaiss': 4541, '73': 4542, 'spade': 4543, 'camcord': 4544, 'sox': 4545, 'zoom': 4546, 'bent': 4547, 'amor': 4548, 'contempt': 4549, 'overlong': 4550, 'filth': 4551, 'dish': 4552, 'redund': 4553, 'tripl': 4554, 'hostag': 4555, 'hokey': 4556, 'stimul': 4557, 'slimi': 4558, 'boston': 4559, 'stair': 4560, 'surgeri': 4561, 'cassavet': 4562, 'claustrophob': 4563, 'foolish': 4564, 'phenomenon': 4565, 'fluff': 4566, 'ariel': 4567, 'glorifi': 4568, 'oldest': 4569, 'immatur': 4570, 'steer': 4571, 'gere': 4572, 'scorses': 4573, 'whore': 4574, 'intric': 4575, 'idol': 4576, 'ebert': 4577, 'guin': 4578, 'macho': 4579, 'dismal': 4580, 'salt': 4581, 'corbett': 4582, 'hooker': 4583, 'muscl': 4584, 'schlock': 4585, 'harold': 4586, 'preced': 4587, 'faint': 4588, 'alvin': 4589, 'cohen': 4590, 'remad': 4591, 'mount': 4592, 'conquer': 4593, 'beard': 4594, 'flag': 4595, 'messi': 4596, 'frantic': 4597, 'gasp': 4598, 'perman': 4599, 'shred': 4600, 'mutual': 4601, 'flashi': 4602, 'rhyme': 4603, '1981': 4604, 'spinal': 4605, 'transplant': 4606, 'shield': 4607, 'margin': 4608, 'proport': 4609, '1976': 4610, 'widescreen': 4611, 'radiat': 4612, 'gabl': 4613, 'obligatori': 4614, 'dwarf': 4615, 'astronaut': 4616, 'zane': 4617, 'antagonist': 4618, 'flirt': 4619, 'corman': 4620, 'strongest': 4621, 'down': 4622, 'keen': 4623, 'cow': 4624, 'spree': 4625, 'assert': 4626, 'fascist': 4627, 'cush': 4628, 'naschi': 4629, 'trivia': 4630, 'nolt': 4631, 'joker': 4632, 'danish': 4633, 'scandal': 4634, 'repris': 4635, 'claud': 4636, 'vaniti': 4637, 'info': 4638, 'strive': 4639, 'instruct': 4640, 'boob': 4641, 'carey': 4642, '28': 4643, 'sensual': 4644, 'departur': 4645, '95': 4646, 'aborigin': 4647, 'brush': 4648, 'archiv': 4649, 'triangl': 4650, 'discern': 4651, 'mobil': 4652, 'someday': 4653, 'off': 4654, 'flock': 4655, 'wield': 4656, 'interestingli': 4657, 'barn': 4658, 'persuad': 4659, 'resum': 4660, 'ritchi': 4661, 'inflict': 4662, 'deer': 4663, 'www': 4664, 'bachelor': 4665, '1945': 4666, 'neurot': 4667, 'fishburn': 4668, 'hara': 4669, 'divin': 4670, 'bitten': 4671, 'mol': 4672, 'raj': 4673, 'undermin': 4674, 'recit': 4675, 'hapless': 4676, 'heartwarm': 4677, 'mobster': 4678, 'dame': 4679, 'helm': 4680, 'neill': 4681, 'prophet': 4682, 'rot': 4683, 'dim': 4684, 'cher': 4685, 'hilar': 4686, 'proclaim': 4687, 'senior': 4688, 'axe': 4689, 'biblic': 4690, 'banter': 4691, 'kathryn': 4692, 'wendigo': 4693, 'colin': 4694, 'traffic': 4695, 'clad': 4696, 'casino': 4697, 'miracul': 4698, 'carlo': 4699, 'pixar': 4700, 'cycl': 4701, 'artwork': 4702, 'hug': 4703, 'dylan': 4704, 'timberlak': 4705, 'europa': 4706, 'earnest': 4707, 'vibrant': 4708, 'harrison': 4709, 'ish': 4710, 'pacif': 4711, 'jade': 4712, 'pickford': 4713, 'cb': 4714, 'luka': 4715, 'melissa': 4716, 'frontier': 4717, 'loretta': 4718, 'fragil': 4719, 'bate': 4720, 'anton': 4721, 'submit': 4722, 'cliffhang': 4723, 'parson': 4724, 'jo': 4725, 'holocaust': 4726, 'token': 4727, 'aris': 4728, 'vile': 4729, 'jordan': 4730, 'electron': 4731, 'misfortun': 4732, 'redneck': 4733, 'isra': 4734, 'trier': 4735, 'akin': 4736, 'razor': 4737, 'bikini': 4738, 'articl': 4739, 'uma': 4740, 'illus': 4741, 'nope': 4742, 'wardrob': 4743, 'choke': 4744, 'cerebr': 4745, 'sicken': 4746, 'alexandr': 4747, 'antholog': 4748, 'marlon': 4749, 'foil': 4750, 'legitim': 4751, 'orphan': 4752, 'feast': 4753, 'mason': 4754, 'blatantli': 4755, 'estrang': 4756, 'flavor': 4757, 'vanessa': 4758, 'venom': 4759, 'toronto': 4760, 'bondag': 4761, 'http': 4762, 'static': 4763, 'lui': 4764, 'pc': 4765, 'breakfast': 4766, 'lucil': 4767, 'eli': 4768, 'seedi': 4769, 'northern': 4770, 'rooki': 4771, 'shepherd': 4772, 'mathieu': 4773, 'milo': 4774, 'winchest': 4775, 'glare': 4776, 'feminin': 4777, 'charlton': 4778, 'fifth': 4779, 'psych': 4780, 'linear': 4781, 'deem': 4782, 'dudley': 4783, 'comprehend': 4784, 'magician': 4785, 'outdat': 4786, 'styliz': 4787, 'oppon': 4788, 'frog': 4789, 'gilbert': 4790, 'ceremoni': 4791, 'howl': 4792, 'turd': 4793, 'swept': 4794, 'peer': 4795, 'boyer': 4796, 'smack': 4797, 'highway': 4798, 'audrey': 4799, 'abund': 4800, 'nightclub': 4801, 'cartoonish': 4802, 'huston': 4803, 'disregard': 4804, 'clinic': 4805, 'knightley': 4806, 'gunga': 4807, 'affleck': 4808, 'retriev': 4809, 'ideolog': 4810, 'leather': 4811, 'wrestler': 4812, 'shorter': 4813, 'tack': 4814, 'compris': 4815, 'btw': 4816, 'moe': 4817, 'breakdown': 4818, 'summar': 4819, 'plate': 4820, '1991': 4821, 'sleaz': 4822, 'phenomen': 4823, 'potter': 4824, 'uniformli': 4825, 'evolut': 4826, 'corn': 4827, 'whack': 4828, 'mitch': 4829, 'energet': 4830, 'lighter': 4831, 'conrad': 4832, 'bastard': 4833, 'spine': 4834, 'senat': 4835, '4th': 4836, 'cemeteri': 4837, 'cuban': 4838, 'spawn': 4839, 'bogu': 4840, 'newer': 4841, 'monument': 4842, 'toe': 4843, '1994': 4844, 'chip': 4845, 'lifeless': 4846, 'collector': 4847, 'client': 4848, 'durat': 4849, 'boo': 4850, 'lavish': 4851, 'goldsworthi': 4852, 'braveheart': 4853, 'snatch': 4854, 'greet': 4855, 'salman': 4856, 'tara': 4857, 'einstein': 4858, 'deliver': 4859, 'outright': 4860, 'jam': 4861, 'eleven': 4862, 'historian': 4863, 'constitut': 4864, 'kent': 4865, 'firmli': 4866, 'undertak': 4867, 'bulk': 4868, 'jare': 4869, 'neatli': 4870, 'sorrow': 4871, 'embark': 4872, 'inaccuraci': 4873, 'pronounc': 4874, 'kazan': 4875, 'jedi': 4876, 'belli': 4877, 'lex': 4878, 'creek': 4879, 'armstrong': 4880, 'signal': 4881, 'alleg': 4882, 'fluid': 4883, 'judd': 4884, 'undead': 4885, 'jule': 4886, 'luxuri': 4887, 'cecil': 4888, 'appl': 4889, 'ie': 4890, 'nina': 4891, '1974': 4892, 'liu': 4893, 'wtf': 4894, 'evelyn': 4895, 'replay': 4896, '1977': 4897, 'occup': 4898, 'healthi': 4899, 'spectacl': 4900, 'clara': 4901, 'ol': 4902, 'randolph': 4903, 'mcqueen': 4904, 'trauma': 4905, 'gilliam': 4906, 'capot': 4907, 'bori': 4908, 'lauren': 4909, 'genet': 4910, 'unsuspect': 4911, 'propheci': 4912, 'pioneer': 4913, 'sidewalk': 4914, 'groan': 4915, 'unattract': 4916, 'galaxi': 4917, 'sacrif': 4918, 'antonio': 4919, 'roar': 4920, 'porter': 4921, 'kiddi': 4922, 'basket': 4923, '1985': 4924, 'knee': 4925, 'fruit': 4926, 'inaccur': 4927, 'comb': 4928, 'miami': 4929, 'congratul': 4930, 'cape': 4931, 'subtli': 4932, 'blur': 4933, 'carmen': 4934, 'pepper': 4935, 'paula': 4936, 'inclus': 4937, 'relentless': 4938, 'abound': 4939, 'id': 4940, 'bait': 4941, 'palm': 4942, 'tokyo': 4943, 'comprehens': 4944, 'meal': 4945, 'rosario': 4946, 'curtain': 4947, 'bsg': 4948, 'vain': 4949, 'decapit': 4950, 'aussi': 4951, 'conan': 4952, 'ash': 4953, 'forgiven': 4954, 'spray': 4955, 'mum': 4956, 'vignett': 4957, 'truman': 4958, 'walt': 4959, 'goldblum': 4960, 'miniseri': 4961, 'poker': 4962, 'lanc': 4963, 'rapidli': 4964, 'victorian': 4965, 'frontal': 4966, 'epitom': 4967, 'handicap': 4968, 'weaker': 4969, 'growth': 4970, 'reincarn': 4971, 'jill': 4972, 'optimist': 4973, 'masterson': 4974, 'monti': 4975, 'omin': 4976, 'ingrid': 4977, 'scariest': 4978, 'substanti': 4979, 'orchestr': 4980, 'ghetto': 4981, 'macabr': 4982, 'incorrect': 4983, 'profil': 4984, 'dubiou': 4985, 'drone': 4986, 'modest': 4987, 'hostil': 4988, 'mice': 4989, 'sparkl': 4990, 'scarfac': 4991, 'spill': 4992, 'evan': 4993, '21st': 4994, 'asset': 4995, 'bach': 4996, 'verg': 4997, 'motorcycl': 4998, 'vastli': 4999}\n"
     ]
    }
   ],
   "source": [
    "# TODO: Use this space to determine the five most frequently appearing words in the training set.\n",
    "print(word_dict)"
   ]
  },
  {
   "cell_type": "markdown",
   "metadata": {},
   "source": [
    "### Save `word_dict`\n",
    "\n",
    "Later on when we construct an endpoint which processes a submitted review we will need to make use of the `word_dict` which we have created. As such, we will save it to a file now for future use."
   ]
  },
  {
   "cell_type": "code",
   "execution_count": 19,
   "metadata": {},
   "outputs": [],
   "source": [
    "with open(os.path.join(data_dir, 'word_dict.pkl'), \"wb\") as f:\n",
    "    pickle.dump(word_dict, f)"
   ]
  },
  {
   "cell_type": "markdown",
   "metadata": {},
   "source": [
    "### Transform the reviews\n",
    "\n",
    "Now that we have our word dictionary which allows us to transform the words appearing in the reviews into integers, it is time to make use of it and convert our reviews to their integer sequence representation, making sure to pad or truncate to a fixed length, which in our case is `500`."
   ]
  },
  {
   "cell_type": "code",
   "execution_count": 20,
   "metadata": {},
   "outputs": [],
   "source": [
    "def convert_and_pad(word_dict, sentence, pad=500):\n",
    "    NOWORD = 0 # We will use 0 to represent the 'no word' category\n",
    "    INFREQ = 1 # and we use 1 to represent the infrequent words, i.e., words not appearing in word_dict\n",
    "    \n",
    "    working_sentence = [NOWORD] * pad\n",
    "    \n",
    "    for word_index, word in enumerate(sentence[:pad]):\n",
    "        if word in word_dict:\n",
    "            working_sentence[word_index] = word_dict[word]\n",
    "        else:\n",
    "            working_sentence[word_index] = INFREQ\n",
    "            \n",
    "    return working_sentence, min(len(sentence), pad)\n",
    "\n",
    "def convert_and_pad_data(word_dict, data, pad=500):\n",
    "    result = []\n",
    "    lengths = []\n",
    "    \n",
    "    for sentence in data:\n",
    "        converted, leng = convert_and_pad(word_dict, sentence, pad)\n",
    "        result.append(converted)\n",
    "        lengths.append(leng)\n",
    "        \n",
    "    return np.array(result), np.array(lengths)"
   ]
  },
  {
   "cell_type": "code",
   "execution_count": 21,
   "metadata": {},
   "outputs": [],
   "source": [
    "train_X, train_X_len = convert_and_pad_data(word_dict, train_X)\n",
    "test_X, test_X_len = convert_and_pad_data(word_dict, test_X)"
   ]
  },
  {
   "cell_type": "markdown",
   "metadata": {},
   "source": [
    "As a quick check to make sure that things are working as intended, check to see what one of the reviews in the training set looks like after having been processeed. Does this look reasonable? What is the length of a review in the training set?"
   ]
  },
  {
   "cell_type": "code",
   "execution_count": 22,
   "metadata": {},
   "outputs": [
    {
     "name": "stdout",
     "output_type": "stream",
     "text": [
      "[   3  441    1  656  947    3   59   47 1345  179  579  842   13  131\n",
      " 2340  114   92  312    1 1091    3   16   72  986   29   13  237  345\n",
      "   89  237  677   89  237   10   89   64 3613   81  194  424 4865 1072\n",
      "    1  258    1    1    1  316  209  416   15   56   10  289   76  258\n",
      "    9    1 1253  243 1139    1  108   20  616 2601 2399  797   52 3171\n",
      "   18  994  394   77    3   93    6   11  672 2886   26  131   29   11\n",
      " 1954  700   81 2886  326  347 1954   58  286 1329  127 1088  700   43\n",
      "    0    0    0    0    0    0    0    0    0    0    0    0    0    0\n",
      "    0    0    0    0    0    0    0    0    0    0    0    0    0    0\n",
      "    0    0    0    0    0    0    0    0    0    0    0    0    0    0\n",
      "    0    0    0    0    0    0    0    0    0    0    0    0    0    0\n",
      "    0    0    0    0    0    0    0    0    0    0    0    0    0    0\n",
      "    0    0    0    0    0    0    0    0    0    0    0    0    0    0\n",
      "    0    0    0    0    0    0    0    0    0    0    0    0    0    0\n",
      "    0    0    0    0    0    0    0    0    0    0    0    0    0    0\n",
      "    0    0    0    0    0    0    0    0    0    0    0    0    0    0\n",
      "    0    0    0    0    0    0    0    0    0    0    0    0    0    0\n",
      "    0    0    0    0    0    0    0    0    0    0    0    0    0    0\n",
      "    0    0    0    0    0    0    0    0    0    0    0    0    0    0\n",
      "    0    0    0    0    0    0    0    0    0    0    0    0    0    0\n",
      "    0    0    0    0    0    0    0    0    0    0    0    0    0    0\n",
      "    0    0    0    0    0    0    0    0    0    0    0    0    0    0\n",
      "    0    0    0    0    0    0    0    0    0    0    0    0    0    0\n",
      "    0    0    0    0    0    0    0    0    0    0    0    0    0    0\n",
      "    0    0    0    0    0    0    0    0    0    0    0    0    0    0\n",
      "    0    0    0    0    0    0    0    0    0    0    0    0    0    0\n",
      "    0    0    0    0    0    0    0    0    0    0    0    0    0    0\n",
      "    0    0    0    0    0    0    0    0    0    0    0    0    0    0\n",
      "    0    0    0    0    0    0    0    0    0    0    0    0    0    0\n",
      "    0    0    0    0    0    0    0    0    0    0    0    0    0    0\n",
      "    0    0    0    0    0    0    0    0    0    0    0    0    0    0\n",
      "    0    0    0    0    0    0    0    0    0    0    0    0    0    0\n",
      "    0    0    0    0    0    0    0    0    0    0    0    0    0    0\n",
      "    0    0    0    0    0    0    0    0    0    0    0    0    0    0\n",
      "    0    0    0    0    0    0    0    0    0    0    0    0    0    0\n",
      "    0    0    0    0    0    0    0    0    0    0]\n"
     ]
    }
   ],
   "source": [
    "# Use this cell to examine one of the processed reviews to make sure everything is working as intended.\n",
    "print(train_X[100])"
   ]
  },
  {
   "cell_type": "markdown",
   "metadata": {},
   "source": [
    "**Question:** In the cells above we use the `preprocess_data` and `convert_and_pad_data` methods to process both the training and testing set. Why or why not might this be a problem?"
   ]
  },
  {
   "cell_type": "markdown",
   "metadata": {},
   "source": [
    "**Answer:**\n",
    "\n",
    "1. In general, this should not be a problem since, we are using the word_dict that we had created beforehand.\n",
    "2. The only issue could be that, we limit the sentence to a specific length (say 500). The assumption is that, the sentiment should be clear in first 500 words. Though this is mostly true, but still in some cases it may not work. For example, a review might be comparing a movie under review to some other movie (say its prequel). In that case, it is possible that, first few words are actually talking about the other movie and then how this movie is different from that one. Say sequel is poorer than the prequel. Then a review may first praise the good qualities of prequel and then give actual negative feedback about the current movie. In that case, we might end up classifying review as positive."
   ]
  },
  {
   "cell_type": "markdown",
   "metadata": {},
   "source": [
    "## Step 3: Upload the data to S3\n",
    "\n",
    "As in the XGBoost notebook, we will need to upload the training dataset to S3 in order for our training code to access it. For now we will save it locally and we will upload to S3 later on.\n",
    "\n",
    "### Save the processed training dataset locally\n",
    "\n",
    "It is important to note the format of the data that we are saving as we will need to know it when we write the training code. In our case, each row of the dataset has the form `label`, `length`, `review[500]` where `review[500]` is a sequence of `500` integers representing the words in the review."
   ]
  },
  {
   "cell_type": "code",
   "execution_count": 23,
   "metadata": {},
   "outputs": [],
   "source": [
    "import pandas as pd\n",
    "    \n",
    "pd.concat([pd.DataFrame(train_y), pd.DataFrame(train_X_len), pd.DataFrame(train_X)], axis=1) \\\n",
    "        .to_csv(os.path.join(data_dir, 'train.csv'), header=False, index=False)"
   ]
  },
  {
   "cell_type": "markdown",
   "metadata": {},
   "source": [
    "### Uploading the training data\n",
    "\n",
    "\n",
    "Next, we need to upload the training data to the SageMaker default S3 bucket so that we can provide access to it while training our model."
   ]
  },
  {
   "cell_type": "code",
   "execution_count": 2,
   "metadata": {},
   "outputs": [],
   "source": [
    "import sagemaker\n",
    "\n",
    "sagemaker_session = sagemaker.Session()\n",
    "\n",
    "bucket = sagemaker_session.default_bucket()\n",
    "prefix = 'sagemaker/sentiment_rnn'\n",
    "\n",
    "role = sagemaker.get_execution_role()"
   ]
  },
  {
   "cell_type": "code",
   "execution_count": 29,
   "metadata": {},
   "outputs": [],
   "source": [
    "input_data = sagemaker_session.upload_data(path=data_dir, bucket=bucket, key_prefix=prefix)"
   ]
  },
  {
   "cell_type": "markdown",
   "metadata": {},
   "source": [
    "**NOTE:** The cell above uploads the entire contents of our data directory. This includes the `word_dict.pkl` file. This is fortunate as we will need this later on when we create an endpoint that accepts an arbitrary review. For now, we will just take note of the fact that it resides in the data directory (and so also in the S3 training bucket) and that we will need to make sure it gets saved in the model directory."
   ]
  },
  {
   "cell_type": "markdown",
   "metadata": {},
   "source": [
    "## Step 4: Build and Train the PyTorch Model\n",
    "\n",
    "In the XGBoost notebook we discussed what a model is in the SageMaker framework. In particular, a model comprises three objects\n",
    "\n",
    " - Model Artifacts,\n",
    " - Training Code, and\n",
    " - Inference Code,\n",
    " \n",
    "each of which interact with one another. In the XGBoost example we used training and inference code that was provided by Amazon. Here we will still be using containers provided by Amazon with the added benefit of being able to include our own custom code.\n",
    "\n",
    "We will start by implementing our own neural network in PyTorch along with a training script. For the purposes of this project we have provided the necessary model object in the `model.py` file, inside of the `train` folder. You can see the provided implementation by running the cell below."
   ]
  },
  {
   "cell_type": "code",
   "execution_count": 27,
   "metadata": {},
   "outputs": [
    {
     "name": "stdout",
     "output_type": "stream",
     "text": [
      "\u001b[34mimport\u001b[39;49;00m \u001b[04m\u001b[36mtorch.nn\u001b[39;49;00m \u001b[34mas\u001b[39;49;00m \u001b[04m\u001b[36mnn\u001b[39;49;00m\r\n",
      "\r\n",
      "\u001b[34mclass\u001b[39;49;00m \u001b[04m\u001b[32mLSTMClassifier\u001b[39;49;00m(nn.Module):\r\n",
      "    \u001b[33m\"\"\"\u001b[39;49;00m\r\n",
      "\u001b[33m    This is the simple RNN model we will be using to perform Sentiment Analysis.\u001b[39;49;00m\r\n",
      "\u001b[33m    \"\"\"\u001b[39;49;00m\r\n",
      "\r\n",
      "    \u001b[34mdef\u001b[39;49;00m \u001b[32m__init__\u001b[39;49;00m(\u001b[36mself\u001b[39;49;00m, embedding_dim, hidden_dim, vocab_size):\r\n",
      "        \u001b[33m\"\"\"\u001b[39;49;00m\r\n",
      "\u001b[33m        Initialize the model by settingg up the various layers.\u001b[39;49;00m\r\n",
      "\u001b[33m        \"\"\"\u001b[39;49;00m\r\n",
      "        \u001b[36msuper\u001b[39;49;00m(LSTMClassifier, \u001b[36mself\u001b[39;49;00m).\u001b[32m__init__\u001b[39;49;00m()\r\n",
      "\r\n",
      "        \u001b[36mself\u001b[39;49;00m.embedding = nn.Embedding(vocab_size, embedding_dim, padding_idx=\u001b[34m0\u001b[39;49;00m)\r\n",
      "        \u001b[36mself\u001b[39;49;00m.lstm = nn.LSTM(embedding_dim, hidden_dim)\r\n",
      "        \u001b[36mself\u001b[39;49;00m.dense = nn.Linear(in_features=hidden_dim, out_features=\u001b[34m1\u001b[39;49;00m)\r\n",
      "        \u001b[36mself\u001b[39;49;00m.sig = nn.Sigmoid()\r\n",
      "        \r\n",
      "        \u001b[36mself\u001b[39;49;00m.word_dict = \u001b[36mNone\u001b[39;49;00m\r\n",
      "\r\n",
      "    \u001b[34mdef\u001b[39;49;00m \u001b[32mforward\u001b[39;49;00m(\u001b[36mself\u001b[39;49;00m, x):\r\n",
      "        \u001b[33m\"\"\"\u001b[39;49;00m\r\n",
      "\u001b[33m        Perform a forward pass of our model on some input.\u001b[39;49;00m\r\n",
      "\u001b[33m        \"\"\"\u001b[39;49;00m\r\n",
      "        x = x.t()\r\n",
      "        lengths = x[\u001b[34m0\u001b[39;49;00m,:]\r\n",
      "        reviews = x[\u001b[34m1\u001b[39;49;00m:,:]\r\n",
      "        embeds = \u001b[36mself\u001b[39;49;00m.embedding(reviews)\r\n",
      "        lstm_out, _ = \u001b[36mself\u001b[39;49;00m.lstm(embeds)\r\n",
      "        out = \u001b[36mself\u001b[39;49;00m.dense(lstm_out)\r\n",
      "        out = out[lengths - \u001b[34m1\u001b[39;49;00m, \u001b[36mrange\u001b[39;49;00m(\u001b[36mlen\u001b[39;49;00m(lengths))]\r\n",
      "        \u001b[34mreturn\u001b[39;49;00m \u001b[36mself\u001b[39;49;00m.sig(out.squeeze())\r\n"
     ]
    }
   ],
   "source": [
    "!pygmentize train/model.py"
   ]
  },
  {
   "cell_type": "markdown",
   "metadata": {},
   "source": [
    "The important takeaway from the implementation provided is that there are three parameters that we may wish to tweak to improve the performance of our model. These are the embedding dimension, the hidden dimension and the size of the vocabulary. We will likely want to make these parameters configurable in the training script so that if we wish to modify them we do not need to modify the script itself. We will see how to do this later on. To start we will write some of the training code in the notebook so that we can more easily diagnose any issues that arise.\n",
    "\n",
    "First we will load a small portion of the training data set to use as a sample. It would be very time consuming to try and train the model completely in the notebook as we do not have access to a gpu and the compute instance that we are using is not particularly powerful. However, we can work on a small bit of the data to get a feel for how our training script is behaving."
   ]
  },
  {
   "cell_type": "code",
   "execution_count": 28,
   "metadata": {},
   "outputs": [],
   "source": [
    "import torch\n",
    "import torch.utils.data\n",
    "\n",
    "# Read in only the first 250 rows\n",
    "train_sample = pd.read_csv(os.path.join(data_dir, 'train.csv'), header=None, names=None, nrows=250)\n",
    "\n",
    "# Turn the input pandas dataframe into tensors\n",
    "train_sample_y = torch.from_numpy(train_sample[[0]].values).float().squeeze()\n",
    "train_sample_X = torch.from_numpy(train_sample.drop([0], axis=1).values).long()\n",
    "\n",
    "# Build the dataset\n",
    "train_sample_ds = torch.utils.data.TensorDataset(train_sample_X, train_sample_y)\n",
    "# Build the dataloader\n",
    "train_sample_dl = torch.utils.data.DataLoader(train_sample_ds, batch_size=50)"
   ]
  },
  {
   "cell_type": "markdown",
   "metadata": {},
   "source": [
    "### (TODO) Writing the training method\n",
    "\n",
    "Next we need to write the training code itself. This should be very similar to training methods that you have written before to train PyTorch models. We will leave any difficult aspects such as model saving / loading and parameter loading until a little later."
   ]
  },
  {
   "cell_type": "code",
   "execution_count": 25,
   "metadata": {},
   "outputs": [],
   "source": [
    "def train(model, train_loader, epochs, optimizer, loss_fn, device):\n",
    "    for epoch in range(1, epochs + 1):\n",
    "        model.train()\n",
    "        total_loss = 0\n",
    "        for batch in train_loader:         \n",
    "            batch_X, batch_y = batch\n",
    "            \n",
    "            batch_X = batch_X.to(device)\n",
    "            batch_y = batch_y.to(device)\n",
    "            \n",
    "            # TODO: Complete this train method to train the model provided.\n",
    "            model.zero_grad()\n",
    "            out = model.forward(batch_X)\n",
    "            loss = loss_fn(out, batch_y)\n",
    "            loss.backward()\n",
    "            optimizer.step()\n",
    "            \n",
    "            \n",
    "            total_loss += loss.data.item()\n",
    "        print(\"Epoch: {}, BCELoss: {}\".format(epoch, total_loss / len(train_loader)))"
   ]
  },
  {
   "cell_type": "markdown",
   "metadata": {},
   "source": [
    "Supposing we have the training method above, we will test that it is working by writing a bit of code in the notebook that executes our training method on the small sample training set that we loaded earlier. The reason for doing this in the notebook is so that we have an opportunity to fix any errors that arise early when they are easier to diagnose."
   ]
  },
  {
   "cell_type": "code",
   "execution_count": 32,
   "metadata": {},
   "outputs": [
    {
     "name": "stdout",
     "output_type": "stream",
     "text": [
      "Epoch: 1, BCELoss: 0.6913201808929443\n",
      "Epoch: 2, BCELoss: 0.6830315351486206\n",
      "Epoch: 3, BCELoss: 0.6755255937576294\n",
      "Epoch: 4, BCELoss: 0.6669309616088868\n",
      "Epoch: 5, BCELoss: 0.6561045050621033\n"
     ]
    }
   ],
   "source": [
    "import torch.optim as optim\n",
    "from train.model import LSTMClassifier\n",
    "\n",
    "device = torch.device(\"cuda\" if torch.cuda.is_available() else \"cpu\")\n",
    "model = LSTMClassifier(32, 100, 5000).to(device)\n",
    "optimizer = optim.Adam(model.parameters())\n",
    "loss_fn = torch.nn.BCELoss()\n",
    "\n",
    "train(model, train_sample_dl, 5, optimizer, loss_fn, device)"
   ]
  },
  {
   "cell_type": "markdown",
   "metadata": {},
   "source": [
    "In order to construct a PyTorch model using SageMaker we must provide SageMaker with a training script. We may optionally include a directory which will be copied to the container and from which our training code will be run. When the training container is executed it will check the uploaded directory (if there is one) for a `requirements.txt` file and install any required Python libraries, after which the training script will be run."
   ]
  },
  {
   "cell_type": "markdown",
   "metadata": {},
   "source": [
    "### (TODO) Training the model\n",
    "\n",
    "When a PyTorch model is constructed in SageMaker, an entry point must be specified. This is the Python file which will be executed when the model is trained. Inside of the `train` directory is a file called `train.py` which has been provided and which contains most of the necessary code to train our model. The only thing that is missing is the implementation of the `train()` method which you wrote earlier in this notebook.\n",
    "\n",
    "**TODO**: Copy the `train()` method written above and paste it into the `train/train.py` file where required.\n",
    "\n",
    "The way that SageMaker passes hyperparameters to the training script is by way of arguments. These arguments can then be parsed and used in the training script. To see how this is done take a look at the provided `train/train.py` file."
   ]
  },
  {
   "cell_type": "code",
   "execution_count": 3,
   "metadata": {},
   "outputs": [],
   "source": [
    "from sagemaker.pytorch import PyTorch\n",
    "\n",
    "estimator2 = PyTorch(entry_point=\"train.py\",\n",
    "                    source_dir=\"train\",\n",
    "                    role=role,\n",
    "                    framework_version='0.4.0',\n",
    "                    train_instance_count=1,\n",
    "                    train_instance_type='ml.p2.xlarge',\n",
    "                    #train_instance_type='ml.m4.xlarge',\n",
    "                    hyperparameters={\n",
    "                        'epochs': 10,\n",
    "                        'hidden_dim': 200,\n",
    "                    })"
   ]
  },
  {
   "cell_type": "code",
   "execution_count": null,
   "metadata": {
    "scrolled": true
   },
   "outputs": [
    {
     "name": "stderr",
     "output_type": "stream",
     "text": [
      "INFO:sagemaker:Creating training-job with name: sagemaker-pytorch-2019-01-18-15-02-08-248\n"
     ]
    },
    {
     "name": "stdout",
     "output_type": "stream",
     "text": [
      "2019-01-18 15:02:08 Starting - Starting the training job...\n",
      "2019-01-18 15:02:09 Starting - Launching requested ML instances...\n",
      "2019-01-18 15:03:06 Starting - Preparing the instances for training.........\n",
      "2019-01-18 15:04:21 Downloading - Downloading input data..\n",
      "\u001b[31mbash: cannot set terminal process group (-1): Inappropriate ioctl for device\u001b[0m\n",
      "\u001b[31mbash: no job control in this shell\u001b[0m\n",
      "\u001b[31m2019-01-18 15:04:45,519 sagemaker-containers INFO     Imported framework sagemaker_pytorch_container.training\u001b[0m\n",
      "\u001b[31m2019-01-18 15:04:45,523 sagemaker-containers INFO     No GPUs detected (normal if no gpus installed)\u001b[0m\n",
      "\u001b[31m2019-01-18 15:04:45,537 sagemaker_pytorch_container.training INFO     Block until all host DNS lookups succeed.\u001b[0m\n",
      "\u001b[31m2019-01-18 15:04:46,143 sagemaker_pytorch_container.training INFO     Invoking user training script.\u001b[0m\n",
      "\u001b[31m2019-01-18 15:04:46,382 sagemaker-containers INFO     Module train does not provide a setup.py. \u001b[0m\n",
      "\u001b[31mGenerating setup.py\u001b[0m\n",
      "\u001b[31m2019-01-18 15:04:46,383 sagemaker-containers INFO     Generating setup.cfg\u001b[0m\n",
      "\u001b[31m2019-01-18 15:04:46,383 sagemaker-containers INFO     Generating MANIFEST.in\u001b[0m\n",
      "\u001b[31m2019-01-18 15:04:46,383 sagemaker-containers INFO     Installing module with the following command:\u001b[0m\n",
      "\u001b[31m/usr/bin/python -m pip install -U . -r requirements.txt\u001b[0m\n",
      "\u001b[31mProcessing /opt/ml/code\u001b[0m\n",
      "\u001b[31mCollecting pandas (from -r requirements.txt (line 1))\n",
      "  Downloading https://files.pythonhosted.org/packages/5d/d4/6e9c56a561f1d27407bf29318ca43f36ccaa289271b805a30034eb3a8ec4/pandas-0.23.4-cp35-cp35m-manylinux1_x86_64.whl (8.7MB)\u001b[0m\n",
      "\u001b[31mCollecting numpy (from -r requirements.txt (line 2))\n",
      "  Downloading https://files.pythonhosted.org/packages/64/24/2e9c72f44cec8c872000d78c54230e40550c494647e352d1d06724cdaee6/numpy-1.16.0-cp35-cp35m-manylinux1_x86_64.whl (17.2MB)\u001b[0m\n",
      "\u001b[31mCollecting nltk (from -r requirements.txt (line 3))\n",
      "  Downloading https://files.pythonhosted.org/packages/6f/ed/9c755d357d33bc1931e157f537721efb5b88d2c583fe593cc09603076cc3/nltk-3.4.zip (1.4MB)\u001b[0m\n",
      "\u001b[31mCollecting beautifulsoup4 (from -r requirements.txt (line 4))\n",
      "  Downloading https://files.pythonhosted.org/packages/1d/5d/3260694a59df0ec52f8b4883f5d23b130bc237602a1411fa670eae12351e/beautifulsoup4-4.7.1-py3-none-any.whl (94kB)\u001b[0m\n",
      "\u001b[31mCollecting html5lib (from -r requirements.txt (line 5))\n",
      "  Downloading https://files.pythonhosted.org/packages/a5/62/bbd2be0e7943ec8504b517e62bab011b4946e1258842bc159e5dfde15b96/html5lib-1.0.1-py2.py3-none-any.whl (117kB)\u001b[0m\n",
      "\u001b[31mCollecting pytz>=2011k (from pandas->-r requirements.txt (line 1))\n",
      "  Downloading https://files.pythonhosted.org/packages/61/28/1d3920e4d1d50b19bc5d24398a7cd85cc7b9a75a490570d5a30c57622d34/pytz-2018.9-py2.py3-none-any.whl (510kB)\u001b[0m\n",
      "\u001b[31mRequirement already satisfied, skipping upgrade: python-dateutil>=2.5.0 in /usr/local/lib/python3.5/dist-packages (from pandas->-r requirements.txt (line 1)) (2.7.5)\u001b[0m\n",
      "\u001b[31mRequirement already satisfied, skipping upgrade: six in /usr/local/lib/python3.5/dist-packages (from nltk->-r requirements.txt (line 3)) (1.11.0)\u001b[0m\n",
      "\u001b[31mCollecting singledispatch (from nltk->-r requirements.txt (line 3))\n",
      "  Downloading https://files.pythonhosted.org/packages/c5/10/369f50bcd4621b263927b0a1519987a04383d4a98fb10438042ad410cf88/singledispatch-3.4.0.3-py2.py3-none-any.whl\u001b[0m\n",
      "\u001b[31mCollecting soupsieve>=1.2 (from beautifulsoup4->-r requirements.txt (line 4))\n",
      "  Downloading https://files.pythonhosted.org/packages/4f/88/08ff8b9e01ddfc3932b37988c794ce5751c1b8e3bc760686ad41d0771c78/soupsieve-1.7.1-py2.py3-none-any.whl\u001b[0m\n",
      "\u001b[31mCollecting webencodings (from html5lib->-r requirements.txt (line 5))\n",
      "  Downloading https://files.pythonhosted.org/packages/f4/24/2a3e3df732393fed8b3ebf2ec078f05546de641fe1b667ee316ec1dcf3b7/webencodings-0.5.1-py2.py3-none-any.whl\u001b[0m\n",
      "\u001b[31mBuilding wheels for collected packages: nltk, train\n",
      "  Running setup.py bdist_wheel for nltk: started\u001b[0m\n",
      "\u001b[31m  Running setup.py bdist_wheel for nltk: finished with status 'done'\n",
      "  Stored in directory: /root/.cache/pip/wheels/4b/c8/24/b2343664bcceb7147efeb21c0b23703a05b23fcfeaceaa2a1e\n",
      "  Running setup.py bdist_wheel for train: started\n",
      "  Running setup.py bdist_wheel for train: finished with status 'done'\n",
      "  Stored in directory: /tmp/pip-ephem-wheel-cache-durbtnd8/wheels/35/24/16/37574d11bf9bde50616c67372a334f94fa8356bc7164af8ca3\u001b[0m\n",
      "\u001b[31mSuccessfully built nltk train\u001b[0m\n",
      "\u001b[31mInstalling collected packages: numpy, pytz, pandas, singledispatch, nltk, soupsieve, beautifulsoup4, webencodings, html5lib, train\n",
      "  Found existing installation: numpy 1.15.4\n",
      "    Uninstalling numpy-1.15.4:\n",
      "      Successfully uninstalled numpy-1.15.4\u001b[0m\n",
      "\n",
      "2019-01-18 15:04:44 Training - Training image download completed. Training in progress.\u001b[31mSuccessfully installed beautifulsoup4-4.7.1 html5lib-1.0.1 nltk-3.4 numpy-1.16.0 pandas-0.23.4 pytz-2018.9 singledispatch-3.4.0.3 soupsieve-1.7.1 train-1.0.0 webencodings-0.5.1\u001b[0m\n",
      "\u001b[31m2019-01-18 15:04:57,463 sagemaker-containers INFO     No GPUs detected (normal if no gpus installed)\u001b[0m\n",
      "\u001b[31m2019-01-18 15:04:57,488 sagemaker-containers INFO     Invoking user script\n",
      "\u001b[0m\n",
      "\u001b[31mTraining Env:\n",
      "\u001b[0m\n",
      "\u001b[31m{\n",
      "    \"log_level\": 20,\n",
      "    \"module_dir\": \"s3://sagemaker-us-east-2-534904874978/sagemaker-pytorch-2019-01-18-15-02-08-248/source/sourcedir.tar.gz\",\n",
      "    \"output_intermediate_dir\": \"/opt/ml/output/intermediate\",\n",
      "    \"user_entry_point\": \"train.py\",\n",
      "    \"framework_module\": \"sagemaker_pytorch_container.training:main\",\n",
      "    \"output_dir\": \"/opt/ml/output\",\n",
      "    \"resource_config\": {\n",
      "        \"hosts\": [\n",
      "            \"algo-1\"\n",
      "        ],\n",
      "        \"current_host\": \"algo-1\",\n",
      "        \"network_interface_name\": \"ethwe\"\n",
      "    },\n",
      "    \"input_data_config\": {\n",
      "        \"training\": {\n",
      "            \"TrainingInputMode\": \"File\",\n",
      "            \"RecordWrapperType\": \"None\",\n",
      "            \"S3DistributionType\": \"FullyReplicated\"\n",
      "        }\n",
      "    },\n",
      "    \"network_interface_name\": \"ethwe\",\n",
      "    \"input_config_dir\": \"/opt/ml/input/config\",\n",
      "    \"current_host\": \"algo-1\",\n",
      "    \"model_dir\": \"/opt/ml/model\",\n",
      "    \"module_name\": \"train\",\n",
      "    \"additional_framework_parameters\": {},\n",
      "    \"num_gpus\": 0,\n",
      "    \"hyperparameters\": {\n",
      "        \"hidden_dim\": 200,\n",
      "        \"epochs\": 10\n",
      "    },\n",
      "    \"num_cpus\": 4,\n",
      "    \"hosts\": [\n",
      "        \"algo-1\"\n",
      "    ],\n",
      "    \"channel_input_dirs\": {\n",
      "        \"training\": \"/opt/ml/input/data/training\"\n",
      "    },\n",
      "    \"input_dir\": \"/opt/ml/input\",\n",
      "    \"job_name\": \"sagemaker-pytorch-2019-01-18-15-02-08-248\",\n",
      "    \"output_data_dir\": \"/opt/ml/output/data\"\u001b[0m\n",
      "\u001b[31m}\n",
      "\u001b[0m\n",
      "\u001b[31mEnvironment variables:\n",
      "\u001b[0m\n",
      "\u001b[31mSM_NETWORK_INTERFACE_NAME=ethwe\u001b[0m\n",
      "\u001b[31mSM_MODULE_DIR=s3://sagemaker-us-east-2-534904874978/sagemaker-pytorch-2019-01-18-15-02-08-248/source/sourcedir.tar.gz\u001b[0m\n",
      "\u001b[31mPYTHONPATH=/usr/local/bin:/usr/lib/python35.zip:/usr/lib/python3.5:/usr/lib/python3.5/plat-x86_64-linux-gnu:/usr/lib/python3.5/lib-dynload:/usr/local/lib/python3.5/dist-packages:/usr/lib/python3/dist-packages\u001b[0m\n",
      "\u001b[31mSM_LOG_LEVEL=20\u001b[0m\n",
      "\u001b[31mSM_CHANNELS=[\"training\"]\u001b[0m\n",
      "\u001b[31mSM_OUTPUT_DATA_DIR=/opt/ml/output/data\u001b[0m\n",
      "\u001b[31mSM_MODEL_DIR=/opt/ml/model\u001b[0m\n",
      "\u001b[31mSM_CHANNEL_TRAINING=/opt/ml/input/data/training\u001b[0m\n",
      "\u001b[31mSM_INPUT_DATA_CONFIG={\"training\":{\"RecordWrapperType\":\"None\",\"S3DistributionType\":\"FullyReplicated\",\"TrainingInputMode\":\"File\"}}\u001b[0m\n",
      "\u001b[31mSM_HOSTS=[\"algo-1\"]\u001b[0m\n",
      "\u001b[31mSM_HPS={\"epochs\":10,\"hidden_dim\":200}\u001b[0m\n",
      "\u001b[31mSM_INPUT_CONFIG_DIR=/opt/ml/input/config\u001b[0m\n",
      "\u001b[31mSM_HP_HIDDEN_DIM=200\u001b[0m\n",
      "\u001b[31mSM_FRAMEWORK_PARAMS={}\u001b[0m\n",
      "\u001b[31mSM_FRAMEWORK_MODULE=sagemaker_pytorch_container.training:main\u001b[0m\n",
      "\u001b[31mSM_RESOURCE_CONFIG={\"current_host\":\"algo-1\",\"hosts\":[\"algo-1\"],\"network_interface_name\":\"ethwe\"}\u001b[0m\n",
      "\u001b[31mSM_NUM_GPUS=0\u001b[0m\n",
      "\u001b[31mSM_MODULE_NAME=train\u001b[0m\n",
      "\u001b[31mSM_NUM_CPUS=4\u001b[0m\n",
      "\u001b[31mSM_USER_ARGS=[\"--epochs\",\"10\",\"--hidden_dim\",\"200\"]\u001b[0m\n",
      "\u001b[31mSM_HP_EPOCHS=10\u001b[0m\n",
      "\u001b[31mSM_USER_ENTRY_POINT=train.py\u001b[0m\n",
      "\u001b[31mSM_OUTPUT_INTERMEDIATE_DIR=/opt/ml/output/intermediate\u001b[0m\n",
      "\u001b[31mSM_CURRENT_HOST=algo-1\u001b[0m\n",
      "\u001b[31mSM_INPUT_DIR=/opt/ml/input\u001b[0m\n",
      "\u001b[31mSM_TRAINING_ENV={\"additional_framework_parameters\":{},\"channel_input_dirs\":{\"training\":\"/opt/ml/input/data/training\"},\"current_host\":\"algo-1\",\"framework_module\":\"sagemaker_pytorch_container.training:main\",\"hosts\":[\"algo-1\"],\"hyperparameters\":{\"epochs\":10,\"hidden_dim\":200},\"input_config_dir\":\"/opt/ml/input/config\",\"input_data_config\":{\"training\":{\"RecordWrapperType\":\"None\",\"S3DistributionType\":\"FullyReplicated\",\"TrainingInputMode\":\"File\"}},\"input_dir\":\"/opt/ml/input\",\"job_name\":\"sagemaker-pytorch-2019-01-18-15-02-08-248\",\"log_level\":20,\"model_dir\":\"/opt/ml/model\",\"module_dir\":\"s3://sagemaker-us-east-2-534904874978/sagemaker-pytorch-2019-01-18-15-02-08-248/source/sourcedir.tar.gz\",\"module_name\":\"train\",\"network_interface_name\":\"ethwe\",\"num_cpus\":4,\"num_gpus\":0,\"output_data_dir\":\"/opt/ml/output/data\",\"output_dir\":\"/opt/ml/output\",\"output_intermediate_dir\":\"/opt/ml/output/intermediate\",\"resource_config\":{\"current_host\":\"algo-1\",\"hosts\":[\"algo-1\"],\"network_interface_name\":\"ethwe\"},\"user_entry_point\":\"train.py\"}\u001b[0m\n",
      "\u001b[31mSM_OUTPUT_DIR=/opt/ml/output\n",
      "\u001b[0m\n",
      "\u001b[31mInvoking script with the following command:\n",
      "\u001b[0m\n",
      "\u001b[31m/usr/bin/python -m train --epochs 10 --hidden_dim 200\n",
      "\n",
      "\u001b[0m\n",
      "\u001b[31mUsing device cpu.\u001b[0m\n",
      "\u001b[31mGet train data loader.\u001b[0m\n",
      "\u001b[31mModel loaded with embedding_dim 32, hidden_dim 200, vocab_size 5000.\u001b[0m\n"
     ]
    },
    {
     "name": "stdout",
     "output_type": "stream",
     "text": [
      "\u001b[31mEpoch: 1, BCELoss: 0.6797327204626433\u001b[0m\n",
      "\u001b[31mEpoch: 2, BCELoss: 0.6457250312883027\u001b[0m\n",
      "\u001b[31mEpoch: 3, BCELoss: 0.5511803523618348\u001b[0m\n",
      "\u001b[31mEpoch: 4, BCELoss: 0.4738994715165119\u001b[0m\n",
      "\u001b[31mEpoch: 5, BCELoss: 0.4027585770402636\u001b[0m\n",
      "\u001b[31mEpoch: 6, BCELoss: 0.37199033948839927\u001b[0m\n",
      "\u001b[31mEpoch: 7, BCELoss: 0.3375580608844757\u001b[0m\n",
      "\u001b[31mEpoch: 8, BCELoss: 0.32591187345738315\u001b[0m\n",
      "\u001b[31mEpoch: 9, BCELoss: 0.3004601378830112\u001b[0m\n",
      "\u001b[31mEpoch: 10, BCELoss: 0.28835768146174295\u001b[0m\n",
      "\u001b[31m2019-01-18 16:49:21,005 sagemaker-containers INFO     Reporting training SUCCESS\u001b[0m\n",
      "\n",
      "2019-01-18 16:49:28 Uploading - Uploading generated training model\n",
      "2019-01-18 16:49:28 Completed - Training job completed\n",
      "Billable seconds: 6307\n"
     ]
    }
   ],
   "source": [
    "estimator.fit({'training': input_data})"
   ]
  },
  {
   "cell_type": "markdown",
   "metadata": {},
   "source": [
    "## Step 5: Testing the model\n",
    "\n",
    "As mentioned at the top of this notebook, we will be testing this model by first deploying it and then sending the testing data to the deployed endpoint. We will do this so that we can make sure that the deployed model is working correctly.\n",
    "\n",
    "## Step 6: Deploy the model for testing\n",
    "\n",
    "Now that we have trained our model, we would like to test it to see how it performs. Currently our model takes input of the form `review_length, review[500]` where `review[500]` is a sequence of `500` integers which describe the words present in the review, encoded using `word_dict`. Fortunately for us, SageMaker provides built-in inference code for models with simple inputs such as this.\n",
    "\n",
    "There is one thing that we need to provide, however, and that is a function which loads the saved model. This function must be called `model_fn()` and takes as its only parameter a path to the directory where the model artifacts are stored. This function must also be present in the python file which we specified as the entry point. In our case the model loading function has been provided and so no changes need to be made.\n",
    "\n",
    "**NOTE**: When the built-in inference code is run it must import the `model_fn()` method from the `train.py` file. This is why the training code is wrapped in a main guard ( ie, `if __name__ == '__main__':` )\n",
    "\n",
    "Since we don't need to change anything in the code that was uploaded during training, we can simply deploy the current model as-is.\n",
    "\n",
    "**NOTE:** When deploying a model you are asking SageMaker to launch an compute instance that will wait for data to be sent to it. As a result, this compute instance will continue to run until *you* shut it down. This is important to know since the cost of a deployed endpoint depends on how long it has been running for.\n",
    "\n",
    "In other words **If you are no longer using a deployed endpoint, shut it down!**\n",
    "\n",
    "**TODO:** Deploy the trained model."
   ]
  },
  {
   "cell_type": "code",
   "execution_count": 33,
   "metadata": {},
   "outputs": [
    {
     "name": "stderr",
     "output_type": "stream",
     "text": [
      "INFO:sagemaker:Creating model with name: sagemaker-pytorch-2019-01-18-15-02-08-248\n",
      "INFO:sagemaker:Creating endpoint with name sagemaker-pytorch-2019-01-18-15-02-08-248\n"
     ]
    },
    {
     "name": "stdout",
     "output_type": "stream",
     "text": [
      "--------------------------------------------------------------------------!"
     ]
    }
   ],
   "source": [
    "# TODO: Deploy the trained model\n",
    "predictor = estimator.deploy(initial_instance_count=1, instance_type='ml.m4.xlarge')"
   ]
  },
  {
   "cell_type": "markdown",
   "metadata": {},
   "source": [
    "## Step 7 - Use the model for testing\n",
    "\n",
    "Once deployed, we can read in the test data and send it off to our deployed model to get some results. Once we collect all of the results we can determine how accurate our model is."
   ]
  },
  {
   "cell_type": "code",
   "execution_count": 36,
   "metadata": {},
   "outputs": [],
   "source": [
    "test_X = pd.concat([pd.DataFrame(test_X_len), pd.DataFrame(test_X)], axis=1)"
   ]
  },
  {
   "cell_type": "code",
   "execution_count": 37,
   "metadata": {},
   "outputs": [],
   "source": [
    "# We split the data into chunks and send each chunk seperately, accumulating the results.\n",
    "\n",
    "def predict(data, rows=512):\n",
    "    split_array = np.array_split(data, int(data.shape[0] / float(rows) + 1))\n",
    "    predictions = np.array([])\n",
    "    for array in split_array:\n",
    "        predictions = np.append(predictions, predictor.predict(array))\n",
    "    \n",
    "    return predictions"
   ]
  },
  {
   "cell_type": "code",
   "execution_count": 38,
   "metadata": {},
   "outputs": [],
   "source": [
    "predictions = predict(test_X.values)\n",
    "predictions = [round(num) for num in predictions]"
   ]
  },
  {
   "cell_type": "code",
   "execution_count": 39,
   "metadata": {},
   "outputs": [
    {
     "data": {
      "text/plain": [
       "0.84656"
      ]
     },
     "execution_count": 39,
     "metadata": {},
     "output_type": "execute_result"
    }
   ],
   "source": [
    "from sklearn.metrics import accuracy_score\n",
    "accuracy_score(test_y, predictions)"
   ]
  },
  {
   "cell_type": "markdown",
   "metadata": {},
   "source": [
    "**Question:** How does this model compare to the XGBoost model you created earlier? Why might these two models perform differently on this dataset? Which do *you* think is better for sentiment analysis?"
   ]
  },
  {
   "cell_type": "markdown",
   "metadata": {},
   "source": [
    "**Answer:**\n",
    "\n",
    "1. RNN based model seem to perform little better here.\n",
    "2. The reason may be that RNN consideres a sequence of words over time rather than only current words. It does not lose history.\n",
    "3. It must be noted that I had stopped training post 10 epochs (had issues in getting GPU enabled). Had I continued, it may have improved."
   ]
  },
  {
   "cell_type": "markdown",
   "metadata": {},
   "source": [
    "### (TODO) More testing\n",
    "\n",
    "We now have a trained model which has been deployed and which we can send processed reviews to and which returns the predicted sentiment. However, ultimately we would like to be able to send our model an unprocessed review. That is, we would like to send the review itself as a string. For example, suppose we wish to send the following review to our model."
   ]
  },
  {
   "cell_type": "code",
   "execution_count": 45,
   "metadata": {},
   "outputs": [],
   "source": [
    "test_review = 'The simplest pleasures in life are the best, and this film is one of them. Combining a rather basic storyline of love and adventure this movie transcends the usual weekend fair with wit and unmitigated charm. Amazing and awesome'"
   ]
  },
  {
   "cell_type": "markdown",
   "metadata": {},
   "source": [
    "The question we now need to answer is, how do we send this review to our model?\n",
    "\n",
    "Recall in the first section of this notebook we did a bunch of data processing to the IMDb dataset. In particular, we did two specific things to the provided reviews.\n",
    " - Removed any html tags and stemmed the input\n",
    " - Encoded the review as a sequence of integers using `word_dict`\n",
    " \n",
    "In order process the review we will need to repeat these two steps.\n",
    "\n",
    "**TODO**: Using the `review_to_words` and `convert_and_pad` methods from section one, convert `test_review` into a numpy array `test_data` suitable to send to our model. Remember that our model expects input of the form `review_length, review[500]`."
   ]
  },
  {
   "cell_type": "code",
   "execution_count": 48,
   "metadata": {},
   "outputs": [],
   "source": [
    "# TODO: Convert test_review into a form usable by the model and save the results in test_data\n",
    "test_review = 'Amazing movie awesome acting very good'\n",
    "test_data = [review_to_words(test_review)]\n",
    "test_data, test_data_len = convert_and_pad_data(word_dict, test_data)\n",
    "#test_data = None"
   ]
  },
  {
   "cell_type": "markdown",
   "metadata": {},
   "source": [
    "Now that we have processed the review, we can send the resulting array to our model to predict the sentiment of the review."
   ]
  },
  {
   "cell_type": "code",
   "execution_count": 49,
   "metadata": {},
   "outputs": [
    {
     "data": {
      "text/plain": [
       "array(0.96503854, dtype=float32)"
      ]
     },
     "execution_count": 49,
     "metadata": {},
     "output_type": "execute_result"
    }
   ],
   "source": [
    "predictor.predict(test_data)"
   ]
  },
  {
   "cell_type": "markdown",
   "metadata": {},
   "source": [
    "Since the return value of our model is close to `1`, we can be certain that the review we submitted is positive."
   ]
  },
  {
   "cell_type": "markdown",
   "metadata": {},
   "source": [
    "### Delete the endpoint\n",
    "\n",
    "Of course, just like in the XGBoost notebook, once we've deployed an endpoint it continues to run until we tell it to shut down. Since we are done using our endpoint for now, we can delete it."
   ]
  },
  {
   "cell_type": "code",
   "execution_count": 50,
   "metadata": {},
   "outputs": [
    {
     "name": "stderr",
     "output_type": "stream",
     "text": [
      "INFO:sagemaker:Deleting endpoint with name: sagemaker-pytorch-2019-01-18-15-02-08-248\n"
     ]
    }
   ],
   "source": [
    "estimator.delete_endpoint()"
   ]
  },
  {
   "cell_type": "markdown",
   "metadata": {},
   "source": [
    "## Step 6 (again) - Deploy the model for the web app\n",
    "\n",
    "Now that we know that our model is working, it's time to create some custom inference code so that we can send the model a review which has not been processed and have it determine the sentiment of the review.\n",
    "\n",
    "As we saw above, by default the estimator which we created, when deployed, will use the entry script and directory which we provided when creating the model. However, since we now wish to accept a string as input and our model expects a processed review, we need to write some custom inference code.\n",
    "\n",
    "We will store the code that we write in the `serve` directory. Provided in this directory is the `model.py` file that we used to construct our model, a `utils.py` file which contains the `review_to_words` and `convert_and_pad` pre-processing functions which we used during the initial data processing, and `predict.py`, the file which will contain our custom inference code. Note also that `requirements.txt` is present which will tell SageMaker what Python libraries are required by our custom inference code.\n",
    "\n",
    "When deploying a PyTorch model in SageMaker, you are expected to provide four functions which the SageMaker inference container will use.\n",
    " - `model_fn`: This function is the same function that we used in the training script and it tells SageMaker how to load our model.\n",
    " - `input_fn`: This function receives the raw serialized input that has been sent to the model's endpoint and its job is to de-serialize and make the input available for the inference code.\n",
    " - `output_fn`: This function takes the output of the inference code and its job is to serialize this output and return it to the caller of the model's endpoint.\n",
    " - `predict_fn`: The heart of the inference script, this is where the actual prediction is done and is the function which you will need to complete.\n",
    "\n",
    "For the simple website that we are constructing during this project, the `input_fn` and `output_fn` methods are relatively straightforward. We only require being able to accept a string as input and we expect to return a single value as output. You might imagine though that in a more complex application the input or output may be image data or some other binary data which would require some effort to serialize.\n",
    "\n",
    "### (TODO) Writing inference code\n",
    "\n",
    "Before writing our custom inference code, we will begin by taking a look at the code which has been provided."
   ]
  },
  {
   "cell_type": "code",
   "execution_count": 13,
   "metadata": {},
   "outputs": [
    {
     "name": "stdout",
     "output_type": "stream",
     "text": [
      "\u001b[34mimport\u001b[39;49;00m \u001b[04m\u001b[36margparse\u001b[39;49;00m\r\n",
      "\u001b[34mimport\u001b[39;49;00m \u001b[04m\u001b[36mjson\u001b[39;49;00m\r\n",
      "\u001b[34mimport\u001b[39;49;00m \u001b[04m\u001b[36mos\u001b[39;49;00m\r\n",
      "\u001b[34mimport\u001b[39;49;00m \u001b[04m\u001b[36mpickle\u001b[39;49;00m\r\n",
      "\u001b[34mimport\u001b[39;49;00m \u001b[04m\u001b[36msys\u001b[39;49;00m\r\n",
      "\u001b[34mimport\u001b[39;49;00m \u001b[04m\u001b[36msagemaker_containers\u001b[39;49;00m\r\n",
      "\u001b[34mimport\u001b[39;49;00m \u001b[04m\u001b[36mpandas\u001b[39;49;00m \u001b[34mas\u001b[39;49;00m \u001b[04m\u001b[36mpd\u001b[39;49;00m\r\n",
      "\u001b[34mimport\u001b[39;49;00m \u001b[04m\u001b[36mnumpy\u001b[39;49;00m \u001b[34mas\u001b[39;49;00m \u001b[04m\u001b[36mnp\u001b[39;49;00m\r\n",
      "\u001b[34mimport\u001b[39;49;00m \u001b[04m\u001b[36mtorch\u001b[39;49;00m\r\n",
      "\u001b[34mimport\u001b[39;49;00m \u001b[04m\u001b[36mtorch.nn\u001b[39;49;00m \u001b[34mas\u001b[39;49;00m \u001b[04m\u001b[36mnn\u001b[39;49;00m\r\n",
      "\u001b[34mimport\u001b[39;49;00m \u001b[04m\u001b[36mtorch.optim\u001b[39;49;00m \u001b[34mas\u001b[39;49;00m \u001b[04m\u001b[36moptim\u001b[39;49;00m\r\n",
      "\u001b[34mimport\u001b[39;49;00m \u001b[04m\u001b[36mtorch.utils.data\u001b[39;49;00m\r\n",
      "\r\n",
      "\u001b[34mfrom\u001b[39;49;00m \u001b[04m\u001b[36mmodel\u001b[39;49;00m \u001b[34mimport\u001b[39;49;00m LSTMClassifier\r\n",
      "\r\n",
      "\u001b[34mfrom\u001b[39;49;00m \u001b[04m\u001b[36mutils\u001b[39;49;00m \u001b[34mimport\u001b[39;49;00m review_to_words, convert_and_pad\r\n",
      "\r\n",
      "\u001b[34mdef\u001b[39;49;00m \u001b[32mmodel_fn\u001b[39;49;00m(model_dir):\r\n",
      "    \u001b[33m\"\"\"Load the PyTorch model from the `model_dir` directory.\"\"\"\u001b[39;49;00m\r\n",
      "    \u001b[34mprint\u001b[39;49;00m(\u001b[33m\"\u001b[39;49;00m\u001b[33mLoading model.\u001b[39;49;00m\u001b[33m\"\u001b[39;49;00m)\r\n",
      "\r\n",
      "    \u001b[37m# First, load the parameters used to create the model.\u001b[39;49;00m\r\n",
      "    model_info = {}\r\n",
      "    model_info_path = os.path.join(model_dir, \u001b[33m'\u001b[39;49;00m\u001b[33mmodel_info.pth\u001b[39;49;00m\u001b[33m'\u001b[39;49;00m)\r\n",
      "    \u001b[34mwith\u001b[39;49;00m \u001b[36mopen\u001b[39;49;00m(model_info_path, \u001b[33m'\u001b[39;49;00m\u001b[33mrb\u001b[39;49;00m\u001b[33m'\u001b[39;49;00m) \u001b[34mas\u001b[39;49;00m f:\r\n",
      "        model_info = torch.load(f)\r\n",
      "\r\n",
      "    \u001b[34mprint\u001b[39;49;00m(\u001b[33m\"\u001b[39;49;00m\u001b[33mmodel_info: {}\u001b[39;49;00m\u001b[33m\"\u001b[39;49;00m.format(model_info))\r\n",
      "\r\n",
      "    \u001b[37m# Determine the device and construct the model.\u001b[39;49;00m\r\n",
      "    device = torch.device(\u001b[33m\"\u001b[39;49;00m\u001b[33mcuda\u001b[39;49;00m\u001b[33m\"\u001b[39;49;00m \u001b[34mif\u001b[39;49;00m torch.cuda.is_available() \u001b[34melse\u001b[39;49;00m \u001b[33m\"\u001b[39;49;00m\u001b[33mcpu\u001b[39;49;00m\u001b[33m\"\u001b[39;49;00m)\r\n",
      "    model = LSTMClassifier(model_info[\u001b[33m'\u001b[39;49;00m\u001b[33membedding_dim\u001b[39;49;00m\u001b[33m'\u001b[39;49;00m], model_info[\u001b[33m'\u001b[39;49;00m\u001b[33mhidden_dim\u001b[39;49;00m\u001b[33m'\u001b[39;49;00m], model_info[\u001b[33m'\u001b[39;49;00m\u001b[33mvocab_size\u001b[39;49;00m\u001b[33m'\u001b[39;49;00m])\r\n",
      "\r\n",
      "    \u001b[37m# Load the store model parameters.\u001b[39;49;00m\r\n",
      "    model_path = os.path.join(model_dir, \u001b[33m'\u001b[39;49;00m\u001b[33mmodel.pth\u001b[39;49;00m\u001b[33m'\u001b[39;49;00m)\r\n",
      "    \u001b[34mwith\u001b[39;49;00m \u001b[36mopen\u001b[39;49;00m(model_path, \u001b[33m'\u001b[39;49;00m\u001b[33mrb\u001b[39;49;00m\u001b[33m'\u001b[39;49;00m) \u001b[34mas\u001b[39;49;00m f:\r\n",
      "        model.load_state_dict(torch.load(f))\r\n",
      "\r\n",
      "    \u001b[37m# Load the saved word_dict.\u001b[39;49;00m\r\n",
      "    word_dict_path = os.path.join(model_dir, \u001b[33m'\u001b[39;49;00m\u001b[33mword_dict.pkl\u001b[39;49;00m\u001b[33m'\u001b[39;49;00m)\r\n",
      "    \u001b[34mwith\u001b[39;49;00m \u001b[36mopen\u001b[39;49;00m(word_dict_path, \u001b[33m'\u001b[39;49;00m\u001b[33mrb\u001b[39;49;00m\u001b[33m'\u001b[39;49;00m) \u001b[34mas\u001b[39;49;00m f:\r\n",
      "        model.word_dict = pickle.load(f)\r\n",
      "\r\n",
      "    model.to(device).eval()\r\n",
      "\r\n",
      "    \u001b[34mprint\u001b[39;49;00m(\u001b[33m\"\u001b[39;49;00m\u001b[33mDone loading model.\u001b[39;49;00m\u001b[33m\"\u001b[39;49;00m)\r\n",
      "    \u001b[34mreturn\u001b[39;49;00m model\r\n",
      "\r\n",
      "\u001b[34mdef\u001b[39;49;00m \u001b[32minput_fn\u001b[39;49;00m(serialized_input_data, content_type):\r\n",
      "    \u001b[34mprint\u001b[39;49;00m(\u001b[33m'\u001b[39;49;00m\u001b[33mDeserializing the input data.\u001b[39;49;00m\u001b[33m'\u001b[39;49;00m)\r\n",
      "    \u001b[34mif\u001b[39;49;00m content_type == \u001b[33m'\u001b[39;49;00m\u001b[33mtext/plain\u001b[39;49;00m\u001b[33m'\u001b[39;49;00m:\r\n",
      "        data = serialized_input_data.decode(\u001b[33m'\u001b[39;49;00m\u001b[33mutf-8\u001b[39;49;00m\u001b[33m'\u001b[39;49;00m)\r\n",
      "        \u001b[34mreturn\u001b[39;49;00m data\r\n",
      "    \u001b[34mraise\u001b[39;49;00m \u001b[36mException\u001b[39;49;00m(\u001b[33m'\u001b[39;49;00m\u001b[33mRequested unsupported ContentType in content_type: \u001b[39;49;00m\u001b[33m'\u001b[39;49;00m + content_type)\r\n",
      "\r\n",
      "\u001b[34mdef\u001b[39;49;00m \u001b[32moutput_fn\u001b[39;49;00m(prediction_output, accept):\r\n",
      "    \u001b[34mprint\u001b[39;49;00m(\u001b[33m'\u001b[39;49;00m\u001b[33mSerializing the generated output.\u001b[39;49;00m\u001b[33m'\u001b[39;49;00m)\r\n",
      "    \u001b[34mreturn\u001b[39;49;00m \u001b[36mstr\u001b[39;49;00m(prediction_output)\r\n",
      "\r\n",
      "\u001b[34mdef\u001b[39;49;00m \u001b[32mpredict_fn\u001b[39;49;00m(input_data, model):\r\n",
      "    \u001b[34mprint\u001b[39;49;00m(\u001b[33m'\u001b[39;49;00m\u001b[33mInferring sentiment of input data.\u001b[39;49;00m\u001b[33m'\u001b[39;49;00m)\r\n",
      "\r\n",
      "    device = torch.device(\u001b[33m\"\u001b[39;49;00m\u001b[33mcuda\u001b[39;49;00m\u001b[33m\"\u001b[39;49;00m \u001b[34mif\u001b[39;49;00m torch.cuda.is_available() \u001b[34melse\u001b[39;49;00m \u001b[33m\"\u001b[39;49;00m\u001b[33mcpu\u001b[39;49;00m\u001b[33m\"\u001b[39;49;00m)\r\n",
      "    \r\n",
      "    \u001b[34mif\u001b[39;49;00m model.word_dict \u001b[35mis\u001b[39;49;00m \u001b[36mNone\u001b[39;49;00m:\r\n",
      "        \u001b[34mraise\u001b[39;49;00m \u001b[36mException\u001b[39;49;00m(\u001b[33m'\u001b[39;49;00m\u001b[33mModel has not been loaded properly, no word_dict.\u001b[39;49;00m\u001b[33m'\u001b[39;49;00m)\r\n",
      "    \r\n",
      "    \u001b[37m# TODO: Process input_data so that it is ready to be sent to our model.\u001b[39;49;00m\r\n",
      "    \u001b[37m#       You should produce two variables:\u001b[39;49;00m\r\n",
      "    \u001b[37m#         data_X   - A sequence of length 500 which represents the converted review\u001b[39;49;00m\r\n",
      "    \u001b[37m#         data_len - The length of the review\u001b[39;49;00m\r\n",
      "    \r\n",
      "    data = review_to_words(input_data)\r\n",
      "    data_X, data_len = convert_and_pad(model.word_dict, data)\r\n",
      "    \r\n",
      "    \u001b[37m#data_X = None\u001b[39;49;00m\r\n",
      "    \u001b[37m#data_len = None\u001b[39;49;00m\r\n",
      "\r\n",
      "    \u001b[37m# Using data_X and data_len we construct an appropriate input tensor. Remember\u001b[39;49;00m\r\n",
      "    \u001b[37m# that our model expects input data of the form 'len, review[500]'.\u001b[39;49;00m\r\n",
      "    data_pack = np.hstack((data_len, data_X))\r\n",
      "    data_pack = data_pack.reshape(\u001b[34m1\u001b[39;49;00m, -\u001b[34m1\u001b[39;49;00m)\r\n",
      "    \r\n",
      "    data = torch.from_numpy(data_pack)\r\n",
      "    data = data.to(device)\r\n",
      "\r\n",
      "    \u001b[37m# Make sure to put the model into evaluation mode\u001b[39;49;00m\r\n",
      "    model.eval()\r\n",
      "\r\n",
      "    \u001b[37m# TODO: Compute the result of applying the model to the input data. The variable `result` should\u001b[39;49;00m\r\n",
      "    \u001b[37m#       be a numpy array which contains a single integer which is either 1 or 0\u001b[39;49;00m\r\n",
      "\r\n",
      "    result = model.forward(data)\r\n",
      "    \u001b[34mprint\u001b[39;49;00m(result)\r\n",
      "    result = result.data.numpy()\r\n",
      "    \u001b[34mprint\u001b[39;49;00m(result)\r\n",
      "    result = np.round(result)\r\n",
      "    \u001b[34mprint\u001b[39;49;00m(result)\r\n",
      "    result = np.array(\u001b[36mint\u001b[39;49;00m(result))\r\n",
      "    \u001b[34mreturn\u001b[39;49;00m result\r\n"
     ]
    }
   ],
   "source": [
    "!pygmentize serve/predict.py"
   ]
  },
  {
   "cell_type": "markdown",
   "metadata": {},
   "source": [
    "As mentioned earlier, the `model_fn` method is the same as the one provided in the training code and the `input_fn` and `output_fn` methods are very simple and your task will be to complete the `predict_fn` method. Make sure that you save the completed file as `predict.py` in the `serve` directory.\n",
    "\n",
    "**TODO**: Complete the `predict_fn()` method in the `serve/predict.py` file."
   ]
  },
  {
   "cell_type": "markdown",
   "metadata": {},
   "source": [
    "### Deploying the model\n",
    "\n",
    "Now that the custom inference code has been written, we will create and deploy our model. To begin with, we need to construct a new PyTorchModel object which points to the model artifacts created during training and also points to the inference code that we wish to use. Then we can call the deploy method to launch the deployment container.\n",
    "\n",
    "**NOTE**: The default behaviour for a deployed PyTorch model is to assume that any input passed to the predictor is a `numpy` array. In our case we want to send a string so we need to construct a simple wrapper around the `RealTimePredictor` class to accomodate simple strings. In a more complicated situation you may want to provide a serialization object, for example if you wanted to sent image data."
   ]
  },
  {
   "cell_type": "code",
   "execution_count": 52,
   "metadata": {},
   "outputs": [
    {
     "name": "stderr",
     "output_type": "stream",
     "text": [
      "INFO:sagemaker:Creating model with name: sagemaker-pytorch-2019-01-18-17-26-11-241\n",
      "INFO:sagemaker:Creating endpoint with name sagemaker-pytorch-2019-01-18-17-26-11-241\n"
     ]
    },
    {
     "name": "stdout",
     "output_type": "stream",
     "text": [
      "---------------------------------------------------------------------------!"
     ]
    }
   ],
   "source": [
    "from sagemaker.predictor import RealTimePredictor\n",
    "from sagemaker.pytorch import PyTorchModel\n",
    "\n",
    "class StringPredictor(RealTimePredictor):\n",
    "    def __init__(self, endpoint_name, sagemaker_session):\n",
    "        super(StringPredictor, self).__init__(endpoint_name, sagemaker_session, content_type='text/plain')\n",
    "\n",
    "model = PyTorchModel(model_data=estimator.model_data,\n",
    "                     role = role,\n",
    "                     framework_version='0.4.0',\n",
    "                     entry_point='predict.py',\n",
    "                     source_dir='serve',\n",
    "                     predictor_cls=StringPredictor)\n",
    "predictor = model.deploy(initial_instance_count=1, instance_type='ml.m4.xlarge')"
   ]
  },
  {
   "cell_type": "code",
   "execution_count": 10,
   "metadata": {},
   "outputs": [
    {
     "name": "stderr",
     "output_type": "stream",
     "text": [
      "INFO:sagemaker:Creating model with name: sagemaker-pytorch-2019-01-19-08-10-26-149\n",
      "INFO:sagemaker:Creating endpoint with name sagemaker-pytorch-2019-01-19-08-10-26-149\n"
     ]
    },
    {
     "name": "stdout",
     "output_type": "stream",
     "text": [
      "--------------------------------------------------------------------------!"
     ]
    }
   ],
   "source": [
    "## Using this code when I had already trained the model above and needed to recreate the endpoint without training again\n",
    "from sagemaker.predictor import RealTimePredictor\n",
    "from sagemaker.pytorch import PyTorchModel\n",
    "\n",
    "class StringPredictor(RealTimePredictor):\n",
    "    def __init__(self, endpoint_name, sagemaker_session):\n",
    "        super(StringPredictor, self).__init__(endpoint_name, sagemaker_session, content_type='text/plain')\n",
    "\n",
    "mymodel = PyTorchModel(model_data='s3://sagemaker-us-east-2-534904874978/sagemaker-pytorch-2019-01-18-15-02-08-248/output/model.tar.gz',\n",
    "                     role = role,\n",
    "                     framework_version='0.4.0',\n",
    "                     entry_point='predict.py',\n",
    "                     source_dir='serve',\n",
    "                     predictor_cls=StringPredictor)\n",
    "predictor = mymodel.deploy(initial_instance_count=1, instance_type='ml.m4.xlarge')"
   ]
  },
  {
   "cell_type": "markdown",
   "metadata": {},
   "source": [
    "### Testing the model\n",
    "\n",
    "Now that we have deployed our model with the custom inference code, we should test to see if everything is working. Here we test our model by loading the first `250` positive and negative reviews and send them to the endpoint, then collect the results. The reason for only sending some of the data is that the amount of time it takes for our model to process the input and then perform inference is quite long and so testing the entire data set would be prohibitive."
   ]
  },
  {
   "cell_type": "code",
   "execution_count": 16,
   "metadata": {},
   "outputs": [],
   "source": [
    "import glob\n",
    "import os\n",
    "def test_reviews(data_dir='../data/aclImdb', stop=50):\n",
    "    \n",
    "    results = []\n",
    "    ground = []\n",
    "    \n",
    "    # We make sure to test both positive and negative reviews    \n",
    "    for sentiment in ['pos', 'neg']:\n",
    "        \n",
    "        path = os.path.join(data_dir, 'test', sentiment, '*.txt')\n",
    "        files = glob.glob(path)\n",
    "        \n",
    "        files_read = 0\n",
    "        \n",
    "        print('Starting ', sentiment, ' files')\n",
    "        \n",
    "        # Iterate through the files and send them to the predictor\n",
    "        for f in files:\n",
    "            with open(f) as review:\n",
    "                # First, we store the ground truth (was the review positive or negative)\n",
    "                if sentiment == 'pos':\n",
    "                    ground.append(1)\n",
    "                else:\n",
    "                    ground.append(0)\n",
    "                # Read in the review and convert to 'utf-8' for transmission via HTTP\n",
    "                review_input = review.read().encode('utf-8')\n",
    "                # Send the review to the predictor and store the results\n",
    "                results.append(int(predictor.predict(review_input)))\n",
    "                \n",
    "            # Sending reviews to our endpoint one at a time takes a while so we\n",
    "            # only send a small number of reviews\n",
    "            files_read += 1\n",
    "            if files_read == stop:\n",
    "                break\n",
    "            \n",
    "    return ground, results"
   ]
  },
  {
   "cell_type": "code",
   "execution_count": 17,
   "metadata": {},
   "outputs": [
    {
     "name": "stdout",
     "output_type": "stream",
     "text": [
      "Starting  pos  files\n",
      "Starting  neg  files\n"
     ]
    }
   ],
   "source": [
    "ground, results = test_reviews()"
   ]
  },
  {
   "cell_type": "code",
   "execution_count": 18,
   "metadata": {},
   "outputs": [
    {
     "data": {
      "text/plain": [
       "0.87"
      ]
     },
     "execution_count": 18,
     "metadata": {},
     "output_type": "execute_result"
    }
   ],
   "source": [
    "from sklearn.metrics import accuracy_score\n",
    "accuracy_score(ground, results)"
   ]
  },
  {
   "cell_type": "markdown",
   "metadata": {},
   "source": [
    "As an additional test, we can try sending the `test_review` that we looked at earlier."
   ]
  },
  {
   "cell_type": "code",
   "execution_count": 12,
   "metadata": {},
   "outputs": [
    {
     "name": "stdout",
     "output_type": "stream",
     "text": [
      "Review\n",
      "Awesome movie and amazing acting\n",
      "Sentiment Score\n",
      "b'1'\n",
      "Review\n",
      "Pathetic movie and fake acting\n",
      "Sentiment Score\n",
      "b'0'\n"
     ]
    }
   ],
   "source": [
    "test_review1 = 'Awesome movie and amazing acting'\n",
    "print(\"Review\")\n",
    "print(test_review1)\n",
    "\n",
    "print(\"Sentiment Score\")\n",
    "print(predictor.predict(test_review1))\n",
    "\n",
    "test_review1 = 'Pathetic movie and fake acting'\n",
    "print(\"Review\")\n",
    "print(test_review1)\n",
    "\n",
    "print(\"Sentiment Score\")\n",
    "print(predictor.predict(test_review1))\n"
   ]
  },
  {
   "cell_type": "markdown",
   "metadata": {},
   "source": [
    "Now that we know our endpoint is working as expected, we can set up the web page that will interact with it. If you don't have time to finish the project now, make sure to skip down to the end of this notebook and shut down your endpoint. You can deploy it again when you come back."
   ]
  },
  {
   "cell_type": "markdown",
   "metadata": {},
   "source": [
    "## Step 7 (again): Use the model for the web app\n",
    "\n",
    "> **TODO:** This entire section and the next contain tasks for you to complete, mostly using the AWS console.\n",
    "\n",
    "So far we have been accessing our model endpoint by constructing a predictor object which uses the endpoint and then just using the predictor object to perform inference. What if we wanted to create a web app which accessed our model? The way things are set up currently makes that not possible since in order to access a SageMaker endpoint the app would first have to authenticate with AWS using an IAM role which included access to SageMaker endpoints. However, there is an easier way! We just need to use some additional AWS services.\n",
    "\n",
    "<img src=\"Web App Diagram.svg\">\n",
    "\n",
    "The diagram above gives an overview of how the various services will work together. On the far right is the model which we trained above and which is deployed using SageMaker. On the far left is our web app that collects a user's movie review, sends it off and expects a positive or negative sentiment in return.\n",
    "\n",
    "In the middle is where some of the magic happens. We will construct a Lambda function, which you can think of as a straightforward Python function that can be executed whenever a specified event occurs. We will give this function permission to send and recieve data from a SageMaker endpoint.\n",
    "\n",
    "Lastly, the method we will use to execute the Lambda function is a new endpoint that we will create using API Gateway. This endpoint will be a url that listens for data to be sent to it. Once it gets some data it will pass that data on to the Lambda function and then return whatever the Lambda function returns. Essentially it will act as an interface that lets our web app communicate with the Lambda function.\n",
    "\n",
    "### Setting up a Lambda function\n",
    "\n",
    "The first thing we are going to do is set up a Lambda function. This Lambda function will be executed whenever our public API has data sent to it. When it is executed it will receive the data, perform any sort of processing that is required, send the data (the review) to the SageMaker endpoint we've created and then return the result.\n",
    "\n",
    "#### Part A: Create an IAM Role for the Lambda function\n",
    "\n",
    "Since we want the Lambda function to call a SageMaker endpoint, we need to make sure that it has permission to do so. To do this, we will construct a role that we can later give the Lambda function.\n",
    "\n",
    "Using the AWS Console, navigate to the **IAM** page and click on **Roles**. Then, click on **Create role**. Make sure that the **AWS service** is the type of trusted entity selected and choose **Lambda** as the service that will use this role, then click **Next: Permissions**.\n",
    "\n",
    "In the search box type `sagemaker` and select the check box next to the **AmazonSageMakerFullAccess** policy. Then, click on **Next: Review**.\n",
    "\n",
    "Lastly, give this role a name. Make sure you use a name that you will remember later on, for example `LambdaSageMakerRole`. Then, click on **Create role**.\n",
    "\n",
    "#### Part B: Create a Lambda function\n",
    "\n",
    "Now it is time to actually create the Lambda function.\n",
    "\n",
    "Using the AWS Console, navigate to the AWS Lambda page and click on **Create a function**. When you get to the next page, make sure that **Author from scratch** is selected. Now, name your Lambda function, using a name that you will remember later on, for example `sentiment_analysis_func`. Make sure that the **Python 3.6** runtime is selected and then choose the role that you created in the previous part. Then, click on **Create Function**.\n",
    "\n",
    "On the next page you will see some information about the Lambda function you've just created. If you scroll down you should see an editor in which you can write the code that will be executed when your Lambda function is triggered. In our example, we will use the code below. \n",
    "\n",
    "```python\n",
    "# We need to use the low-level library to interact with SageMaker since the SageMaker API\n",
    "# is not available natively through Lambda.\n",
    "import boto3\n",
    "\n",
    "def lambda_handler(event, context):\n",
    "\n",
    "    # The SageMaker runtime is what allows us to invoke the endpoint that we've created.\n",
    "    runtime = boto3.Session().client('sagemaker-runtime')\n",
    "\n",
    "    # Now we use the SageMaker runtime to invoke our endpoint, sending the review we were given\n",
    "    response = runtime.invoke_endpoint(EndpointName = '**ENDPOINT NAME HERE**',    # The name of the endpoint we created\n",
    "                                       ContentType = 'text/plain',                 # The data format that is expected\n",
    "                                       Body = event['body'])                       # The actual review\n",
    "\n",
    "    # The response is an HTTP response whose body contains the result of our inference\n",
    "    result = response['Body'].read().decode('utf-8')\n",
    "\n",
    "    return {\n",
    "        'statusCode' : 200,\n",
    "        'headers' : { 'Content-Type' : 'text/plain', 'Access-Control-Allow-Origin' : '*' },\n",
    "        'body' : result\n",
    "    }\n",
    "```\n",
    "\n",
    "Once you have copy and pasted the code above into the Lambda code editor, replace the `**ENDPOINT NAME HERE**` portion with the name of the endpoint that we deployed earlier. You can determine the name of the endpoint using the code cell below."
   ]
  },
  {
   "cell_type": "code",
   "execution_count": 19,
   "metadata": {},
   "outputs": [
    {
     "data": {
      "text/plain": [
       "'sagemaker-pytorch-2019-01-19-08-10-26-149'"
      ]
     },
     "execution_count": 19,
     "metadata": {},
     "output_type": "execute_result"
    }
   ],
   "source": [
    "predictor.endpoint"
   ]
  },
  {
   "cell_type": "markdown",
   "metadata": {},
   "source": [
    "Once you have added the endpoint name to the Lambda function, click on **Save**. Your Lambda function is now up and running. Next we need to create a way for our web app to execute the Lambda function.\n",
    "\n",
    "### Setting up API Gateway\n",
    "\n",
    "Now that our Lambda function is set up, it is time to create a new API using API Gateway that will trigger the Lambda function we have just created.\n",
    "\n",
    "Using AWS Console, navigate to **Amazon API Gateway** and then click on **Get started**.\n",
    "\n",
    "On the next page, make sure that **New API** is selected and give the new api a name, for example, `sentiment_analysis_api`. Then, click on **Create API**.\n",
    "\n",
    "Now we have created an API, however it doesn't currently do anything. What we want it to do is to trigger the Lambda function that we created earlier.\n",
    "\n",
    "Select the **Actions** dropdown menu and click **Create Method**. A new blank method will be created, select its dropdown menu and select **POST**, then click on the check mark beside it.\n",
    "\n",
    "For the integration point, make sure that **Lambda Function** is selected and click on the **Use Lambda Proxy integration**. This option makes sure that the data that is sent to the API is then sent directly to the Lambda function with no processing. It also means that the return value must be a proper response object as it will also not be processed by API Gateway.\n",
    "\n",
    "Type the name of the Lambda function you created earlier into the **Lambda Function** text entry box and then click on **Save**. Click on **OK** in the pop-up box that then appears, giving permission to API Gateway to invoke the Lambda function you created.\n",
    "\n",
    "The last step in creating the API Gateway is to select the **Actions** dropdown and click on **Deploy API**. You will need to create a new Deployment stage and name it anything you like, for example `prod`.\n",
    "\n",
    "You have now successfully set up a public API to access your SageMaker model. Make sure to copy or write down the URL provided to invoke your newly created public API as this will be needed in the next step. This URL can be found at the top of the page, highlighted in blue next to the text **Invoke URL**."
   ]
  },
  {
   "cell_type": "markdown",
   "metadata": {},
   "source": [
    "## Step 4: Deploying our web app\n",
    "\n",
    "Now that we have a publicly available API, we can start using it in a web app. For our purposes, we have provided a simple static html file which can make use of the public api you created earlier.\n",
    "\n",
    "In the `website` folder there should be a file called `index.html`. Download the file to your computer and open that file up in a text editor of your choice. There should be a line which contains **\\*\\*REPLACE WITH PUBLIC API URL\\*\\***. Replace this string with the url that you wrote down in the last step and then save the file.\n",
    "\n",
    "Now, if you open `index.html` on your local computer, your browser will behave as a local web server and you can use the provided site to interact with your SageMaker model.\n",
    "\n",
    "If you'd like to go further, you can host this html file anywhere you'd like, for example using github or hosting a static site on Amazon's S3. Once you have done this you can share the link with anyone you'd like and have them play with it too!\n",
    "\n",
    "> **Important Note** In order for the web app to communicate with the SageMaker endpoint, the endpoint has to actually be deployed and running. This means that you are paying for it. Make sure that the endpoint is running when you want to use the web app but that you shut it down when you don't need it, otherwise you will end up with a surprisingly large AWS bill.\n",
    "\n",
    "**TODO:** Make sure that you include the edited `index.html` file in your project submission."
   ]
  },
  {
   "cell_type": "markdown",
   "metadata": {},
   "source": [
    "Now that your web app is working, trying playing around with it and see how well it works.\n",
    "\n",
    "**Question**: Give an example of a review that you entered into your web app. What was the predicted sentiment of your example review?"
   ]
  },
  {
   "cell_type": "markdown",
   "metadata": {},
   "source": [
    "**Answer:**\n",
    "\n",
    "I tried two Bollywood movie reviews directly from IMDB website. \n",
    "\n",
    "### Movie: Sholay (1975)\n",
    "\n",
    "#### Rated: 8.2/10\n",
    "\n",
    "#### Review Link: https://www.imdb.com/review/rw2865994/?ref_=tt_urv\n",
    "\n",
    "#### Review:\n",
    "This movie is just one of the best Hindi movie i have seen. Its one of my favorite film. It has all the elements that a good Hindi movie must have. The settings of the hilly mountainous village, the dusty n tough terrain, the train sequence n the villain Gabbar played menacingly by Amjad Khan, were all awesome. Such is the impact of the villains acting is that u always remember him by his character's name frm the movie. One of the movies you remember for life. Amitabh Bachan and Dharmendra were awesome too. The character of Hema malini was cheesy n unbelieavable though. A woman riding a horse chariot that too in the cow belt area wher rape is rampant. Nevertheles the film is solid entertainment. It is a story of friendship, courage and revenge, based loosely around the concepts of Akira Kurosawa's Seven Samurai & The Magnificent Seven with shades of Once uopn a time in the west. A true cinematic masterpiece.\n",
    "\n",
    "#### Sentiment Detected by Webapp: POSITIVE\n",
    "\n",
    "\n",
    "### Movie: Aag (2007) (A remake of above movie)\n",
    "\n",
    "#### Rated: 1.9/10\n",
    "\n",
    "#### Review Link: https://www.imdb.com/review/rw2212627/?ref_=rw_urv\n",
    "\n",
    "#### Review:\n",
    "I must tell you right up front, I am certainly NOT an authority on Bollywood films and have only seen a handful. However, if you've never seen one, DON'T start with this one! I have greatly enjoyed the ones I've seen up until this one, but I just couldn't stand this one. I also must tell you up front that I could not finish this film--it was that annoying. So why was it so annoying? \n",
    "\n",
    "1. There is a character named 'Rambha' in the film. He is even more annoying than Jar-Jar Binks--which I never would have believed would have been possible. He is so #@^!# annoying!! He spoke in a falsetto voice and I think was meant to be comic relief. Instead, he just grated on my nerves and wanted him to die...slowly! His voice, his mannerisms and his obnoxiousness--he just didn't seem to shut up and dominated every scene he was in--and he needed to die! \n",
    "\n",
    "2. The heroes had the amazing ability to dodge AK-47 bullets with ease. I kid you not--there was a scene where several unarmed guys took on a small army of guys with these assault rifles!! And, again and again, they avoided taking a single bullet AND beat up the ruffians!!! This made Stallone's actions in \"Rambo II\" look mundane!! \n",
    "\n",
    "3. The film was so gosh-darn loud, in your face and intense--it practically made my brain bleed!! It was as if the film were made by people under the influence of meth!! Crazy camera angles, INTENSE music and action, action, action...this movie is clearly designed for someone who can't take a movie with plot and wants nearly 100% action.\n",
    "\n",
    "4. The two main characters and their actions and motivations made zero sense...none whatsoever! \n",
    "\n",
    "Perhaps if you are the most ardent action and Bollywood fan you can stand this film, but as for me I can see why it's on IMDb's infamous Bottom 100 list. Wow...this film is bad AND intensely bad!!\n",
    "\n",
    "#### Sentiment Detected by Webapp: NEGATIVE\n",
    "\n",
    "Well, that second one is really very bad...!!\n",
    "But good thing is our webapp is able to detect the sentiment correctly in both cases.\n",
    "Just out of curiosity, I went to cloudwatch logs of the endpoint to check the actual output values from our model and found that:\n",
    "\n",
    "#### Movie Sholay got score of 0.9950\n",
    "#### Movie Aag got score 1.00000e-02 *3.9941 that is close to 0.003\n",
    "\n",
    "That means, we can actually use these scores to not only tell good or bad but we can predict the scale of goodness or badness of these movies.\n",
    "\n",
    "For example, we can just multiply these scores by 10 and predict the rating on IMDB for these movies as 9.9 and 0.3 respectively."
   ]
  },
  {
   "cell_type": "markdown",
   "metadata": {},
   "source": [
    "### Experiments\n",
    "\n",
    "I concatenated both these reviews and found below interesting results:\n",
    "\n",
    "1. Concatenate Sholay then Aag (Positive and then negative) and gave this complete review as a input.\n",
    "This mimics a scenario where a review may first praise the prequel and then tells negative things in the current movie. (Prequel is better than sequel.)\n",
    "The webapp correctly identified this as a NEGATIVE review.\n",
    "\n",
    "2. Concatenated the other way round. (Prequel was pathetic but current one is good.)\n",
    "The webapp correctly identified this as a POSITIVE review.\n",
    "\n",
    "Now, this is the perfect example where RNN makes difference w.r.t. other algorithms.\n",
    "RNN sees the history of the input alongwith the current.\n",
    "A normal algorithm (which does not consider sequence into account) would classify both these as exactly the same (either positive or negative).\n",
    "But RNN is able to make the difference and can judge the flow in both the reviews. Just amazing...!!! \n"
   ]
  },
  {
   "cell_type": "markdown",
   "metadata": {},
   "source": [
    "### Delete the endpoint\n",
    "\n",
    "Remember to always shut down your endpoint if you are no longer using it. You are charged for the length of time that the endpoint is running so if you forget and leave it on you could end up with an unexpectedly large bill."
   ]
  },
  {
   "cell_type": "code",
   "execution_count": 62,
   "metadata": {},
   "outputs": [
    {
     "name": "stderr",
     "output_type": "stream",
     "text": [
      "INFO:sagemaker:Deleting endpoint with name: sagemaker-pytorch-2019-01-18-09-54-26-938\n"
     ]
    }
   ],
   "source": [
    "predictor.delete_endpoint()"
   ]
  },
  {
   "cell_type": "code",
   "execution_count": null,
   "metadata": {},
   "outputs": [],
   "source": []
  }
 ],
 "metadata": {
  "kernelspec": {
   "display_name": "conda_pytorch_p36",
   "language": "python",
   "name": "conda_pytorch_p36"
  },
  "language_info": {
   "codemirror_mode": {
    "name": "ipython",
    "version": 3
   },
   "file_extension": ".py",
   "mimetype": "text/x-python",
   "name": "python",
   "nbconvert_exporter": "python",
   "pygments_lexer": "ipython3",
   "version": "3.6.5"
  }
 },
 "nbformat": 4,
 "nbformat_minor": 2
}
